{
 "cells": [
  {
   "attachments": {},
   "cell_type": "markdown",
   "metadata": {
    "vscode": {
     "languageId": "r"
    }
   },
   "source": [
    "# Exploratory Data Analysis Checklist\n",
    "1. Formulate your question\n",
    "1. Read in your data\n",
    "1. Check the packaging\n",
    "1. Run `str()`\n",
    "1. Look at the top and the bottom of your data\n",
    "1. Check your “n”s\n",
    "1. Validate with at least one external data source\n",
    "1. Try the easy solution first\n",
    "1. Challenge your solution\n",
    "1. Follow up"
   ]
  },
  {
   "attachments": {},
   "cell_type": "markdown",
   "metadata": {},
   "source": [
    "# 1. Formulate your question\n",
    "\n",
    "For this example, we will look at an air pollution dataset from  U.S. Environmental Protection Agency (EPA).  We ask\n",
    "> \"Which counties in the United States have the highest levels of ambient ozone pollution?\"\n",
    "\n",
    "We are also interested (always) in asking\n",
    ">\"Do I have the right data to answer my question?\""
   ]
  },
  {
   "attachments": {},
   "cell_type": "markdown",
   "metadata": {},
   "source": [
    "# 2. Read in your data"
   ]
  },
  {
   "cell_type": "code",
   "execution_count": 2,
   "metadata": {
    "vscode": {
     "languageId": "r"
    }
   },
   "outputs": [],
   "source": [
    "# use readr package for faster reading of large csv files, apparently it's faster than the built in csv reader when the csvs are not complex\n",
    "library (readr)\n",
    "ozone <- readr::read_csv('hourly_44201_2014.csv', col_types='ccccinnccccccncnnccccccc')\n"
   ]
  },
  {
   "cell_type": "code",
   "execution_count": 3,
   "metadata": {
    "vscode": {
     "languageId": "r"
    }
   },
   "outputs": [
    {
     "data": {
      "text/html": [
       "<table class=\"dataframe\">\n",
       "<caption>A tibble: 6 × 24</caption>\n",
       "<thead>\n",
       "\t<tr><th scope=col>State.Code</th><th scope=col>County.Code</th><th scope=col>Site.Num</th><th scope=col>Parameter.Code</th><th scope=col>POC</th><th scope=col>Latitude</th><th scope=col>Longitude</th><th scope=col>Datum</th><th scope=col>Parameter.Name</th><th scope=col>Date.Local</th><th scope=col>⋯</th><th scope=col>Units.of.Measure</th><th scope=col>MDL</th><th scope=col>Uncertainty</th><th scope=col>Qualifier</th><th scope=col>Method.Type</th><th scope=col>Method.Code</th><th scope=col>Method.Name</th><th scope=col>State.Name</th><th scope=col>County.Name</th><th scope=col>Date.of.Last.Change</th></tr>\n",
       "\t<tr><th scope=col>&lt;chr&gt;</th><th scope=col>&lt;chr&gt;</th><th scope=col>&lt;chr&gt;</th><th scope=col>&lt;chr&gt;</th><th scope=col>&lt;int&gt;</th><th scope=col>&lt;dbl&gt;</th><th scope=col>&lt;dbl&gt;</th><th scope=col>&lt;chr&gt;</th><th scope=col>&lt;chr&gt;</th><th scope=col>&lt;chr&gt;</th><th scope=col>⋯</th><th scope=col>&lt;chr&gt;</th><th scope=col>&lt;dbl&gt;</th><th scope=col>&lt;dbl&gt;</th><th scope=col>&lt;chr&gt;</th><th scope=col>&lt;chr&gt;</th><th scope=col>&lt;chr&gt;</th><th scope=col>&lt;chr&gt;</th><th scope=col>&lt;chr&gt;</th><th scope=col>&lt;chr&gt;</th><th scope=col>&lt;chr&gt;</th></tr>\n",
       "</thead>\n",
       "<tbody>\n",
       "\t<tr><td>01</td><td>003</td><td>0010</td><td>44201</td><td>1</td><td>30.49748</td><td>-87.88026</td><td>NAD83</td><td>Ozone</td><td>2014-03-01</td><td>⋯</td><td>Parts per million</td><td>0.005</td><td>NA</td><td>NA</td><td>FEM</td><td>047</td><td>INSTRUMENTAL - ULTRA VIOLET</td><td>Alabama</td><td>Baldwin</td><td>2014-06-30</td></tr>\n",
       "\t<tr><td>01</td><td>003</td><td>0010</td><td>44201</td><td>1</td><td>30.49748</td><td>-87.88026</td><td>NAD83</td><td>Ozone</td><td>2014-03-01</td><td>⋯</td><td>Parts per million</td><td>0.005</td><td>NA</td><td>NA</td><td>FEM</td><td>047</td><td>INSTRUMENTAL - ULTRA VIOLET</td><td>Alabama</td><td>Baldwin</td><td>2014-06-30</td></tr>\n",
       "\t<tr><td>01</td><td>003</td><td>0010</td><td>44201</td><td>1</td><td>30.49748</td><td>-87.88026</td><td>NAD83</td><td>Ozone</td><td>2014-03-01</td><td>⋯</td><td>Parts per million</td><td>0.005</td><td>NA</td><td>NA</td><td>FEM</td><td>047</td><td>INSTRUMENTAL - ULTRA VIOLET</td><td>Alabama</td><td>Baldwin</td><td>2014-06-30</td></tr>\n",
       "\t<tr><td>01</td><td>003</td><td>0010</td><td>44201</td><td>1</td><td>30.49748</td><td>-87.88026</td><td>NAD83</td><td>Ozone</td><td>2014-03-01</td><td>⋯</td><td>Parts per million</td><td>0.005</td><td>NA</td><td>NA</td><td>FEM</td><td>047</td><td>INSTRUMENTAL - ULTRA VIOLET</td><td>Alabama</td><td>Baldwin</td><td>2014-06-30</td></tr>\n",
       "\t<tr><td>01</td><td>003</td><td>0010</td><td>44201</td><td>1</td><td>30.49748</td><td>-87.88026</td><td>NAD83</td><td>Ozone</td><td>2014-03-01</td><td>⋯</td><td>Parts per million</td><td>0.005</td><td>NA</td><td>NA</td><td>FEM</td><td>047</td><td>INSTRUMENTAL - ULTRA VIOLET</td><td>Alabama</td><td>Baldwin</td><td>2014-06-30</td></tr>\n",
       "\t<tr><td>01</td><td>003</td><td>0010</td><td>44201</td><td>1</td><td>30.49748</td><td>-87.88026</td><td>NAD83</td><td>Ozone</td><td>2014-03-01</td><td>⋯</td><td>Parts per million</td><td>0.005</td><td>NA</td><td>NA</td><td>FEM</td><td>047</td><td>INSTRUMENTAL - ULTRA VIOLET</td><td>Alabama</td><td>Baldwin</td><td>2014-06-30</td></tr>\n",
       "</tbody>\n",
       "</table>\n"
      ],
      "text/latex": [
       "A tibble: 6 × 24\n",
       "\\begin{tabular}{lllllllllllllllllllll}\n",
       " State.Code & County.Code & Site.Num & Parameter.Code & POC & Latitude & Longitude & Datum & Parameter.Name & Date.Local & ⋯ & Units.of.Measure & MDL & Uncertainty & Qualifier & Method.Type & Method.Code & Method.Name & State.Name & County.Name & Date.of.Last.Change\\\\\n",
       " <chr> & <chr> & <chr> & <chr> & <int> & <dbl> & <dbl> & <chr> & <chr> & <chr> & ⋯ & <chr> & <dbl> & <dbl> & <chr> & <chr> & <chr> & <chr> & <chr> & <chr> & <chr>\\\\\n",
       "\\hline\n",
       "\t 01 & 003 & 0010 & 44201 & 1 & 30.49748 & -87.88026 & NAD83 & Ozone & 2014-03-01 & ⋯ & Parts per million & 0.005 & NA & NA & FEM & 047 & INSTRUMENTAL - ULTRA VIOLET & Alabama & Baldwin & 2014-06-30\\\\\n",
       "\t 01 & 003 & 0010 & 44201 & 1 & 30.49748 & -87.88026 & NAD83 & Ozone & 2014-03-01 & ⋯ & Parts per million & 0.005 & NA & NA & FEM & 047 & INSTRUMENTAL - ULTRA VIOLET & Alabama & Baldwin & 2014-06-30\\\\\n",
       "\t 01 & 003 & 0010 & 44201 & 1 & 30.49748 & -87.88026 & NAD83 & Ozone & 2014-03-01 & ⋯ & Parts per million & 0.005 & NA & NA & FEM & 047 & INSTRUMENTAL - ULTRA VIOLET & Alabama & Baldwin & 2014-06-30\\\\\n",
       "\t 01 & 003 & 0010 & 44201 & 1 & 30.49748 & -87.88026 & NAD83 & Ozone & 2014-03-01 & ⋯ & Parts per million & 0.005 & NA & NA & FEM & 047 & INSTRUMENTAL - ULTRA VIOLET & Alabama & Baldwin & 2014-06-30\\\\\n",
       "\t 01 & 003 & 0010 & 44201 & 1 & 30.49748 & -87.88026 & NAD83 & Ozone & 2014-03-01 & ⋯ & Parts per million & 0.005 & NA & NA & FEM & 047 & INSTRUMENTAL - ULTRA VIOLET & Alabama & Baldwin & 2014-06-30\\\\\n",
       "\t 01 & 003 & 0010 & 44201 & 1 & 30.49748 & -87.88026 & NAD83 & Ozone & 2014-03-01 & ⋯ & Parts per million & 0.005 & NA & NA & FEM & 047 & INSTRUMENTAL - ULTRA VIOLET & Alabama & Baldwin & 2014-06-30\\\\\n",
       "\\end{tabular}\n"
      ],
      "text/markdown": [
       "\n",
       "A tibble: 6 × 24\n",
       "\n",
       "| State.Code &lt;chr&gt; | County.Code &lt;chr&gt; | Site.Num &lt;chr&gt; | Parameter.Code &lt;chr&gt; | POC &lt;int&gt; | Latitude &lt;dbl&gt; | Longitude &lt;dbl&gt; | Datum &lt;chr&gt; | Parameter.Name &lt;chr&gt; | Date.Local &lt;chr&gt; | ⋯ ⋯ | Units.of.Measure &lt;chr&gt; | MDL &lt;dbl&gt; | Uncertainty &lt;dbl&gt; | Qualifier &lt;chr&gt; | Method.Type &lt;chr&gt; | Method.Code &lt;chr&gt; | Method.Name &lt;chr&gt; | State.Name &lt;chr&gt; | County.Name &lt;chr&gt; | Date.of.Last.Change &lt;chr&gt; |\n",
       "|---|---|---|---|---|---|---|---|---|---|---|---|---|---|---|---|---|---|---|---|---|\n",
       "| 01 | 003 | 0010 | 44201 | 1 | 30.49748 | -87.88026 | NAD83 | Ozone | 2014-03-01 | ⋯ | Parts per million | 0.005 | NA | NA | FEM | 047 | INSTRUMENTAL - ULTRA VIOLET | Alabama | Baldwin | 2014-06-30 |\n",
       "| 01 | 003 | 0010 | 44201 | 1 | 30.49748 | -87.88026 | NAD83 | Ozone | 2014-03-01 | ⋯ | Parts per million | 0.005 | NA | NA | FEM | 047 | INSTRUMENTAL - ULTRA VIOLET | Alabama | Baldwin | 2014-06-30 |\n",
       "| 01 | 003 | 0010 | 44201 | 1 | 30.49748 | -87.88026 | NAD83 | Ozone | 2014-03-01 | ⋯ | Parts per million | 0.005 | NA | NA | FEM | 047 | INSTRUMENTAL - ULTRA VIOLET | Alabama | Baldwin | 2014-06-30 |\n",
       "| 01 | 003 | 0010 | 44201 | 1 | 30.49748 | -87.88026 | NAD83 | Ozone | 2014-03-01 | ⋯ | Parts per million | 0.005 | NA | NA | FEM | 047 | INSTRUMENTAL - ULTRA VIOLET | Alabama | Baldwin | 2014-06-30 |\n",
       "| 01 | 003 | 0010 | 44201 | 1 | 30.49748 | -87.88026 | NAD83 | Ozone | 2014-03-01 | ⋯ | Parts per million | 0.005 | NA | NA | FEM | 047 | INSTRUMENTAL - ULTRA VIOLET | Alabama | Baldwin | 2014-06-30 |\n",
       "| 01 | 003 | 0010 | 44201 | 1 | 30.49748 | -87.88026 | NAD83 | Ozone | 2014-03-01 | ⋯ | Parts per million | 0.005 | NA | NA | FEM | 047 | INSTRUMENTAL - ULTRA VIOLET | Alabama | Baldwin | 2014-06-30 |\n",
       "\n"
      ],
      "text/plain": [
       "  State.Code County.Code Site.Num Parameter.Code POC Latitude Longitude Datum\n",
       "1 01         003         0010     44201          1   30.49748 -87.88026 NAD83\n",
       "2 01         003         0010     44201          1   30.49748 -87.88026 NAD83\n",
       "3 01         003         0010     44201          1   30.49748 -87.88026 NAD83\n",
       "4 01         003         0010     44201          1   30.49748 -87.88026 NAD83\n",
       "5 01         003         0010     44201          1   30.49748 -87.88026 NAD83\n",
       "6 01         003         0010     44201          1   30.49748 -87.88026 NAD83\n",
       "  Parameter.Name Date.Local ⋯ Units.of.Measure  MDL   Uncertainty Qualifier\n",
       "1 Ozone          2014-03-01 ⋯ Parts per million 0.005 NA          NA       \n",
       "2 Ozone          2014-03-01 ⋯ Parts per million 0.005 NA          NA       \n",
       "3 Ozone          2014-03-01 ⋯ Parts per million 0.005 NA          NA       \n",
       "4 Ozone          2014-03-01 ⋯ Parts per million 0.005 NA          NA       \n",
       "5 Ozone          2014-03-01 ⋯ Parts per million 0.005 NA          NA       \n",
       "6 Ozone          2014-03-01 ⋯ Parts per million 0.005 NA          NA       \n",
       "  Method.Type Method.Code Method.Name                 State.Name County.Name\n",
       "1 FEM         047         INSTRUMENTAL - ULTRA VIOLET Alabama    Baldwin    \n",
       "2 FEM         047         INSTRUMENTAL - ULTRA VIOLET Alabama    Baldwin    \n",
       "3 FEM         047         INSTRUMENTAL - ULTRA VIOLET Alabama    Baldwin    \n",
       "4 FEM         047         INSTRUMENTAL - ULTRA VIOLET Alabama    Baldwin    \n",
       "5 FEM         047         INSTRUMENTAL - ULTRA VIOLET Alabama    Baldwin    \n",
       "6 FEM         047         INSTRUMENTAL - ULTRA VIOLET Alabama    Baldwin    \n",
       "  Date.of.Last.Change\n",
       "1 2014-06-30         \n",
       "2 2014-06-30         \n",
       "3 2014-06-30         \n",
       "4 2014-06-30         \n",
       "5 2014-06-30         \n",
       "6 2014-06-30         "
      ]
     },
     "metadata": {},
     "output_type": "display_data"
    }
   ],
   "source": [
    "# a trick to remove spaces from the column names\n",
    "names(ozone) <- make.names(names(ozone))\n",
    "head(ozone)"
   ]
  },
  {
   "attachments": {},
   "cell_type": "markdown",
   "metadata": {},
   "source": [
    "# 3. Check The Packaging\n",
    "\n",
    "Where you able to load your data?  DOes it look like what you expected?"
   ]
  },
  {
   "cell_type": "code",
   "execution_count": 4,
   "metadata": {
    "vscode": {
     "languageId": "r"
    }
   },
   "outputs": [
    {
     "data": {
      "text/html": [
       "9060694"
      ],
      "text/latex": [
       "9060694"
      ],
      "text/markdown": [
       "9060694"
      ],
      "text/plain": [
       "[1] 9060694"
      ]
     },
     "metadata": {},
     "output_type": "display_data"
    },
    {
     "data": {
      "text/html": [
       "24"
      ],
      "text/latex": [
       "24"
      ],
      "text/markdown": [
       "24"
      ],
      "text/plain": [
       "[1] 24"
      ]
     },
     "metadata": {},
     "output_type": "display_data"
    }
   ],
   "source": [
    "nrow(ozone)\n",
    "ncol(ozone)"
   ]
  },
  {
   "attachments": {},
   "cell_type": "markdown",
   "metadata": {},
   "source": [
    "# 4. Run `str()`\n",
    "\n",
    "Check data types, sample values, look for issues"
   ]
  },
  {
   "cell_type": "code",
   "execution_count": 5,
   "metadata": {
    "vscode": {
     "languageId": "r"
    }
   },
   "outputs": [
    {
     "name": "stdout",
     "output_type": "stream",
     "text": [
      "spc_tbl_ [9,060,694 × 24] (S3: spec_tbl_df/tbl_df/tbl/data.frame)\n",
      " $ State.Code         : chr [1:9060694] \"01\" \"01\" \"01\" \"01\" ...\n",
      " $ County.Code        : chr [1:9060694] \"003\" \"003\" \"003\" \"003\" ...\n",
      " $ Site.Num           : chr [1:9060694] \"0010\" \"0010\" \"0010\" \"0010\" ...\n",
      " $ Parameter.Code     : chr [1:9060694] \"44201\" \"44201\" \"44201\" \"44201\" ...\n",
      " $ POC                : int [1:9060694] 1 1 1 1 1 1 1 1 1 1 ...\n",
      " $ Latitude           : num [1:9060694] 30.5 30.5 30.5 30.5 30.5 ...\n",
      " $ Longitude          : num [1:9060694] -87.9 -87.9 -87.9 -87.9 -87.9 ...\n",
      " $ Datum              : chr [1:9060694] \"NAD83\" \"NAD83\" \"NAD83\" \"NAD83\" ...\n",
      " $ Parameter.Name     : chr [1:9060694] \"Ozone\" \"Ozone\" \"Ozone\" \"Ozone\" ...\n",
      " $ Date.Local         : chr [1:9060694] \"2014-03-01\" \"2014-03-01\" \"2014-03-01\" \"2014-03-01\" ...\n",
      " $ Time.Local         : chr [1:9060694] \"01:00\" \"02:00\" \"03:00\" \"04:00\" ...\n",
      " $ Date.GMT           : chr [1:9060694] \"2014-03-01\" \"2014-03-01\" \"2014-03-01\" \"2014-03-01\" ...\n",
      " $ Time.GMT           : chr [1:9060694] \"07:00\" \"08:00\" \"09:00\" \"10:00\" ...\n",
      " $ Sample.Measurement : num [1:9060694] 0.047 0.047 0.043 0.038 0.035 0.035 0.034 0.037 0.044 0.046 ...\n",
      " $ Units.of.Measure   : chr [1:9060694] \"Parts per million\" \"Parts per million\" \"Parts per million\" \"Parts per million\" ...\n",
      " $ MDL                : num [1:9060694] 0.005 0.005 0.005 0.005 0.005 0.005 0.005 0.005 0.005 0.005 ...\n",
      " $ Uncertainty        : num [1:9060694] NA NA NA NA NA NA NA NA NA NA ...\n",
      " $ Qualifier          : chr [1:9060694] NA NA NA NA ...\n",
      " $ Method.Type        : chr [1:9060694] \"FEM\" \"FEM\" \"FEM\" \"FEM\" ...\n",
      " $ Method.Code        : chr [1:9060694] \"047\" \"047\" \"047\" \"047\" ...\n",
      " $ Method.Name        : chr [1:9060694] \"INSTRUMENTAL - ULTRA VIOLET\" \"INSTRUMENTAL - ULTRA VIOLET\" \"INSTRUMENTAL - ULTRA VIOLET\" \"INSTRUMENTAL - ULTRA VIOLET\" ...\n",
      " $ State.Name         : chr [1:9060694] \"Alabama\" \"Alabama\" \"Alabama\" \"Alabama\" ...\n",
      " $ County.Name        : chr [1:9060694] \"Baldwin\" \"Baldwin\" \"Baldwin\" \"Baldwin\" ...\n",
      " $ Date.of.Last.Change: chr [1:9060694] \"2014-06-30\" \"2014-06-30\" \"2014-06-30\" \"2014-06-30\" ...\n",
      " - attr(*, \"spec\")=\n",
      "  .. cols(\n",
      "  ..   `State Code` = \u001b[31mcol_character()\u001b[39m,\n",
      "  ..   `County Code` = \u001b[31mcol_character()\u001b[39m,\n",
      "  ..   `Site Num` = \u001b[31mcol_character()\u001b[39m,\n",
      "  ..   `Parameter Code` = \u001b[31mcol_character()\u001b[39m,\n",
      "  ..   POC = \u001b[32mcol_integer()\u001b[39m,\n",
      "  ..   Latitude = \u001b[32mcol_number()\u001b[39m,\n",
      "  ..   Longitude = \u001b[32mcol_number()\u001b[39m,\n",
      "  ..   Datum = \u001b[31mcol_character()\u001b[39m,\n",
      "  ..   `Parameter Name` = \u001b[31mcol_character()\u001b[39m,\n",
      "  ..   `Date Local` = \u001b[31mcol_character()\u001b[39m,\n",
      "  ..   `Time Local` = \u001b[31mcol_character()\u001b[39m,\n",
      "  ..   `Date GMT` = \u001b[31mcol_character()\u001b[39m,\n",
      "  ..   `Time GMT` = \u001b[31mcol_character()\u001b[39m,\n",
      "  ..   `Sample Measurement` = \u001b[32mcol_number()\u001b[39m,\n",
      "  ..   `Units of Measure` = \u001b[31mcol_character()\u001b[39m,\n",
      "  ..   MDL = \u001b[32mcol_number()\u001b[39m,\n",
      "  ..   Uncertainty = \u001b[32mcol_number()\u001b[39m,\n",
      "  ..   Qualifier = \u001b[31mcol_character()\u001b[39m,\n",
      "  ..   `Method Type` = \u001b[31mcol_character()\u001b[39m,\n",
      "  ..   `Method Code` = \u001b[31mcol_character()\u001b[39m,\n",
      "  ..   `Method Name` = \u001b[31mcol_character()\u001b[39m,\n",
      "  ..   `State Name` = \u001b[31mcol_character()\u001b[39m,\n",
      "  ..   `County Name` = \u001b[31mcol_character()\u001b[39m,\n",
      "  ..   `Date of Last Change` = \u001b[31mcol_character()\u001b[39m\n",
      "  .. )\n",
      " - attr(*, \"problems\")=<externalptr> \n"
     ]
    }
   ],
   "source": [
    "str(ozone)"
   ]
  },
  {
   "attachments": {},
   "cell_type": "markdown",
   "metadata": {},
   "source": [
    "# 5. Look at the top and bottom of your data\n",
    "\n",
    "Make sure the `head()` and `tail()` rows of the data look right to increase confidence that it was parsed correctly"
   ]
  },
  {
   "cell_type": "code",
   "execution_count": 6,
   "metadata": {
    "vscode": {
     "languageId": "r"
    }
   },
   "outputs": [
    {
     "name": "stderr",
     "output_type": "stream",
     "text": [
      "\n",
      "Attaching package: 'dplyr'\n",
      "\n",
      "\n",
      "The following objects are masked from 'package:stats':\n",
      "\n",
      "    filter, lag\n",
      "\n",
      "\n",
      "The following objects are masked from 'package:base':\n",
      "\n",
      "    intersect, setdiff, setequal, union\n",
      "\n",
      "\n"
     ]
    }
   ],
   "source": [
    "library(dplyr)"
   ]
  },
  {
   "cell_type": "code",
   "execution_count": 7,
   "metadata": {
    "vscode": {
     "languageId": "r"
    }
   },
   "outputs": [
    {
     "data": {
      "text/html": [
       "<table class=\"dataframe\">\n",
       "<caption>A tibble: 6 × 3</caption>\n",
       "<thead>\n",
       "\t<tr><th scope=col>Latitude</th><th scope=col>Longitude</th><th scope=col>Date.Local</th></tr>\n",
       "\t<tr><th scope=col>&lt;dbl&gt;</th><th scope=col>&lt;dbl&gt;</th><th scope=col>&lt;chr&gt;</th></tr>\n",
       "</thead>\n",
       "<tbody>\n",
       "\t<tr><td>30.49748</td><td>-87.88026</td><td>2014-03-01</td></tr>\n",
       "\t<tr><td>30.49748</td><td>-87.88026</td><td>2014-03-01</td></tr>\n",
       "\t<tr><td>30.49748</td><td>-87.88026</td><td>2014-03-01</td></tr>\n",
       "\t<tr><td>30.49748</td><td>-87.88026</td><td>2014-03-01</td></tr>\n",
       "\t<tr><td>30.49748</td><td>-87.88026</td><td>2014-03-01</td></tr>\n",
       "\t<tr><td>30.49748</td><td>-87.88026</td><td>2014-03-01</td></tr>\n",
       "</tbody>\n",
       "</table>\n"
      ],
      "text/latex": [
       "A tibble: 6 × 3\n",
       "\\begin{tabular}{lll}\n",
       " Latitude & Longitude & Date.Local\\\\\n",
       " <dbl> & <dbl> & <chr>\\\\\n",
       "\\hline\n",
       "\t 30.49748 & -87.88026 & 2014-03-01\\\\\n",
       "\t 30.49748 & -87.88026 & 2014-03-01\\\\\n",
       "\t 30.49748 & -87.88026 & 2014-03-01\\\\\n",
       "\t 30.49748 & -87.88026 & 2014-03-01\\\\\n",
       "\t 30.49748 & -87.88026 & 2014-03-01\\\\\n",
       "\t 30.49748 & -87.88026 & 2014-03-01\\\\\n",
       "\\end{tabular}\n"
      ],
      "text/markdown": [
       "\n",
       "A tibble: 6 × 3\n",
       "\n",
       "| Latitude &lt;dbl&gt; | Longitude &lt;dbl&gt; | Date.Local &lt;chr&gt; |\n",
       "|---|---|---|\n",
       "| 30.49748 | -87.88026 | 2014-03-01 |\n",
       "| 30.49748 | -87.88026 | 2014-03-01 |\n",
       "| 30.49748 | -87.88026 | 2014-03-01 |\n",
       "| 30.49748 | -87.88026 | 2014-03-01 |\n",
       "| 30.49748 | -87.88026 | 2014-03-01 |\n",
       "| 30.49748 | -87.88026 | 2014-03-01 |\n",
       "\n"
      ],
      "text/plain": [
       "  Latitude Longitude Date.Local\n",
       "1 30.49748 -87.88026 2014-03-01\n",
       "2 30.49748 -87.88026 2014-03-01\n",
       "3 30.49748 -87.88026 2014-03-01\n",
       "4 30.49748 -87.88026 2014-03-01\n",
       "5 30.49748 -87.88026 2014-03-01\n",
       "6 30.49748 -87.88026 2014-03-01"
      ]
     },
     "metadata": {},
     "output_type": "display_data"
    },
    {
     "data": {
      "text/html": [
       "<table class=\"dataframe\">\n",
       "<caption>A tibble: 6 × 3</caption>\n",
       "<thead>\n",
       "\t<tr><th scope=col>Latitude</th><th scope=col>Longitude</th><th scope=col>Date.Local</th></tr>\n",
       "\t<tr><th scope=col>&lt;dbl&gt;</th><th scope=col>&lt;dbl&gt;</th><th scope=col>&lt;chr&gt;</th></tr>\n",
       "</thead>\n",
       "<tbody>\n",
       "\t<tr><td>31.7122</td><td>-106.3953</td><td>2014-08-31</td></tr>\n",
       "\t<tr><td>31.7122</td><td>-106.3953</td><td>2014-08-31</td></tr>\n",
       "\t<tr><td>31.7122</td><td>-106.3953</td><td>2014-08-31</td></tr>\n",
       "\t<tr><td>31.7122</td><td>-106.3953</td><td>2014-08-31</td></tr>\n",
       "\t<tr><td>31.7122</td><td>-106.3953</td><td>2014-08-31</td></tr>\n",
       "\t<tr><td>31.7122</td><td>-106.3953</td><td>2014-08-31</td></tr>\n",
       "</tbody>\n",
       "</table>\n"
      ],
      "text/latex": [
       "A tibble: 6 × 3\n",
       "\\begin{tabular}{lll}\n",
       " Latitude & Longitude & Date.Local\\\\\n",
       " <dbl> & <dbl> & <chr>\\\\\n",
       "\\hline\n",
       "\t 31.7122 & -106.3953 & 2014-08-31\\\\\n",
       "\t 31.7122 & -106.3953 & 2014-08-31\\\\\n",
       "\t 31.7122 & -106.3953 & 2014-08-31\\\\\n",
       "\t 31.7122 & -106.3953 & 2014-08-31\\\\\n",
       "\t 31.7122 & -106.3953 & 2014-08-31\\\\\n",
       "\t 31.7122 & -106.3953 & 2014-08-31\\\\\n",
       "\\end{tabular}\n"
      ],
      "text/markdown": [
       "\n",
       "A tibble: 6 × 3\n",
       "\n",
       "| Latitude &lt;dbl&gt; | Longitude &lt;dbl&gt; | Date.Local &lt;chr&gt; |\n",
       "|---|---|---|\n",
       "| 31.7122 | -106.3953 | 2014-08-31 |\n",
       "| 31.7122 | -106.3953 | 2014-08-31 |\n",
       "| 31.7122 | -106.3953 | 2014-08-31 |\n",
       "| 31.7122 | -106.3953 | 2014-08-31 |\n",
       "| 31.7122 | -106.3953 | 2014-08-31 |\n",
       "| 31.7122 | -106.3953 | 2014-08-31 |\n",
       "\n"
      ],
      "text/plain": [
       "  Latitude Longitude Date.Local\n",
       "1 31.7122  -106.3953 2014-08-31\n",
       "2 31.7122  -106.3953 2014-08-31\n",
       "3 31.7122  -106.3953 2014-08-31\n",
       "4 31.7122  -106.3953 2014-08-31\n",
       "5 31.7122  -106.3953 2014-08-31\n",
       "6 31.7122  -106.3953 2014-08-31"
      ]
     },
     "metadata": {},
     "output_type": "display_data"
    }
   ],
   "source": [
    "head(select(ozone, Latitude, Longitude, Date.Local))\n",
    "tail(select(ozone, Latitude, Longitude, Date.Local))"
   ]
  },
  {
   "attachments": {},
   "cell_type": "markdown",
   "metadata": {},
   "source": [
    "# 6. Check your \"n\"s\n",
    "\n",
    "If you have expect counts of things or observations based on what you know about what data SHOULD has been collected, check that."
   ]
  },
  {
   "cell_type": "code",
   "execution_count": 8,
   "metadata": {
    "vscode": {
     "languageId": "r"
    }
   },
   "outputs": [
    {
     "data": {
      "image/png": "[encoded data removed]",
      "text/plain": [
       "plot without title"
      ]
     },
     "metadata": {
      "image/png": {
       "height": 420,
       "width": 420
      }
     },
     "output_type": "display_data"
    }
   ],
   "source": [
    "# Here, we have hourly ozone data that comes from monitors across the country.\n",
    "# The monitors should be monitoring continuously during the day, so all hours should be represented\n",
    "table(ozone$Time.Local) %>%\n",
    "barplot(col = 'wheat')"
   ]
  },
  {
   "cell_type": "code",
   "execution_count": 9,
   "metadata": {
    "vscode": {
     "languageId": "r"
    }
   },
   "outputs": [
    {
     "data": {
      "text/html": [
       "<table class=\"dataframe\">\n",
       "<caption>A tibble: 48 × 3</caption>\n",
       "<thead>\n",
       "\t<tr><th scope=col>Date.Local</th><th scope=col>Time.Local</th><th scope=col>Sample.Measurement</th></tr>\n",
       "\t<tr><th scope=col>&lt;chr&gt;</th><th scope=col>&lt;chr&gt;</th><th scope=col>&lt;dbl&gt;</th></tr>\n",
       "</thead>\n",
       "<tbody>\n",
       "\t<tr><td>2014-09-30</td><td>00:00</td><td>0.011</td></tr>\n",
       "\t<tr><td>2014-09-30</td><td>01:00</td><td>0.012</td></tr>\n",
       "\t<tr><td>2014-09-30</td><td>02:00</td><td>0.012</td></tr>\n",
       "\t<tr><td>2014-09-30</td><td>03:00</td><td>0.011</td></tr>\n",
       "\t<tr><td>2014-09-30</td><td>04:00</td><td>0.011</td></tr>\n",
       "\t<tr><td>2014-09-30</td><td>05:00</td><td>0.011</td></tr>\n",
       "\t<tr><td>2014-09-30</td><td>06:00</td><td>0.010</td></tr>\n",
       "\t<tr><td>2014-09-30</td><td>07:00</td><td>0.010</td></tr>\n",
       "\t<tr><td>2014-09-30</td><td>08:00</td><td>0.010</td></tr>\n",
       "\t<tr><td>2014-09-30</td><td>09:00</td><td>0.010</td></tr>\n",
       "\t<tr><td>2014-09-30</td><td>10:00</td><td>0.010</td></tr>\n",
       "\t<tr><td>2014-09-30</td><td>11:00</td><td>0.012</td></tr>\n",
       "\t<tr><td>2014-09-30</td><td>12:00</td><td>0.011</td></tr>\n",
       "\t<tr><td>2014-09-30</td><td>13:00</td><td>0.013</td></tr>\n",
       "\t<tr><td>2014-09-30</td><td>14:00</td><td>0.016</td></tr>\n",
       "\t<tr><td>2014-09-30</td><td>15:00</td><td>0.017</td></tr>\n",
       "\t<tr><td>2014-09-30</td><td>16:00</td><td>0.017</td></tr>\n",
       "\t<tr><td>2014-09-30</td><td>17:00</td><td>0.015</td></tr>\n",
       "\t<tr><td>2014-09-30</td><td>18:00</td><td>0.017</td></tr>\n",
       "\t<tr><td>2014-09-30</td><td>19:00</td><td>0.014</td></tr>\n",
       "\t<tr><td>2014-09-30</td><td>20:00</td><td>0.014</td></tr>\n",
       "\t<tr><td>2014-09-30</td><td>21:00</td><td>0.011</td></tr>\n",
       "\t<tr><td>2014-09-30</td><td>22:00</td><td>0.010</td></tr>\n",
       "\t<tr><td>2014-09-30</td><td>23:00</td><td>0.010</td></tr>\n",
       "\t<tr><td>2014-09-30</td><td>00:00</td><td>0.010</td></tr>\n",
       "\t<tr><td>2014-09-30</td><td>01:00</td><td>0.011</td></tr>\n",
       "\t<tr><td>2014-09-30</td><td>02:00</td><td>0.011</td></tr>\n",
       "\t<tr><td>2014-09-30</td><td>03:00</td><td>0.010</td></tr>\n",
       "\t<tr><td>2014-09-30</td><td>04:00</td><td>0.010</td></tr>\n",
       "\t<tr><td>2014-09-30</td><td>05:00</td><td>0.010</td></tr>\n",
       "\t<tr><td>2014-09-30</td><td>06:00</td><td>0.009</td></tr>\n",
       "\t<tr><td>2014-09-30</td><td>07:00</td><td>0.008</td></tr>\n",
       "\t<tr><td>2014-09-30</td><td>08:00</td><td>0.009</td></tr>\n",
       "\t<tr><td>2014-09-30</td><td>09:00</td><td>0.009</td></tr>\n",
       "\t<tr><td>2014-09-30</td><td>10:00</td><td>0.009</td></tr>\n",
       "\t<tr><td>2014-09-30</td><td>11:00</td><td>0.011</td></tr>\n",
       "\t<tr><td>2014-09-30</td><td>12:00</td><td>0.010</td></tr>\n",
       "\t<tr><td>2014-09-30</td><td>13:00</td><td>0.012</td></tr>\n",
       "\t<tr><td>2014-09-30</td><td>14:00</td><td>0.015</td></tr>\n",
       "\t<tr><td>2014-09-30</td><td>15:00</td><td>0.016</td></tr>\n",
       "\t<tr><td>2014-09-30</td><td>16:00</td><td>0.016</td></tr>\n",
       "\t<tr><td>2014-09-30</td><td>17:00</td><td>0.014</td></tr>\n",
       "\t<tr><td>2014-09-30</td><td>18:00</td><td>0.016</td></tr>\n",
       "\t<tr><td>2014-09-30</td><td>19:00</td><td>0.013</td></tr>\n",
       "\t<tr><td>2014-09-30</td><td>20:00</td><td>0.013</td></tr>\n",
       "\t<tr><td>2014-09-30</td><td>21:00</td><td>0.010</td></tr>\n",
       "\t<tr><td>2014-09-30</td><td>22:00</td><td>0.009</td></tr>\n",
       "\t<tr><td>2014-09-30</td><td>23:00</td><td>0.009</td></tr>\n",
       "</tbody>\n",
       "</table>\n"
      ],
      "text/latex": [
       "A tibble: 48 × 3\n",
       "\\begin{tabular}{lll}\n",
       " Date.Local & Time.Local & Sample.Measurement\\\\\n",
       " <chr> & <chr> & <dbl>\\\\\n",
       "\\hline\n",
       "\t 2014-09-30 & 00:00 & 0.011\\\\\n",
       "\t 2014-09-30 & 01:00 & 0.012\\\\\n",
       "\t 2014-09-30 & 02:00 & 0.012\\\\\n",
       "\t 2014-09-30 & 03:00 & 0.011\\\\\n",
       "\t 2014-09-30 & 04:00 & 0.011\\\\\n",
       "\t 2014-09-30 & 05:00 & 0.011\\\\\n",
       "\t 2014-09-30 & 06:00 & 0.010\\\\\n",
       "\t 2014-09-30 & 07:00 & 0.010\\\\\n",
       "\t 2014-09-30 & 08:00 & 0.010\\\\\n",
       "\t 2014-09-30 & 09:00 & 0.010\\\\\n",
       "\t 2014-09-30 & 10:00 & 0.010\\\\\n",
       "\t 2014-09-30 & 11:00 & 0.012\\\\\n",
       "\t 2014-09-30 & 12:00 & 0.011\\\\\n",
       "\t 2014-09-30 & 13:00 & 0.013\\\\\n",
       "\t 2014-09-30 & 14:00 & 0.016\\\\\n",
       "\t 2014-09-30 & 15:00 & 0.017\\\\\n",
       "\t 2014-09-30 & 16:00 & 0.017\\\\\n",
       "\t 2014-09-30 & 17:00 & 0.015\\\\\n",
       "\t 2014-09-30 & 18:00 & 0.017\\\\\n",
       "\t 2014-09-30 & 19:00 & 0.014\\\\\n",
       "\t 2014-09-30 & 20:00 & 0.014\\\\\n",
       "\t 2014-09-30 & 21:00 & 0.011\\\\\n",
       "\t 2014-09-30 & 22:00 & 0.010\\\\\n",
       "\t 2014-09-30 & 23:00 & 0.010\\\\\n",
       "\t 2014-09-30 & 00:00 & 0.010\\\\\n",
       "\t 2014-09-30 & 01:00 & 0.011\\\\\n",
       "\t 2014-09-30 & 02:00 & 0.011\\\\\n",
       "\t 2014-09-30 & 03:00 & 0.010\\\\\n",
       "\t 2014-09-30 & 04:00 & 0.010\\\\\n",
       "\t 2014-09-30 & 05:00 & 0.010\\\\\n",
       "\t 2014-09-30 & 06:00 & 0.009\\\\\n",
       "\t 2014-09-30 & 07:00 & 0.008\\\\\n",
       "\t 2014-09-30 & 08:00 & 0.009\\\\\n",
       "\t 2014-09-30 & 09:00 & 0.009\\\\\n",
       "\t 2014-09-30 & 10:00 & 0.009\\\\\n",
       "\t 2014-09-30 & 11:00 & 0.011\\\\\n",
       "\t 2014-09-30 & 12:00 & 0.010\\\\\n",
       "\t 2014-09-30 & 13:00 & 0.012\\\\\n",
       "\t 2014-09-30 & 14:00 & 0.015\\\\\n",
       "\t 2014-09-30 & 15:00 & 0.016\\\\\n",
       "\t 2014-09-30 & 16:00 & 0.016\\\\\n",
       "\t 2014-09-30 & 17:00 & 0.014\\\\\n",
       "\t 2014-09-30 & 18:00 & 0.016\\\\\n",
       "\t 2014-09-30 & 19:00 & 0.013\\\\\n",
       "\t 2014-09-30 & 20:00 & 0.013\\\\\n",
       "\t 2014-09-30 & 21:00 & 0.010\\\\\n",
       "\t 2014-09-30 & 22:00 & 0.009\\\\\n",
       "\t 2014-09-30 & 23:00 & 0.009\\\\\n",
       "\\end{tabular}\n"
      ],
      "text/markdown": [
       "\n",
       "A tibble: 48 × 3\n",
       "\n",
       "| Date.Local &lt;chr&gt; | Time.Local &lt;chr&gt; | Sample.Measurement &lt;dbl&gt; |\n",
       "|---|---|---|\n",
       "| 2014-09-30 | 00:00 | 0.011 |\n",
       "| 2014-09-30 | 01:00 | 0.012 |\n",
       "| 2014-09-30 | 02:00 | 0.012 |\n",
       "| 2014-09-30 | 03:00 | 0.011 |\n",
       "| 2014-09-30 | 04:00 | 0.011 |\n",
       "| 2014-09-30 | 05:00 | 0.011 |\n",
       "| 2014-09-30 | 06:00 | 0.010 |\n",
       "| 2014-09-30 | 07:00 | 0.010 |\n",
       "| 2014-09-30 | 08:00 | 0.010 |\n",
       "| 2014-09-30 | 09:00 | 0.010 |\n",
       "| 2014-09-30 | 10:00 | 0.010 |\n",
       "| 2014-09-30 | 11:00 | 0.012 |\n",
       "| 2014-09-30 | 12:00 | 0.011 |\n",
       "| 2014-09-30 | 13:00 | 0.013 |\n",
       "| 2014-09-30 | 14:00 | 0.016 |\n",
       "| 2014-09-30 | 15:00 | 0.017 |\n",
       "| 2014-09-30 | 16:00 | 0.017 |\n",
       "| 2014-09-30 | 17:00 | 0.015 |\n",
       "| 2014-09-30 | 18:00 | 0.017 |\n",
       "| 2014-09-30 | 19:00 | 0.014 |\n",
       "| 2014-09-30 | 20:00 | 0.014 |\n",
       "| 2014-09-30 | 21:00 | 0.011 |\n",
       "| 2014-09-30 | 22:00 | 0.010 |\n",
       "| 2014-09-30 | 23:00 | 0.010 |\n",
       "| 2014-09-30 | 00:00 | 0.010 |\n",
       "| 2014-09-30 | 01:00 | 0.011 |\n",
       "| 2014-09-30 | 02:00 | 0.011 |\n",
       "| 2014-09-30 | 03:00 | 0.010 |\n",
       "| 2014-09-30 | 04:00 | 0.010 |\n",
       "| 2014-09-30 | 05:00 | 0.010 |\n",
       "| 2014-09-30 | 06:00 | 0.009 |\n",
       "| 2014-09-30 | 07:00 | 0.008 |\n",
       "| 2014-09-30 | 08:00 | 0.009 |\n",
       "| 2014-09-30 | 09:00 | 0.009 |\n",
       "| 2014-09-30 | 10:00 | 0.009 |\n",
       "| 2014-09-30 | 11:00 | 0.011 |\n",
       "| 2014-09-30 | 12:00 | 0.010 |\n",
       "| 2014-09-30 | 13:00 | 0.012 |\n",
       "| 2014-09-30 | 14:00 | 0.015 |\n",
       "| 2014-09-30 | 15:00 | 0.016 |\n",
       "| 2014-09-30 | 16:00 | 0.016 |\n",
       "| 2014-09-30 | 17:00 | 0.014 |\n",
       "| 2014-09-30 | 18:00 | 0.016 |\n",
       "| 2014-09-30 | 19:00 | 0.013 |\n",
       "| 2014-09-30 | 20:00 | 0.013 |\n",
       "| 2014-09-30 | 21:00 | 0.010 |\n",
       "| 2014-09-30 | 22:00 | 0.009 |\n",
       "| 2014-09-30 | 23:00 | 0.009 |\n",
       "\n"
      ],
      "text/plain": [
       "   Date.Local Time.Local Sample.Measurement\n",
       "1  2014-09-30 00:00      0.011             \n",
       "2  2014-09-30 01:00      0.012             \n",
       "3  2014-09-30 02:00      0.012             \n",
       "4  2014-09-30 03:00      0.011             \n",
       "5  2014-09-30 04:00      0.011             \n",
       "6  2014-09-30 05:00      0.011             \n",
       "7  2014-09-30 06:00      0.010             \n",
       "8  2014-09-30 07:00      0.010             \n",
       "9  2014-09-30 08:00      0.010             \n",
       "10 2014-09-30 09:00      0.010             \n",
       "11 2014-09-30 10:00      0.010             \n",
       "12 2014-09-30 11:00      0.012             \n",
       "13 2014-09-30 12:00      0.011             \n",
       "14 2014-09-30 13:00      0.013             \n",
       "15 2014-09-30 14:00      0.016             \n",
       "16 2014-09-30 15:00      0.017             \n",
       "17 2014-09-30 16:00      0.017             \n",
       "18 2014-09-30 17:00      0.015             \n",
       "19 2014-09-30 18:00      0.017             \n",
       "20 2014-09-30 19:00      0.014             \n",
       "21 2014-09-30 20:00      0.014             \n",
       "22 2014-09-30 21:00      0.011             \n",
       "23 2014-09-30 22:00      0.010             \n",
       "24 2014-09-30 23:00      0.010             \n",
       "25 2014-09-30 00:00      0.010             \n",
       "26 2014-09-30 01:00      0.011             \n",
       "27 2014-09-30 02:00      0.011             \n",
       "28 2014-09-30 03:00      0.010             \n",
       "29 2014-09-30 04:00      0.010             \n",
       "30 2014-09-30 05:00      0.010             \n",
       "31 2014-09-30 06:00      0.009             \n",
       "32 2014-09-30 07:00      0.008             \n",
       "33 2014-09-30 08:00      0.009             \n",
       "34 2014-09-30 09:00      0.009             \n",
       "35 2014-09-30 10:00      0.009             \n",
       "36 2014-09-30 11:00      0.011             \n",
       "37 2014-09-30 12:00      0.010             \n",
       "38 2014-09-30 13:00      0.012             \n",
       "39 2014-09-30 14:00      0.015             \n",
       "40 2014-09-30 15:00      0.016             \n",
       "41 2014-09-30 16:00      0.016             \n",
       "42 2014-09-30 17:00      0.014             \n",
       "43 2014-09-30 18:00      0.016             \n",
       "44 2014-09-30 19:00      0.013             \n",
       "45 2014-09-30 20:00      0.013             \n",
       "46 2014-09-30 21:00      0.010             \n",
       "47 2014-09-30 22:00      0.009             \n",
       "48 2014-09-30 23:00      0.009             "
      ]
     },
     "metadata": {},
     "output_type": "display_data"
    }
   ],
   "source": [
    "# check same example where textbook found data issues on the older version of this dataset\n",
    "\n",
    "filter(ozone,\n",
    "       State.Code == '36'\n",
    "       & County.Code == '033'\n",
    "       & Date.Local == '2014-09-30'\n",
    "       ) %>%\n",
    "select(Date.Local, Time.Local, Sample.Measurement)"
   ]
  },
  {
   "cell_type": "code",
   "execution_count": 10,
   "metadata": {
    "vscode": {
     "languageId": "r"
    }
   },
   "outputs": [
    {
     "data": {
      "text/html": [
       "53"
      ],
      "text/latex": [
       "53"
      ],
      "text/markdown": [
       "53"
      ],
      "text/plain": [
       "[1] 53"
      ]
     },
     "metadata": {},
     "output_type": "display_data"
    }
   ],
   "source": [
    "select(ozone, State.Name) %>%\n",
    "unique() %>%\n",
    "nrow()"
   ]
  },
  {
   "cell_type": "code",
   "execution_count": 11,
   "metadata": {
    "vscode": {
     "languageId": "r"
    }
   },
   "outputs": [
    {
     "data": {
      "text/html": [
       "<style>\n",
       ".list-inline {list-style: none; margin:0; padding: 0}\n",
       ".list-inline>li {display: inline-block}\n",
       ".list-inline>li:not(:last-child)::after {content: \"\\00b7\"; padding: 0 .5ex}\n",
       "</style>\n",
       "<ol class=list-inline><li>'Alabama'</li><li>'Alaska'</li><li>'Arizona'</li><li>'Arkansas'</li><li>'California'</li><li>'Colorado'</li><li>'Connecticut'</li><li>'Delaware'</li><li>'District Of Columbia'</li><li>'Florida'</li><li>'Georgia'</li><li>'Hawaii'</li><li>'Idaho'</li><li>'Illinois'</li><li>'Indiana'</li><li>'Iowa'</li><li>'Kansas'</li><li>'Kentucky'</li><li>'Louisiana'</li><li>'Maine'</li><li>'Maryland'</li><li>'Massachusetts'</li><li>'Michigan'</li><li>'Minnesota'</li><li>'Mississippi'</li><li>'Missouri'</li><li>'Montana'</li><li>'Nebraska'</li><li>'Nevada'</li><li>'New Hampshire'</li><li>'New Jersey'</li><li>'New Mexico'</li><li>'New York'</li><li>'North Carolina'</li><li>'North Dakota'</li><li>'Ohio'</li><li>'Oklahoma'</li><li>'Oregon'</li><li>'Pennsylvania'</li><li>'Rhode Island'</li><li>'South Carolina'</li><li>'South Dakota'</li><li>'Tennessee'</li><li>'Texas'</li><li>'Utah'</li><li>'Vermont'</li><li>'Virginia'</li><li>'Washington'</li><li>'West Virginia'</li><li>'Wisconsin'</li><li>'Wyoming'</li><li>'Puerto Rico'</li><li>'Country Of Mexico'</li></ol>\n"
      ],
      "text/latex": [
       "\\begin{enumerate*}\n",
       "\\item 'Alabama'\n",
       "\\item 'Alaska'\n",
       "\\item 'Arizona'\n",
       "\\item 'Arkansas'\n",
       "\\item 'California'\n",
       "\\item 'Colorado'\n",
       "\\item 'Connecticut'\n",
       "\\item 'Delaware'\n",
       "\\item 'District Of Columbia'\n",
       "\\item 'Florida'\n",
       "\\item 'Georgia'\n",
       "\\item 'Hawaii'\n",
       "\\item 'Idaho'\n",
       "\\item 'Illinois'\n",
       "\\item 'Indiana'\n",
       "\\item 'Iowa'\n",
       "\\item 'Kansas'\n",
       "\\item 'Kentucky'\n",
       "\\item 'Louisiana'\n",
       "\\item 'Maine'\n",
       "\\item 'Maryland'\n",
       "\\item 'Massachusetts'\n",
       "\\item 'Michigan'\n",
       "\\item 'Minnesota'\n",
       "\\item 'Mississippi'\n",
       "\\item 'Missouri'\n",
       "\\item 'Montana'\n",
       "\\item 'Nebraska'\n",
       "\\item 'Nevada'\n",
       "\\item 'New Hampshire'\n",
       "\\item 'New Jersey'\n",
       "\\item 'New Mexico'\n",
       "\\item 'New York'\n",
       "\\item 'North Carolina'\n",
       "\\item 'North Dakota'\n",
       "\\item 'Ohio'\n",
       "\\item 'Oklahoma'\n",
       "\\item 'Oregon'\n",
       "\\item 'Pennsylvania'\n",
       "\\item 'Rhode Island'\n",
       "\\item 'South Carolina'\n",
       "\\item 'South Dakota'\n",
       "\\item 'Tennessee'\n",
       "\\item 'Texas'\n",
       "\\item 'Utah'\n",
       "\\item 'Vermont'\n",
       "\\item 'Virginia'\n",
       "\\item 'Washington'\n",
       "\\item 'West Virginia'\n",
       "\\item 'Wisconsin'\n",
       "\\item 'Wyoming'\n",
       "\\item 'Puerto Rico'\n",
       "\\item 'Country Of Mexico'\n",
       "\\end{enumerate*}\n"
      ],
      "text/markdown": [
       "1. 'Alabama'\n",
       "2. 'Alaska'\n",
       "3. 'Arizona'\n",
       "4. 'Arkansas'\n",
       "5. 'California'\n",
       "6. 'Colorado'\n",
       "7. 'Connecticut'\n",
       "8. 'Delaware'\n",
       "9. 'District Of Columbia'\n",
       "10. 'Florida'\n",
       "11. 'Georgia'\n",
       "12. 'Hawaii'\n",
       "13. 'Idaho'\n",
       "14. 'Illinois'\n",
       "15. 'Indiana'\n",
       "16. 'Iowa'\n",
       "17. 'Kansas'\n",
       "18. 'Kentucky'\n",
       "19. 'Louisiana'\n",
       "20. 'Maine'\n",
       "21. 'Maryland'\n",
       "22. 'Massachusetts'\n",
       "23. 'Michigan'\n",
       "24. 'Minnesota'\n",
       "25. 'Mississippi'\n",
       "26. 'Missouri'\n",
       "27. 'Montana'\n",
       "28. 'Nebraska'\n",
       "29. 'Nevada'\n",
       "30. 'New Hampshire'\n",
       "31. 'New Jersey'\n",
       "32. 'New Mexico'\n",
       "33. 'New York'\n",
       "34. 'North Carolina'\n",
       "35. 'North Dakota'\n",
       "36. 'Ohio'\n",
       "37. 'Oklahoma'\n",
       "38. 'Oregon'\n",
       "39. 'Pennsylvania'\n",
       "40. 'Rhode Island'\n",
       "41. 'South Carolina'\n",
       "42. 'South Dakota'\n",
       "43. 'Tennessee'\n",
       "44. 'Texas'\n",
       "45. 'Utah'\n",
       "46. 'Vermont'\n",
       "47. 'Virginia'\n",
       "48. 'Washington'\n",
       "49. 'West Virginia'\n",
       "50. 'Wisconsin'\n",
       "51. 'Wyoming'\n",
       "52. 'Puerto Rico'\n",
       "53. 'Country Of Mexico'\n",
       "\n",
       "\n"
      ],
      "text/plain": [
       " [1] \"Alabama\"              \"Alaska\"               \"Arizona\"             \n",
       " [4] \"Arkansas\"             \"California\"           \"Colorado\"            \n",
       " [7] \"Connecticut\"          \"Delaware\"             \"District Of Columbia\"\n",
       "[10] \"Florida\"              \"Georgia\"              \"Hawaii\"              \n",
       "[13] \"Idaho\"                \"Illinois\"             \"Indiana\"             \n",
       "[16] \"Iowa\"                 \"Kansas\"               \"Kentucky\"            \n",
       "[19] \"Louisiana\"            \"Maine\"                \"Maryland\"            \n",
       "[22] \"Massachusetts\"        \"Michigan\"             \"Minnesota\"           \n",
       "[25] \"Mississippi\"          \"Missouri\"             \"Montana\"             \n",
       "[28] \"Nebraska\"             \"Nevada\"               \"New Hampshire\"       \n",
       "[31] \"New Jersey\"           \"New Mexico\"           \"New York\"            \n",
       "[34] \"North Carolina\"       \"North Dakota\"         \"Ohio\"                \n",
       "[37] \"Oklahoma\"             \"Oregon\"               \"Pennsylvania\"        \n",
       "[40] \"Rhode Island\"         \"South Carolina\"       \"South Dakota\"        \n",
       "[43] \"Tennessee\"            \"Texas\"                \"Utah\"                \n",
       "[46] \"Vermont\"              \"Virginia\"             \"Washington\"          \n",
       "[49] \"West Virginia\"        \"Wisconsin\"            \"Wyoming\"             \n",
       "[52] \"Puerto Rico\"          \"Country Of Mexico\"   "
      ]
     },
     "metadata": {},
     "output_type": "display_data"
    }
   ],
   "source": [
    "unique(ozone$State.Name)"
   ]
  },
  {
   "attachments": {},
   "cell_type": "markdown",
   "metadata": {
    "vscode": {
     "languageId": "r"
    }
   },
   "source": [
    "# 7. Validate with at least one external source\n",
    "\n",
    "Check ranges of values where you know what they should be based on...\n",
    "1. Is it the correct order of magnitude?\n",
    "1. Are the range of values what you would expect?"
   ]
  },
  {
   "cell_type": "code",
   "execution_count": 12,
   "metadata": {
    "vscode": {
     "languageId": "r"
    }
   },
   "outputs": [
    {
     "data": {
      "text/plain": [
       "    Min.  1st Qu.   Median     Mean  3rd Qu.     Max. \n",
       "-0.00500  0.01900  0.03000  0.03027  0.04100  0.21300 "
      ]
     },
     "metadata": {},
     "output_type": "display_data"
    },
    {
     "data": {
      "text/html": [
       "<style>\n",
       ".dl-inline {width: auto; margin:0; padding: 0}\n",
       ".dl-inline>dt, .dl-inline>dd {float: none; width: auto; display: inline-block}\n",
       ".dl-inline>dt::after {content: \":\\0020\"; padding-right: .5ex}\n",
       ".dl-inline>dt:not(:first-of-type) {padding-left: .5ex}\n",
       "</style><dl class=dl-inline><dt>0%</dt><dd>-0.005</dd><dt>10%</dt><dd>0.009</dd><dt>20%</dt><dd>0.016</dd><dt>30%</dt><dd>0.022</dd><dt>40%</dt><dd>0.026</dd><dt>50%</dt><dd>0.03</dd><dt>60%</dt><dd>0.035</dd><dt>70%</dt><dd>0.039</dd><dt>80%</dt><dd>0.043</dd><dt>90%</dt><dd>0.05</dd><dt>100%</dt><dd>0.213</dd></dl>\n"
      ],
      "text/latex": [
       "\\begin{description*}\n",
       "\\item[0\\textbackslash{}\\%] -0.005\n",
       "\\item[10\\textbackslash{}\\%] 0.009\n",
       "\\item[20\\textbackslash{}\\%] 0.016\n",
       "\\item[30\\textbackslash{}\\%] 0.022\n",
       "\\item[40\\textbackslash{}\\%] 0.026\n",
       "\\item[50\\textbackslash{}\\%] 0.03\n",
       "\\item[60\\textbackslash{}\\%] 0.035\n",
       "\\item[70\\textbackslash{}\\%] 0.039\n",
       "\\item[80\\textbackslash{}\\%] 0.043\n",
       "\\item[90\\textbackslash{}\\%] 0.05\n",
       "\\item[100\\textbackslash{}\\%] 0.213\n",
       "\\end{description*}\n"
      ],
      "text/markdown": [
       "0%\n",
       ":   -0.00510%\n",
       ":   0.00920%\n",
       ":   0.01630%\n",
       ":   0.02240%\n",
       ":   0.02650%\n",
       ":   0.0360%\n",
       ":   0.03570%\n",
       ":   0.03980%\n",
       ":   0.04390%\n",
       ":   0.05100%\n",
       ":   0.213\n",
       "\n"
      ],
      "text/plain": [
       "    0%    10%    20%    30%    40%    50%    60%    70%    80%    90%   100% \n",
       "-0.005  0.009  0.016  0.022  0.026  0.030  0.035  0.039  0.043  0.050  0.213 "
      ]
     },
     "metadata": {},
     "output_type": "display_data"
    },
    {
     "data": {
      "text/html": [
       "2032"
      ],
      "text/latex": [
       "2032"
      ],
      "text/markdown": [
       "2032"
      ],
      "text/plain": [
       "[1] 2032"
      ]
     },
     "metadata": {},
     "output_type": "display_data"
    },
    {
     "data": {
      "text/html": [
       "0.000224265381879136"
      ],
      "text/latex": [
       "0.000224265381879136"
      ],
      "text/markdown": [
       "0.000224265381879136"
      ],
      "text/plain": [
       "[1] 0.0002242654"
      ]
     },
     "metadata": {},
     "output_type": "display_data"
    }
   ],
   "source": [
    "# In the U.S. we have national ambient air quality standards,\n",
    "# and for ozone, the current standard set in 2008 is that the\n",
    "# “annual fourth-highest daily maximum 8-hr concentration, averaged over 3 years”\n",
    "# should not exceed 0.075 parts per million (ppm).\n",
    "\n",
    "summary(ozone$Sample.Measurement)\n",
    "# compared to the older version of the data set used in the texbook, I'm guessing the negative number is not valid\n",
    "\n",
    "#more detail\n",
    "quantile(ozone$Sample.Measurement, seq(0,1,0.1))\n",
    "\n",
    "nrow(filter(ozone, Sample.Measurement<0))\n",
    "nrow(filter(ozone, Sample.Measurement<0)) / nrow(ozone)\n"
   ]
  },
  {
   "attachments": {},
   "cell_type": "markdown",
   "metadata": {},
   "source": [
    "# 8. Try the easy solution first\n",
    "\n",
    "> \"Which counties in the United States have the highest levels of ambient ozone pollution?\""
   ]
  },
  {
   "cell_type": "code",
   "execution_count": 13,
   "metadata": {
    "vscode": {
     "languageId": "r"
    }
   },
   "outputs": [
    {
     "name": "stderr",
     "output_type": "stream",
     "text": [
      "\u001b[1m\u001b[22m`summarise()` has grouped output by 'State.Name'. You can override using the\n",
      "`.groups` argument.\n"
     ]
    },
    {
     "data": {
      "text/html": [
       "<table class=\"dataframe\">\n",
       "<caption>A grouped_df: 10 × 3</caption>\n",
       "<thead>\n",
       "\t<tr><th scope=col>State.Name</th><th scope=col>County.Name</th><th scope=col>ozone</th></tr>\n",
       "\t<tr><th scope=col>&lt;chr&gt;</th><th scope=col>&lt;chr&gt;</th><th scope=col>&lt;dbl&gt;</th></tr>\n",
       "</thead>\n",
       "<tbody>\n",
       "\t<tr><td>Colorado  </td><td>Clear Creek</td><td>0.05022088</td></tr>\n",
       "\t<tr><td>California</td><td>Mariposa   </td><td>0.04849011</td></tr>\n",
       "\t<tr><td>California</td><td>Nevada     </td><td>0.04821713</td></tr>\n",
       "\t<tr><td>Colorado  </td><td>Park       </td><td>0.04799988</td></tr>\n",
       "\t<tr><td>Wyoming   </td><td>Albany     </td><td>0.04740057</td></tr>\n",
       "\t<tr><td>Colorado  </td><td>Chaffee    </td><td>0.04732017</td></tr>\n",
       "\t<tr><td>California</td><td>Inyo       </td><td>0.04469113</td></tr>\n",
       "\t<tr><td>Utah      </td><td>San Juan   </td><td>0.04435075</td></tr>\n",
       "\t<tr><td>California</td><td>El Dorado  </td><td>0.04363719</td></tr>\n",
       "\t<tr><td>Nevada    </td><td>Elko       </td><td>0.04346459</td></tr>\n",
       "</tbody>\n",
       "</table>\n"
      ],
      "text/latex": [
       "A grouped\\_df: 10 × 3\n",
       "\\begin{tabular}{lll}\n",
       " State.Name & County.Name & ozone\\\\\n",
       " <chr> & <chr> & <dbl>\\\\\n",
       "\\hline\n",
       "\t Colorado   & Clear Creek & 0.05022088\\\\\n",
       "\t California & Mariposa    & 0.04849011\\\\\n",
       "\t California & Nevada      & 0.04821713\\\\\n",
       "\t Colorado   & Park        & 0.04799988\\\\\n",
       "\t Wyoming    & Albany      & 0.04740057\\\\\n",
       "\t Colorado   & Chaffee     & 0.04732017\\\\\n",
       "\t California & Inyo        & 0.04469113\\\\\n",
       "\t Utah       & San Juan    & 0.04435075\\\\\n",
       "\t California & El Dorado   & 0.04363719\\\\\n",
       "\t Nevada     & Elko        & 0.04346459\\\\\n",
       "\\end{tabular}\n"
      ],
      "text/markdown": [
       "\n",
       "A grouped_df: 10 × 3\n",
       "\n",
       "| State.Name &lt;chr&gt; | County.Name &lt;chr&gt; | ozone &lt;dbl&gt; |\n",
       "|---|---|---|\n",
       "| Colorado   | Clear Creek | 0.05022088 |\n",
       "| California | Mariposa    | 0.04849011 |\n",
       "| California | Nevada      | 0.04821713 |\n",
       "| Colorado   | Park        | 0.04799988 |\n",
       "| Wyoming    | Albany      | 0.04740057 |\n",
       "| Colorado   | Chaffee     | 0.04732017 |\n",
       "| California | Inyo        | 0.04469113 |\n",
       "| Utah       | San Juan    | 0.04435075 |\n",
       "| California | El Dorado   | 0.04363719 |\n",
       "| Nevada     | Elko        | 0.04346459 |\n",
       "\n"
      ],
      "text/plain": [
       "   State.Name County.Name ozone     \n",
       "1  Colorado   Clear Creek 0.05022088\n",
       "2  California Mariposa    0.04849011\n",
       "3  California Nevada      0.04821713\n",
       "4  Colorado   Park        0.04799988\n",
       "5  Wyoming    Albany      0.04740057\n",
       "6  Colorado   Chaffee     0.04732017\n",
       "7  California Inyo        0.04469113\n",
       "8  Utah       San Juan    0.04435075\n",
       "9  California El Dorado   0.04363719\n",
       "10 Nevada     Elko        0.04346459"
      ]
     },
     "metadata": {},
     "output_type": "display_data"
    }
   ],
   "source": [
    "# 1. create grouped table\n",
    "# 2. create summary of Sample.Measurement against that grouping (name it \"ozone\")\n",
    "# 3. sort \"ozone\" by descending order\n",
    "\n",
    "\n",
    "rankedcounties <- group_by(ozone, State.Name, County.Name) %>%\n",
    "                  summarize(ozone = mean(Sample.Measurement)) %>%\n",
    "                  arrange(desc(ozone))\n",
    "\n",
    "# just show top 10\n",
    "head(rankedcounties,10)"
   ]
  },
  {
   "cell_type": "code",
   "execution_count": 14,
   "metadata": {
    "vscode": {
     "languageId": "r"
    }
   },
   "outputs": [
    {
     "data": {
      "text/html": [
       "<table class=\"dataframe\">\n",
       "<caption>A grouped_df: 10 × 3</caption>\n",
       "<thead>\n",
       "\t<tr><th scope=col>State.Name</th><th scope=col>County.Name</th><th scope=col>ozone</th></tr>\n",
       "\t<tr><th scope=col>&lt;chr&gt;</th><th scope=col>&lt;chr&gt;</th><th scope=col>&lt;dbl&gt;</th></tr>\n",
       "</thead>\n",
       "<tbody>\n",
       "\t<tr><td>Georgia    </td><td>DeKalb              </td><td>0.020478241</td></tr>\n",
       "\t<tr><td>New Jersey </td><td>Warren              </td><td>0.020137471</td></tr>\n",
       "\t<tr><td>Louisiana  </td><td>West Baton Rouge    </td><td>0.020091025</td></tr>\n",
       "\t<tr><td>Washington </td><td>Whatcom             </td><td>0.020079729</td></tr>\n",
       "\t<tr><td>Oregon     </td><td>Washington          </td><td>0.019582854</td></tr>\n",
       "\t<tr><td>Oklahoma   </td><td>Caddo               </td><td>0.017519115</td></tr>\n",
       "\t<tr><td>Puerto Rico</td><td>Juncos              </td><td>0.013462225</td></tr>\n",
       "\t<tr><td>Alaska     </td><td>Fairbanks North Star</td><td>0.013273003</td></tr>\n",
       "\t<tr><td>Puerto Rico</td><td>Bayamon             </td><td>0.008517895</td></tr>\n",
       "\t<tr><td>Puerto Rico</td><td>Catano              </td><td>0.004490545</td></tr>\n",
       "</tbody>\n",
       "</table>\n"
      ],
      "text/latex": [
       "A grouped\\_df: 10 × 3\n",
       "\\begin{tabular}{lll}\n",
       " State.Name & County.Name & ozone\\\\\n",
       " <chr> & <chr> & <dbl>\\\\\n",
       "\\hline\n",
       "\t Georgia     & DeKalb               & 0.020478241\\\\\n",
       "\t New Jersey  & Warren               & 0.020137471\\\\\n",
       "\t Louisiana   & West Baton Rouge     & 0.020091025\\\\\n",
       "\t Washington  & Whatcom              & 0.020079729\\\\\n",
       "\t Oregon      & Washington           & 0.019582854\\\\\n",
       "\t Oklahoma    & Caddo                & 0.017519115\\\\\n",
       "\t Puerto Rico & Juncos               & 0.013462225\\\\\n",
       "\t Alaska      & Fairbanks North Star & 0.013273003\\\\\n",
       "\t Puerto Rico & Bayamon              & 0.008517895\\\\\n",
       "\t Puerto Rico & Catano               & 0.004490545\\\\\n",
       "\\end{tabular}\n"
      ],
      "text/markdown": [
       "\n",
       "A grouped_df: 10 × 3\n",
       "\n",
       "| State.Name &lt;chr&gt; | County.Name &lt;chr&gt; | ozone &lt;dbl&gt; |\n",
       "|---|---|---|\n",
       "| Georgia     | DeKalb               | 0.020478241 |\n",
       "| New Jersey  | Warren               | 0.020137471 |\n",
       "| Louisiana   | West Baton Rouge     | 0.020091025 |\n",
       "| Washington  | Whatcom              | 0.020079729 |\n",
       "| Oregon      | Washington           | 0.019582854 |\n",
       "| Oklahoma    | Caddo                | 0.017519115 |\n",
       "| Puerto Rico | Juncos               | 0.013462225 |\n",
       "| Alaska      | Fairbanks North Star | 0.013273003 |\n",
       "| Puerto Rico | Bayamon              | 0.008517895 |\n",
       "| Puerto Rico | Catano               | 0.004490545 |\n",
       "\n"
      ],
      "text/plain": [
       "   State.Name  County.Name          ozone      \n",
       "1  Georgia     DeKalb               0.020478241\n",
       "2  New Jersey  Warren               0.020137471\n",
       "3  Louisiana   West Baton Rouge     0.020091025\n",
       "4  Washington  Whatcom              0.020079729\n",
       "5  Oregon      Washington           0.019582854\n",
       "6  Oklahoma    Caddo                0.017519115\n",
       "7  Puerto Rico Juncos               0.013462225\n",
       "8  Alaska      Fairbanks North Star 0.013273003\n",
       "9  Puerto Rico Bayamon              0.008517895\n",
       "10 Puerto Rico Catano               0.004490545"
      ]
     },
     "metadata": {},
     "output_type": "display_data"
    }
   ],
   "source": [
    "# ... all in the west.  What about the east?\n",
    "\n",
    "tail(rankedcounties,10)"
   ]
  },
  {
   "cell_type": "code",
   "execution_count": 15,
   "metadata": {
    "vscode": {
     "languageId": "r"
    }
   },
   "outputs": [],
   "source": [
    "# NEED TO CHANGE FIELD TO A DATE FIELD for the steps after this\n",
    "ozone <- mutate(ozone, Date.Local = as.Date(Date.Local))\n"
   ]
  },
  {
   "cell_type": "code",
   "execution_count": 27,
   "metadata": {
    "vscode": {
     "languageId": "r"
    }
   },
   "outputs": [
    {
     "data": {
      "text/html": [
       "6447"
      ],
      "text/latex": [
       "6447"
      ],
      "text/markdown": [
       "6447"
      ],
      "text/plain": [
       "[1] 6447"
      ]
     },
     "metadata": {},
     "output_type": "display_data"
    },
    {
     "data": {
      "text/html": [
       "8038"
      ],
      "text/latex": [
       "8038"
      ],
      "text/markdown": [
       "8038"
      ],
      "text/plain": [
       "[1] 8038"
      ]
     },
     "metadata": {},
     "output_type": "display_data"
    },
    {
     "data": {
      "text/html": [
       "8760"
      ],
      "text/latex": [
       "8760"
      ],
      "text/markdown": [
       "8760"
      ],
      "text/plain": [
       "[1] 8760"
      ]
     },
     "metadata": {},
     "output_type": "display_data"
    },
    {
     "data": {
      "image/png": "[encoded data removed]",
      "text/plain": [
       "plot without title"
      ]
     },
     "metadata": {
      "image/png": {
       "height": 420,
       "width": 420
      }
     },
     "output_type": "display_data"
    }
   ],
   "source": [
    "# good idea to check into the records/observations that go into the result, for example...\n",
    "worstcounty <-filter(ozone, State.Name == 'Colorado' & County.Name == 'Clear Creek')\n",
    "nrow(worstcounty)\n",
    "\n",
    "bestcounty <-filter(ozone, State.Name == 'Puerto Rico' & County.Name == 'Catano')\n",
    "nrow(bestcounty)\n",
    "\n",
    "# hourly observations, there should be\n",
    "365 * 24\n",
    "\n",
    "# So, let's check it by month\n",
    "mutate(worstcounty, month = format(Date.Local,'%m')) %>%\n",
    "group_by(month) %>%\n",
    "summarize(ozone2 = mean(Sample.Measurement)) %>%\n",
    "plot(type='o', col='red', ylim=c(0,0.075))\n",
    "\n",
    "# add another line for the best county\n",
    "mutate(bestcounty, month = format(Date.Local,'%m')) %>%\n",
    "group_by(month) %>%\n",
    "summarize(ozone2 = mean(Sample.Measurement)) %>%\n",
    "lines(type='o', col='blue')\n",
    "\n",
    "# You can see that the Worst county is missing March data\n"
   ]
  },
  {
   "cell_type": "code",
   "execution_count": 36,
   "metadata": {
    "vscode": {
     "languageId": "r"
    }
   },
   "outputs": [
    {
     "data": {
      "image/png": "[encoded data removed]",
      "text/plain": [
       "plot without title"
      ]
     },
     "metadata": {
      "image/png": {
       "height": 420,
       "width": 420
      }
     },
     "output_type": "display_data"
    }
   ],
   "source": [
    "# try a fancier thing to see the blank more obviously\n",
    "\n",
    "\n",
    "# So, let's check it by month\n",
    "w <- mutate(worstcounty, month = format(Date.Local,'%m')) %>%\n",
    "group_by(month) %>%\n",
    "summarize(ozone2 = mean(Sample.Measurement))\n",
    "\n",
    "# add another line for the best county\n",
    "b <- mutate(bestcounty, month = format(Date.Local,'%m')) %>%\n",
    "group_by(month) %>%\n",
    "summarize(ozone2 = mean(Sample.Measurement))\n",
    "\n",
    "temp<-merge(b, w, by='month', all=TRUE)\n",
    "plot(temp$month, temp$ozone2.y, type='o', col='red', ylim=c(0,0.075))\n",
    "lines(temp$month, temp$ozone2.x, type='o', col='blue')"
   ]
  },
  {
   "attachments": {},
   "cell_type": "markdown",
   "metadata": {},
   "source": [
    "# 9. Challenge your solution\n",
    "\n",
    "Sensitivity testing? create a new dataset taking a random sampling of the records from the original data set.  Make it the same size as the original dataset."
   ]
  },
  {
   "cell_type": "code",
   "execution_count": 39,
   "metadata": {
    "vscode": {
     "languageId": "r"
    }
   },
   "outputs": [],
   "source": [
    "set.seed(10234)\n",
    "N <-nrow(ozone)\n",
    "idx <- sample(N, N, replace=TRUE)\n",
    "ozone2 <- ozone[idx,]"
   ]
  },
  {
   "cell_type": "code",
   "execution_count": 41,
   "metadata": {
    "vscode": {
     "languageId": "r"
    }
   },
   "outputs": [
    {
     "name": "stderr",
     "output_type": "stream",
     "text": [
      "\u001b[1m\u001b[22m`summarise()` has grouped output by 'State.Name'. You can override using the\n",
      "`.groups` argument.\n",
      "\u001b[1m\u001b[22mNew names:\n",
      "\u001b[36m•\u001b[39m `State.Name` -> `State.Name...1`\n",
      "\u001b[36m•\u001b[39m `County.Name` -> `County.Name...2`\n",
      "\u001b[36m•\u001b[39m `State.Name` -> `State.Name...4`\n",
      "\u001b[36m•\u001b[39m `County.Name` -> `County.Name...5`\n"
     ]
    },
    {
     "data": {
      "text/html": [
       "<table class=\"dataframe\">\n",
       "<caption>A tibble: 10 × 6</caption>\n",
       "<thead>\n",
       "\t<tr><th scope=col>State.Name...1</th><th scope=col>County.Name...2</th><th scope=col>ozone</th><th scope=col>State.Name...4</th><th scope=col>County.Name...5</th><th scope=col>ozone2</th></tr>\n",
       "\t<tr><th scope=col>&lt;chr&gt;</th><th scope=col>&lt;chr&gt;</th><th scope=col>&lt;dbl&gt;</th><th scope=col>&lt;chr&gt;</th><th scope=col>&lt;chr&gt;</th><th scope=col>&lt;dbl&gt;</th></tr>\n",
       "</thead>\n",
       "<tbody>\n",
       "\t<tr><td>Colorado  </td><td>Clear Creek</td><td>0.05022088</td><td>Colorado  </td><td>Clear Creek</td><td>0.05029723</td></tr>\n",
       "\t<tr><td>California</td><td>Mariposa   </td><td>0.04849011</td><td>California</td><td>Mariposa   </td><td>0.04851848</td></tr>\n",
       "\t<tr><td>California</td><td>Nevada     </td><td>0.04821713</td><td>California</td><td>Nevada     </td><td>0.04820596</td></tr>\n",
       "\t<tr><td>Colorado  </td><td>Park       </td><td>0.04799988</td><td>Colorado  </td><td>Park       </td><td>0.04793101</td></tr>\n",
       "\t<tr><td>Wyoming   </td><td>Albany     </td><td>0.04740057</td><td>Colorado  </td><td>Chaffee    </td><td>0.04742990</td></tr>\n",
       "\t<tr><td>Colorado  </td><td>Chaffee    </td><td>0.04732017</td><td>Wyoming   </td><td>Albany     </td><td>0.04737101</td></tr>\n",
       "\t<tr><td>California</td><td>Inyo       </td><td>0.04469113</td><td>California</td><td>Inyo       </td><td>0.04459566</td></tr>\n",
       "\t<tr><td>Utah      </td><td>San Juan   </td><td>0.04435075</td><td>Utah      </td><td>San Juan   </td><td>0.04448041</td></tr>\n",
       "\t<tr><td>California</td><td>El Dorado  </td><td>0.04363719</td><td>California</td><td>El Dorado  </td><td>0.04379298</td></tr>\n",
       "\t<tr><td>Nevada    </td><td>Elko       </td><td>0.04346459</td><td>Nevada    </td><td>Elko       </td><td>0.04368228</td></tr>\n",
       "</tbody>\n",
       "</table>\n"
      ],
      "text/latex": [
       "A tibble: 10 × 6\n",
       "\\begin{tabular}{llllll}\n",
       " State.Name...1 & County.Name...2 & ozone & State.Name...4 & County.Name...5 & ozone2\\\\\n",
       " <chr> & <chr> & <dbl> & <chr> & <chr> & <dbl>\\\\\n",
       "\\hline\n",
       "\t Colorado   & Clear Creek & 0.05022088 & Colorado   & Clear Creek & 0.05029723\\\\\n",
       "\t California & Mariposa    & 0.04849011 & California & Mariposa    & 0.04851848\\\\\n",
       "\t California & Nevada      & 0.04821713 & California & Nevada      & 0.04820596\\\\\n",
       "\t Colorado   & Park        & 0.04799988 & Colorado   & Park        & 0.04793101\\\\\n",
       "\t Wyoming    & Albany      & 0.04740057 & Colorado   & Chaffee     & 0.04742990\\\\\n",
       "\t Colorado   & Chaffee     & 0.04732017 & Wyoming    & Albany      & 0.04737101\\\\\n",
       "\t California & Inyo        & 0.04469113 & California & Inyo        & 0.04459566\\\\\n",
       "\t Utah       & San Juan    & 0.04435075 & Utah       & San Juan    & 0.04448041\\\\\n",
       "\t California & El Dorado   & 0.04363719 & California & El Dorado   & 0.04379298\\\\\n",
       "\t Nevada     & Elko        & 0.04346459 & Nevada     & Elko        & 0.04368228\\\\\n",
       "\\end{tabular}\n"
      ],
      "text/markdown": [
       "\n",
       "A tibble: 10 × 6\n",
       "\n",
       "| State.Name...1 &lt;chr&gt; | County.Name...2 &lt;chr&gt; | ozone &lt;dbl&gt; | State.Name...4 &lt;chr&gt; | County.Name...5 &lt;chr&gt; | ozone2 &lt;dbl&gt; |\n",
       "|---|---|---|---|---|---|\n",
       "| Colorado   | Clear Creek | 0.05022088 | Colorado   | Clear Creek | 0.05029723 |\n",
       "| California | Mariposa    | 0.04849011 | California | Mariposa    | 0.04851848 |\n",
       "| California | Nevada      | 0.04821713 | California | Nevada      | 0.04820596 |\n",
       "| Colorado   | Park        | 0.04799988 | Colorado   | Park        | 0.04793101 |\n",
       "| Wyoming    | Albany      | 0.04740057 | Colorado   | Chaffee     | 0.04742990 |\n",
       "| Colorado   | Chaffee     | 0.04732017 | Wyoming    | Albany      | 0.04737101 |\n",
       "| California | Inyo        | 0.04469113 | California | Inyo        | 0.04459566 |\n",
       "| Utah       | San Juan    | 0.04435075 | Utah       | San Juan    | 0.04448041 |\n",
       "| California | El Dorado   | 0.04363719 | California | El Dorado   | 0.04379298 |\n",
       "| Nevada     | Elko        | 0.04346459 | Nevada     | Elko        | 0.04368228 |\n",
       "\n"
      ],
      "text/plain": [
       "   State.Name...1 County.Name...2 ozone      State.Name...4 County.Name...5\n",
       "1  Colorado       Clear Creek     0.05022088 Colorado       Clear Creek    \n",
       "2  California     Mariposa        0.04849011 California     Mariposa       \n",
       "3  California     Nevada          0.04821713 California     Nevada         \n",
       "4  Colorado       Park            0.04799988 Colorado       Park           \n",
       "5  Wyoming        Albany          0.04740057 Colorado       Chaffee        \n",
       "6  Colorado       Chaffee         0.04732017 Wyoming        Albany         \n",
       "7  California     Inyo            0.04469113 California     Inyo           \n",
       "8  Utah           San Juan        0.04435075 Utah           San Juan       \n",
       "9  California     El Dorado       0.04363719 California     El Dorado      \n",
       "10 Nevada         Elko            0.04346459 Nevada         Elko           \n",
       "   ozone2    \n",
       "1  0.05029723\n",
       "2  0.04851848\n",
       "3  0.04820596\n",
       "4  0.04793101\n",
       "5  0.04742990\n",
       "6  0.04737101\n",
       "7  0.04459566\n",
       "8  0.04448041\n",
       "9  0.04379298\n",
       "10 0.04368228"
      ]
     },
     "metadata": {},
     "output_type": "display_data"
    },
    {
     "name": "stderr",
     "output_type": "stream",
     "text": [
      "\u001b[1m\u001b[22mNew names:\n",
      "\u001b[36m•\u001b[39m `State.Name` -> `State.Name...1`\n",
      "\u001b[36m•\u001b[39m `County.Name` -> `County.Name...2`\n",
      "\u001b[36m•\u001b[39m `State.Name` -> `State.Name...4`\n",
      "\u001b[36m•\u001b[39m `County.Name` -> `County.Name...5`\n"
     ]
    },
    {
     "data": {
      "text/html": [
       "<table class=\"dataframe\">\n",
       "<caption>A tibble: 10 × 6</caption>\n",
       "<thead>\n",
       "\t<tr><th scope=col>State.Name...1</th><th scope=col>County.Name...2</th><th scope=col>ozone</th><th scope=col>State.Name...4</th><th scope=col>County.Name...5</th><th scope=col>ozone2</th></tr>\n",
       "\t<tr><th scope=col>&lt;chr&gt;</th><th scope=col>&lt;chr&gt;</th><th scope=col>&lt;dbl&gt;</th><th scope=col>&lt;chr&gt;</th><th scope=col>&lt;chr&gt;</th><th scope=col>&lt;dbl&gt;</th></tr>\n",
       "</thead>\n",
       "<tbody>\n",
       "\t<tr><td>Georgia    </td><td>DeKalb              </td><td>0.020478241</td><td>Georgia    </td><td>DeKalb              </td><td>0.020399422</td></tr>\n",
       "\t<tr><td>New Jersey </td><td>Warren              </td><td>0.020137471</td><td>New Jersey </td><td>Warren              </td><td>0.020163714</td></tr>\n",
       "\t<tr><td>Louisiana  </td><td>West Baton Rouge    </td><td>0.020091025</td><td>Washington </td><td>Whatcom             </td><td>0.020023377</td></tr>\n",
       "\t<tr><td>Washington </td><td>Whatcom             </td><td>0.020079729</td><td>Louisiana  </td><td>West Baton Rouge    </td><td>0.019814119</td></tr>\n",
       "\t<tr><td>Oregon     </td><td>Washington          </td><td>0.019582854</td><td>Oregon     </td><td>Washington          </td><td>0.019515490</td></tr>\n",
       "\t<tr><td>Oklahoma   </td><td>Caddo               </td><td>0.017519115</td><td>Oklahoma   </td><td>Caddo               </td><td>0.017504521</td></tr>\n",
       "\t<tr><td>Puerto Rico</td><td>Juncos              </td><td>0.013462225</td><td>Puerto Rico</td><td>Juncos              </td><td>0.013579437</td></tr>\n",
       "\t<tr><td>Alaska     </td><td>Fairbanks North Star</td><td>0.013273003</td><td>Alaska     </td><td>Fairbanks North Star</td><td>0.013400340</td></tr>\n",
       "\t<tr><td>Puerto Rico</td><td>Bayamon             </td><td>0.008517895</td><td>Puerto Rico</td><td>Bayamon             </td><td>0.008782167</td></tr>\n",
       "\t<tr><td>Puerto Rico</td><td>Catano              </td><td>0.004490545</td><td>Puerto Rico</td><td>Catano              </td><td>0.004387252</td></tr>\n",
       "</tbody>\n",
       "</table>\n"
      ],
      "text/latex": [
       "A tibble: 10 × 6\n",
       "\\begin{tabular}{llllll}\n",
       " State.Name...1 & County.Name...2 & ozone & State.Name...4 & County.Name...5 & ozone2\\\\\n",
       " <chr> & <chr> & <dbl> & <chr> & <chr> & <dbl>\\\\\n",
       "\\hline\n",
       "\t Georgia     & DeKalb               & 0.020478241 & Georgia     & DeKalb               & 0.020399422\\\\\n",
       "\t New Jersey  & Warren               & 0.020137471 & New Jersey  & Warren               & 0.020163714\\\\\n",
       "\t Louisiana   & West Baton Rouge     & 0.020091025 & Washington  & Whatcom              & 0.020023377\\\\\n",
       "\t Washington  & Whatcom              & 0.020079729 & Louisiana   & West Baton Rouge     & 0.019814119\\\\\n",
       "\t Oregon      & Washington           & 0.019582854 & Oregon      & Washington           & 0.019515490\\\\\n",
       "\t Oklahoma    & Caddo                & 0.017519115 & Oklahoma    & Caddo                & 0.017504521\\\\\n",
       "\t Puerto Rico & Juncos               & 0.013462225 & Puerto Rico & Juncos               & 0.013579437\\\\\n",
       "\t Alaska      & Fairbanks North Star & 0.013273003 & Alaska      & Fairbanks North Star & 0.013400340\\\\\n",
       "\t Puerto Rico & Bayamon              & 0.008517895 & Puerto Rico & Bayamon              & 0.008782167\\\\\n",
       "\t Puerto Rico & Catano               & 0.004490545 & Puerto Rico & Catano               & 0.004387252\\\\\n",
       "\\end{tabular}\n"
      ],
      "text/markdown": [
       "\n",
       "A tibble: 10 × 6\n",
       "\n",
       "| State.Name...1 &lt;chr&gt; | County.Name...2 &lt;chr&gt; | ozone &lt;dbl&gt; | State.Name...4 &lt;chr&gt; | County.Name...5 &lt;chr&gt; | ozone2 &lt;dbl&gt; |\n",
       "|---|---|---|---|---|---|\n",
       "| Georgia     | DeKalb               | 0.020478241 | Georgia     | DeKalb               | 0.020399422 |\n",
       "| New Jersey  | Warren               | 0.020137471 | New Jersey  | Warren               | 0.020163714 |\n",
       "| Louisiana   | West Baton Rouge     | 0.020091025 | Washington  | Whatcom              | 0.020023377 |\n",
       "| Washington  | Whatcom              | 0.020079729 | Louisiana   | West Baton Rouge     | 0.019814119 |\n",
       "| Oregon      | Washington           | 0.019582854 | Oregon      | Washington           | 0.019515490 |\n",
       "| Oklahoma    | Caddo                | 0.017519115 | Oklahoma    | Caddo                | 0.017504521 |\n",
       "| Puerto Rico | Juncos               | 0.013462225 | Puerto Rico | Juncos               | 0.013579437 |\n",
       "| Alaska      | Fairbanks North Star | 0.013273003 | Alaska      | Fairbanks North Star | 0.013400340 |\n",
       "| Puerto Rico | Bayamon              | 0.008517895 | Puerto Rico | Bayamon              | 0.008782167 |\n",
       "| Puerto Rico | Catano               | 0.004490545 | Puerto Rico | Catano               | 0.004387252 |\n",
       "\n"
      ],
      "text/plain": [
       "   State.Name...1 County.Name...2      ozone       State.Name...4\n",
       "1  Georgia        DeKalb               0.020478241 Georgia       \n",
       "2  New Jersey     Warren               0.020137471 New Jersey    \n",
       "3  Louisiana      West Baton Rouge     0.020091025 Washington    \n",
       "4  Washington     Whatcom              0.020079729 Louisiana     \n",
       "5  Oregon         Washington           0.019582854 Oregon        \n",
       "6  Oklahoma       Caddo                0.017519115 Oklahoma      \n",
       "7  Puerto Rico    Juncos               0.013462225 Puerto Rico   \n",
       "8  Alaska         Fairbanks North Star 0.013273003 Alaska        \n",
       "9  Puerto Rico    Bayamon              0.008517895 Puerto Rico   \n",
       "10 Puerto Rico    Catano               0.004490545 Puerto Rico   \n",
       "   County.Name...5      ozone2     \n",
       "1  DeKalb               0.020399422\n",
       "2  Warren               0.020163714\n",
       "3  Whatcom              0.020023377\n",
       "4  West Baton Rouge     0.019814119\n",
       "5  Washington           0.019515490\n",
       "6  Caddo                0.017504521\n",
       "7  Juncos               0.013579437\n",
       "8  Fairbanks North Star 0.013400340\n",
       "9  Bayamon              0.008782167\n",
       "10 Catano               0.004387252"
      ]
     },
     "metadata": {},
     "output_type": "display_data"
    }
   ],
   "source": [
    "rankedcounties2 <- group_by(ozone2, State.Name, County.Name) %>%\n",
    "                  summarize(ozone2 = mean(Sample.Measurement)) %>%\n",
    "                  arrange(desc(ozone2))\n",
    "\n",
    "cbind(head(rankedcounties,10),head(rankedcounties2,10))\n",
    "\n",
    "cbind(tail(rankedcounties,10),tail(rankedcounties2,10))\n",
    "\n",
    "# the answers are pretty close to the same, so the solution seems stable."
   ]
  },
  {
   "attachments": {},
   "cell_type": "markdown",
   "metadata": {},
   "source": [
    "# 10. Follow up Questions\n",
    "\n",
    "from the textbook...\n",
    "\n",
    "1. **Do you have the right data?** Sometimes at the conclusion of an exploratory data analysis, the conclusion is that the dataset is not really appropriate for this question. In this case, the dataset seemed perfectly fine for answering the question of which counties had the highest levels of ozone.\n",
    "\n",
    "1. **Do you need other data?** One sub-question we tried to address was whether the county rankings were stable across years. We addressed this by resampling the data once to see if the rankings changed, but the better way to do this would be to simply get the data for previous years and re-do the rankings.\n",
    "\n",
    "1. **Do you have the right question?** In this case, it’s not clear that the question we tried to answer has immediate relevance, and the data didn’t really indicate anything to increase the question’s relevance. For example, it might have been more interesting to assess which counties were in violation of the national ambient air quality standard, because determining this could have regulatory implications. However, this is a much more complicated calculation to do, requiring data from at least 3 previous years.\n",
    "\n",
    "The goal of exploratory data analysis is to get you thinking about your data and reasoning about your question. At this point, we can refine our question or collect new data, all in an iterative process to get at the truth."
   ]
  }
 ],
 "metadata": {
  "kernelspec": {
   "display_name": "R",
   "language": "R",
   "name": "ir"
  },
  "language_info": {
   "codemirror_mode": "r",
   "file_extension": ".r",
   "mimetype": "text/x-r-source",
   "name": "R",
   "pygments_lexer": "r",
   "version": "4.3.0"
  },
  "orig_nbformat": 4
 },
 "nbformat": 4,
 "nbformat_minor": 2
}
