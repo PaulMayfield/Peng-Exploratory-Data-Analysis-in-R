{
 "cells": [
  {
   "attachments": {},
   "cell_type": "markdown",
   "metadata": {
    "vscode": {
     "languageId": "r"
    }
   },
   "source": [
    "# Exploratory Data Analysis Checklist\n",
    "1. Formulate your question\n",
    "1. Read in your data\n",
    "1. Check the packaging\n",
    "1. Run `str()`\n",
    "1. Look at the top and the bottom of your data\n",
    "1. Check your “n”s\n",
    "1. Validate with at least one external data source\n",
    "1. Try the easy solution first\n",
    "1. Challenge your solution\n",
    "1. Follow up"
   ]
  },
  {
   "attachments": {},
   "cell_type": "markdown",
   "metadata": {},
   "source": [
    "# 1. Formulate your question\n",
    "\n",
    "For this example, we will look at an air pollution dataset from  U.S. Environmental Protection Agency (EPA).  We ask\n",
    "> \"Which counties in the United States have the highest levels of ambient ozone pollution?\"\n",
    "\n",
    "We are also interested (always) in asking\n",
    ">\"Do I have the right data to answer my question?\""
   ]
  },
  {
   "attachments": {},
   "cell_type": "markdown",
   "metadata": {},
   "source": [
    "# 2. Read in your data"
   ]
  },
  {
   "cell_type": "code",
   "execution_count": 8,
   "metadata": {
    "vscode": {
     "languageId": "r"
    }
   },
   "outputs": [],
   "source": [
    "# use readr package for faster reading of large csv files, apparently it's faster than the built in csv reader when the csvs are not complex\n",
    "library (readr)\n",
    "ozone <- readr::read_csv('hourly_44201_2014.csv', col_types='ccccinnccccccncnnccccccc')\n"
   ]
  },
  {
   "cell_type": "code",
   "execution_count": 9,
   "metadata": {
    "vscode": {
     "languageId": "r"
    }
   },
   "outputs": [
    {
     "data": {
      "text/html": [
       "<table class=\"dataframe\">\n",
       "<caption>A tibble: 6 × 24</caption>\n",
       "<thead>\n",
       "\t<tr><th scope=col>State.Code</th><th scope=col>County.Code</th><th scope=col>Site.Num</th><th scope=col>Parameter.Code</th><th scope=col>POC</th><th scope=col>Latitude</th><th scope=col>Longitude</th><th scope=col>Datum</th><th scope=col>Parameter.Name</th><th scope=col>Date.Local</th><th scope=col>⋯</th><th scope=col>Units.of.Measure</th><th scope=col>MDL</th><th scope=col>Uncertainty</th><th scope=col>Qualifier</th><th scope=col>Method.Type</th><th scope=col>Method.Code</th><th scope=col>Method.Name</th><th scope=col>State.Name</th><th scope=col>County.Name</th><th scope=col>Date.of.Last.Change</th></tr>\n",
       "\t<tr><th scope=col>&lt;chr&gt;</th><th scope=col>&lt;chr&gt;</th><th scope=col>&lt;chr&gt;</th><th scope=col>&lt;chr&gt;</th><th scope=col>&lt;int&gt;</th><th scope=col>&lt;dbl&gt;</th><th scope=col>&lt;dbl&gt;</th><th scope=col>&lt;chr&gt;</th><th scope=col>&lt;chr&gt;</th><th scope=col>&lt;chr&gt;</th><th scope=col>⋯</th><th scope=col>&lt;chr&gt;</th><th scope=col>&lt;dbl&gt;</th><th scope=col>&lt;dbl&gt;</th><th scope=col>&lt;chr&gt;</th><th scope=col>&lt;chr&gt;</th><th scope=col>&lt;chr&gt;</th><th scope=col>&lt;chr&gt;</th><th scope=col>&lt;chr&gt;</th><th scope=col>&lt;chr&gt;</th><th scope=col>&lt;chr&gt;</th></tr>\n",
       "</thead>\n",
       "<tbody>\n",
       "\t<tr><td>01</td><td>003</td><td>0010</td><td>44201</td><td>1</td><td>30.49748</td><td>-87.88026</td><td>NAD83</td><td>Ozone</td><td>2014-03-01</td><td>⋯</td><td>Parts per million</td><td>0.005</td><td>NA</td><td>NA</td><td>FEM</td><td>047</td><td>INSTRUMENTAL - ULTRA VIOLET</td><td>Alabama</td><td>Baldwin</td><td>2014-06-30</td></tr>\n",
       "\t<tr><td>01</td><td>003</td><td>0010</td><td>44201</td><td>1</td><td>30.49748</td><td>-87.88026</td><td>NAD83</td><td>Ozone</td><td>2014-03-01</td><td>⋯</td><td>Parts per million</td><td>0.005</td><td>NA</td><td>NA</td><td>FEM</td><td>047</td><td>INSTRUMENTAL - ULTRA VIOLET</td><td>Alabama</td><td>Baldwin</td><td>2014-06-30</td></tr>\n",
       "\t<tr><td>01</td><td>003</td><td>0010</td><td>44201</td><td>1</td><td>30.49748</td><td>-87.88026</td><td>NAD83</td><td>Ozone</td><td>2014-03-01</td><td>⋯</td><td>Parts per million</td><td>0.005</td><td>NA</td><td>NA</td><td>FEM</td><td>047</td><td>INSTRUMENTAL - ULTRA VIOLET</td><td>Alabama</td><td>Baldwin</td><td>2014-06-30</td></tr>\n",
       "\t<tr><td>01</td><td>003</td><td>0010</td><td>44201</td><td>1</td><td>30.49748</td><td>-87.88026</td><td>NAD83</td><td>Ozone</td><td>2014-03-01</td><td>⋯</td><td>Parts per million</td><td>0.005</td><td>NA</td><td>NA</td><td>FEM</td><td>047</td><td>INSTRUMENTAL - ULTRA VIOLET</td><td>Alabama</td><td>Baldwin</td><td>2014-06-30</td></tr>\n",
       "\t<tr><td>01</td><td>003</td><td>0010</td><td>44201</td><td>1</td><td>30.49748</td><td>-87.88026</td><td>NAD83</td><td>Ozone</td><td>2014-03-01</td><td>⋯</td><td>Parts per million</td><td>0.005</td><td>NA</td><td>NA</td><td>FEM</td><td>047</td><td>INSTRUMENTAL - ULTRA VIOLET</td><td>Alabama</td><td>Baldwin</td><td>2014-06-30</td></tr>\n",
       "\t<tr><td>01</td><td>003</td><td>0010</td><td>44201</td><td>1</td><td>30.49748</td><td>-87.88026</td><td>NAD83</td><td>Ozone</td><td>2014-03-01</td><td>⋯</td><td>Parts per million</td><td>0.005</td><td>NA</td><td>NA</td><td>FEM</td><td>047</td><td>INSTRUMENTAL - ULTRA VIOLET</td><td>Alabama</td><td>Baldwin</td><td>2014-06-30</td></tr>\n",
       "</tbody>\n",
       "</table>\n"
      ],
      "text/latex": [
       "A tibble: 6 × 24\n",
       "\\begin{tabular}{lllllllllllllllllllll}\n",
       " State.Code & County.Code & Site.Num & Parameter.Code & POC & Latitude & Longitude & Datum & Parameter.Name & Date.Local & ⋯ & Units.of.Measure & MDL & Uncertainty & Qualifier & Method.Type & Method.Code & Method.Name & State.Name & County.Name & Date.of.Last.Change\\\\\n",
       " <chr> & <chr> & <chr> & <chr> & <int> & <dbl> & <dbl> & <chr> & <chr> & <chr> & ⋯ & <chr> & <dbl> & <dbl> & <chr> & <chr> & <chr> & <chr> & <chr> & <chr> & <chr>\\\\\n",
       "\\hline\n",
       "\t 01 & 003 & 0010 & 44201 & 1 & 30.49748 & -87.88026 & NAD83 & Ozone & 2014-03-01 & ⋯ & Parts per million & 0.005 & NA & NA & FEM & 047 & INSTRUMENTAL - ULTRA VIOLET & Alabama & Baldwin & 2014-06-30\\\\\n",
       "\t 01 & 003 & 0010 & 44201 & 1 & 30.49748 & -87.88026 & NAD83 & Ozone & 2014-03-01 & ⋯ & Parts per million & 0.005 & NA & NA & FEM & 047 & INSTRUMENTAL - ULTRA VIOLET & Alabama & Baldwin & 2014-06-30\\\\\n",
       "\t 01 & 003 & 0010 & 44201 & 1 & 30.49748 & -87.88026 & NAD83 & Ozone & 2014-03-01 & ⋯ & Parts per million & 0.005 & NA & NA & FEM & 047 & INSTRUMENTAL - ULTRA VIOLET & Alabama & Baldwin & 2014-06-30\\\\\n",
       "\t 01 & 003 & 0010 & 44201 & 1 & 30.49748 & -87.88026 & NAD83 & Ozone & 2014-03-01 & ⋯ & Parts per million & 0.005 & NA & NA & FEM & 047 & INSTRUMENTAL - ULTRA VIOLET & Alabama & Baldwin & 2014-06-30\\\\\n",
       "\t 01 & 003 & 0010 & 44201 & 1 & 30.49748 & -87.88026 & NAD83 & Ozone & 2014-03-01 & ⋯ & Parts per million & 0.005 & NA & NA & FEM & 047 & INSTRUMENTAL - ULTRA VIOLET & Alabama & Baldwin & 2014-06-30\\\\\n",
       "\t 01 & 003 & 0010 & 44201 & 1 & 30.49748 & -87.88026 & NAD83 & Ozone & 2014-03-01 & ⋯ & Parts per million & 0.005 & NA & NA & FEM & 047 & INSTRUMENTAL - ULTRA VIOLET & Alabama & Baldwin & 2014-06-30\\\\\n",
       "\\end{tabular}\n"
      ],
      "text/markdown": [
       "\n",
       "A tibble: 6 × 24\n",
       "\n",
       "| State.Code &lt;chr&gt; | County.Code &lt;chr&gt; | Site.Num &lt;chr&gt; | Parameter.Code &lt;chr&gt; | POC &lt;int&gt; | Latitude &lt;dbl&gt; | Longitude &lt;dbl&gt; | Datum &lt;chr&gt; | Parameter.Name &lt;chr&gt; | Date.Local &lt;chr&gt; | ⋯ ⋯ | Units.of.Measure &lt;chr&gt; | MDL &lt;dbl&gt; | Uncertainty &lt;dbl&gt; | Qualifier &lt;chr&gt; | Method.Type &lt;chr&gt; | Method.Code &lt;chr&gt; | Method.Name &lt;chr&gt; | State.Name &lt;chr&gt; | County.Name &lt;chr&gt; | Date.of.Last.Change &lt;chr&gt; |\n",
       "|---|---|---|---|---|---|---|---|---|---|---|---|---|---|---|---|---|---|---|---|---|\n",
       "| 01 | 003 | 0010 | 44201 | 1 | 30.49748 | -87.88026 | NAD83 | Ozone | 2014-03-01 | ⋯ | Parts per million | 0.005 | NA | NA | FEM | 047 | INSTRUMENTAL - ULTRA VIOLET | Alabama | Baldwin | 2014-06-30 |\n",
       "| 01 | 003 | 0010 | 44201 | 1 | 30.49748 | -87.88026 | NAD83 | Ozone | 2014-03-01 | ⋯ | Parts per million | 0.005 | NA | NA | FEM | 047 | INSTRUMENTAL - ULTRA VIOLET | Alabama | Baldwin | 2014-06-30 |\n",
       "| 01 | 003 | 0010 | 44201 | 1 | 30.49748 | -87.88026 | NAD83 | Ozone | 2014-03-01 | ⋯ | Parts per million | 0.005 | NA | NA | FEM | 047 | INSTRUMENTAL - ULTRA VIOLET | Alabama | Baldwin | 2014-06-30 |\n",
       "| 01 | 003 | 0010 | 44201 | 1 | 30.49748 | -87.88026 | NAD83 | Ozone | 2014-03-01 | ⋯ | Parts per million | 0.005 | NA | NA | FEM | 047 | INSTRUMENTAL - ULTRA VIOLET | Alabama | Baldwin | 2014-06-30 |\n",
       "| 01 | 003 | 0010 | 44201 | 1 | 30.49748 | -87.88026 | NAD83 | Ozone | 2014-03-01 | ⋯ | Parts per million | 0.005 | NA | NA | FEM | 047 | INSTRUMENTAL - ULTRA VIOLET | Alabama | Baldwin | 2014-06-30 |\n",
       "| 01 | 003 | 0010 | 44201 | 1 | 30.49748 | -87.88026 | NAD83 | Ozone | 2014-03-01 | ⋯ | Parts per million | 0.005 | NA | NA | FEM | 047 | INSTRUMENTAL - ULTRA VIOLET | Alabama | Baldwin | 2014-06-30 |\n",
       "\n"
      ],
      "text/plain": [
       "  State.Code County.Code Site.Num Parameter.Code POC Latitude Longitude Datum\n",
       "1 01         003         0010     44201          1   30.49748 -87.88026 NAD83\n",
       "2 01         003         0010     44201          1   30.49748 -87.88026 NAD83\n",
       "3 01         003         0010     44201          1   30.49748 -87.88026 NAD83\n",
       "4 01         003         0010     44201          1   30.49748 -87.88026 NAD83\n",
       "5 01         003         0010     44201          1   30.49748 -87.88026 NAD83\n",
       "6 01         003         0010     44201          1   30.49748 -87.88026 NAD83\n",
       "  Parameter.Name Date.Local ⋯ Units.of.Measure  MDL   Uncertainty Qualifier\n",
       "1 Ozone          2014-03-01 ⋯ Parts per million 0.005 NA          NA       \n",
       "2 Ozone          2014-03-01 ⋯ Parts per million 0.005 NA          NA       \n",
       "3 Ozone          2014-03-01 ⋯ Parts per million 0.005 NA          NA       \n",
       "4 Ozone          2014-03-01 ⋯ Parts per million 0.005 NA          NA       \n",
       "5 Ozone          2014-03-01 ⋯ Parts per million 0.005 NA          NA       \n",
       "6 Ozone          2014-03-01 ⋯ Parts per million 0.005 NA          NA       \n",
       "  Method.Type Method.Code Method.Name                 State.Name County.Name\n",
       "1 FEM         047         INSTRUMENTAL - ULTRA VIOLET Alabama    Baldwin    \n",
       "2 FEM         047         INSTRUMENTAL - ULTRA VIOLET Alabama    Baldwin    \n",
       "3 FEM         047         INSTRUMENTAL - ULTRA VIOLET Alabama    Baldwin    \n",
       "4 FEM         047         INSTRUMENTAL - ULTRA VIOLET Alabama    Baldwin    \n",
       "5 FEM         047         INSTRUMENTAL - ULTRA VIOLET Alabama    Baldwin    \n",
       "6 FEM         047         INSTRUMENTAL - ULTRA VIOLET Alabama    Baldwin    \n",
       "  Date.of.Last.Change\n",
       "1 2014-06-30         \n",
       "2 2014-06-30         \n",
       "3 2014-06-30         \n",
       "4 2014-06-30         \n",
       "5 2014-06-30         \n",
       "6 2014-06-30         "
      ]
     },
     "metadata": {},
     "output_type": "display_data"
    }
   ],
   "source": [
    "# a trick to remove spaces from the column names\n",
    "names(ozone) <- make.names(names(ozone))\n",
    "head(ozone)"
   ]
  },
  {
   "attachments": {},
   "cell_type": "markdown",
   "metadata": {},
   "source": [
    "# 3. Check The Packaging\n",
    "\n",
    "Where you able to load your data?  DOes it look like what you expected?"
   ]
  },
  {
   "cell_type": "code",
   "execution_count": 10,
   "metadata": {
    "vscode": {
     "languageId": "r"
    }
   },
   "outputs": [
    {
     "data": {
      "text/html": [
       "9060694"
      ],
      "text/latex": [
       "9060694"
      ],
      "text/markdown": [
       "9060694"
      ],
      "text/plain": [
       "[1] 9060694"
      ]
     },
     "metadata": {},
     "output_type": "display_data"
    },
    {
     "data": {
      "text/html": [
       "24"
      ],
      "text/latex": [
       "24"
      ],
      "text/markdown": [
       "24"
      ],
      "text/plain": [
       "[1] 24"
      ]
     },
     "metadata": {},
     "output_type": "display_data"
    }
   ],
   "source": [
    "nrow(ozone)\n",
    "ncol(ozone)"
   ]
  },
  {
   "attachments": {},
   "cell_type": "markdown",
   "metadata": {},
   "source": [
    "# 4. Run `str()`\n",
    "\n",
    "Check data types, sample values, look for issues"
   ]
  },
  {
   "cell_type": "code",
   "execution_count": 12,
   "metadata": {
    "vscode": {
     "languageId": "r"
    }
   },
   "outputs": [
    {
     "name": "stdout",
     "output_type": "stream",
     "text": [
      "spc_tbl_ [9,060,694 × 24] (S3: spec_tbl_df/tbl_df/tbl/data.frame)\n",
      " $ State.Code         : chr [1:9060694] \"01\" \"01\" \"01\" \"01\" ...\n",
      " $ County.Code        : chr [1:9060694] \"003\" \"003\" \"003\" \"003\" ...\n",
      " $ Site.Num           : chr [1:9060694] \"0010\" \"0010\" \"0010\" \"0010\" ...\n",
      " $ Parameter.Code     : chr [1:9060694] \"44201\" \"44201\" \"44201\" \"44201\" ...\n",
      " $ POC                : int [1:9060694] 1 1 1 1 1 1 1 1 1 1 ...\n",
      " $ Latitude           : num [1:9060694] 30.5 30.5 30.5 30.5 30.5 ...\n",
      " $ Longitude          : num [1:9060694] -87.9 -87.9 -87.9 -87.9 -87.9 ...\n",
      " $ Datum              : chr [1:9060694] \"NAD83\" \"NAD83\" \"NAD83\" \"NAD83\" ...\n",
      " $ Parameter.Name     : chr [1:9060694] \"Ozone\" \"Ozone\" \"Ozone\" \"Ozone\" ...\n",
      " $ Date.Local         : chr [1:9060694] \"2014-03-01\" \"2014-03-01\" \"2014-03-01\" \"2014-03-01\" ...\n",
      " $ Time.Local         : chr [1:9060694] \"01:00\" \"02:00\" \"03:00\" \"04:00\" ...\n",
      " $ Date.GMT           : chr [1:9060694] \"2014-03-01\" \"2014-03-01\" \"2014-03-01\" \"2014-03-01\" ...\n",
      " $ Time.GMT           : chr [1:9060694] \"07:00\" \"08:00\" \"09:00\" \"10:00\" ...\n",
      " $ Sample.Measurement : num [1:9060694] 0.047 0.047 0.043 0.038 0.035 0.035 0.034 0.037 0.044 0.046 ...\n",
      " $ Units.of.Measure   : chr [1:9060694] \"Parts per million\" \"Parts per million\" \"Parts per million\" \"Parts per million\" ...\n",
      " $ MDL                : num [1:9060694] 0.005 0.005 0.005 0.005 0.005 0.005 0.005 0.005 0.005 0.005 ...\n",
      " $ Uncertainty        : num [1:9060694] NA NA NA NA NA NA NA NA NA NA ...\n",
      " $ Qualifier          : chr [1:9060694] NA NA NA NA ...\n",
      " $ Method.Type        : chr [1:9060694] \"FEM\" \"FEM\" \"FEM\" \"FEM\" ...\n",
      " $ Method.Code        : chr [1:9060694] \"047\" \"047\" \"047\" \"047\" ...\n",
      " $ Method.Name        : chr [1:9060694] \"INSTRUMENTAL - ULTRA VIOLET\" \"INSTRUMENTAL - ULTRA VIOLET\" \"INSTRUMENTAL - ULTRA VIOLET\" \"INSTRUMENTAL - ULTRA VIOLET\" ...\n",
      " $ State.Name         : chr [1:9060694] \"Alabama\" \"Alabama\" \"Alabama\" \"Alabama\" ...\n",
      " $ County.Name        : chr [1:9060694] \"Baldwin\" \"Baldwin\" \"Baldwin\" \"Baldwin\" ...\n",
      " $ Date.of.Last.Change: chr [1:9060694] \"2014-06-30\" \"2014-06-30\" \"2014-06-30\" \"2014-06-30\" ...\n",
      " - attr(*, \"spec\")=\n",
      "  .. cols(\n",
      "  ..   `State Code` = \u001b[31mcol_character()\u001b[39m,\n",
      "  ..   `County Code` = \u001b[31mcol_character()\u001b[39m,\n",
      "  ..   `Site Num` = \u001b[31mcol_character()\u001b[39m,\n",
      "  ..   `Parameter Code` = \u001b[31mcol_character()\u001b[39m,\n",
      "  ..   POC = \u001b[32mcol_integer()\u001b[39m,\n",
      "  ..   Latitude = \u001b[32mcol_number()\u001b[39m,\n",
      "  ..   Longitude = \u001b[32mcol_number()\u001b[39m,\n",
      "  ..   Datum = \u001b[31mcol_character()\u001b[39m,\n",
      "  ..   `Parameter Name` = \u001b[31mcol_character()\u001b[39m,\n",
      "  ..   `Date Local` = \u001b[31mcol_character()\u001b[39m,\n",
      "  ..   `Time Local` = \u001b[31mcol_character()\u001b[39m,\n",
      "  ..   `Date GMT` = \u001b[31mcol_character()\u001b[39m,\n",
      "  ..   `Time GMT` = \u001b[31mcol_character()\u001b[39m,\n",
      "  ..   `Sample Measurement` = \u001b[32mcol_number()\u001b[39m,\n",
      "  ..   `Units of Measure` = \u001b[31mcol_character()\u001b[39m,\n",
      "  ..   MDL = \u001b[32mcol_number()\u001b[39m,\n",
      "  ..   Uncertainty = \u001b[32mcol_number()\u001b[39m,\n",
      "  ..   Qualifier = \u001b[31mcol_character()\u001b[39m,\n",
      "  ..   `Method Type` = \u001b[31mcol_character()\u001b[39m,\n",
      "  ..   `Method Code` = \u001b[31mcol_character()\u001b[39m,\n",
      "  ..   `Method Name` = \u001b[31mcol_character()\u001b[39m,\n",
      "  ..   `State Name` = \u001b[31mcol_character()\u001b[39m,\n",
      "  ..   `County Name` = \u001b[31mcol_character()\u001b[39m,\n",
      "  ..   `Date of Last Change` = \u001b[31mcol_character()\u001b[39m\n",
      "  .. )\n",
      " - attr(*, \"problems\")=<externalptr> \n"
     ]
    }
   ],
   "source": [
    "str(ozone)"
   ]
  },
  {
   "attachments": {},
   "cell_type": "markdown",
   "metadata": {},
   "source": [
    "# 5. Look at the top and bottom of your data\n",
    "\n",
    "Make sure the `head()` and `tail()` rows of the data look right to increase confidence that it was parsed correctly"
   ]
  },
  {
   "cell_type": "code",
   "execution_count": 15,
   "metadata": {
    "vscode": {
     "languageId": "r"
    }
   },
   "outputs": [],
   "source": [
    "library(dplyr)"
   ]
  },
  {
   "cell_type": "code",
   "execution_count": 16,
   "metadata": {
    "vscode": {
     "languageId": "r"
    }
   },
   "outputs": [
    {
     "data": {
      "text/html": [
       "<table class=\"dataframe\">\n",
       "<caption>A tibble: 6 × 3</caption>\n",
       "<thead>\n",
       "\t<tr><th scope=col>Latitude</th><th scope=col>Longitude</th><th scope=col>Date.Local</th></tr>\n",
       "\t<tr><th scope=col>&lt;dbl&gt;</th><th scope=col>&lt;dbl&gt;</th><th scope=col>&lt;chr&gt;</th></tr>\n",
       "</thead>\n",
       "<tbody>\n",
       "\t<tr><td>30.49748</td><td>-87.88026</td><td>2014-03-01</td></tr>\n",
       "\t<tr><td>30.49748</td><td>-87.88026</td><td>2014-03-01</td></tr>\n",
       "\t<tr><td>30.49748</td><td>-87.88026</td><td>2014-03-01</td></tr>\n",
       "\t<tr><td>30.49748</td><td>-87.88026</td><td>2014-03-01</td></tr>\n",
       "\t<tr><td>30.49748</td><td>-87.88026</td><td>2014-03-01</td></tr>\n",
       "\t<tr><td>30.49748</td><td>-87.88026</td><td>2014-03-01</td></tr>\n",
       "</tbody>\n",
       "</table>\n"
      ],
      "text/latex": [
       "A tibble: 6 × 3\n",
       "\\begin{tabular}{lll}\n",
       " Latitude & Longitude & Date.Local\\\\\n",
       " <dbl> & <dbl> & <chr>\\\\\n",
       "\\hline\n",
       "\t 30.49748 & -87.88026 & 2014-03-01\\\\\n",
       "\t 30.49748 & -87.88026 & 2014-03-01\\\\\n",
       "\t 30.49748 & -87.88026 & 2014-03-01\\\\\n",
       "\t 30.49748 & -87.88026 & 2014-03-01\\\\\n",
       "\t 30.49748 & -87.88026 & 2014-03-01\\\\\n",
       "\t 30.49748 & -87.88026 & 2014-03-01\\\\\n",
       "\\end{tabular}\n"
      ],
      "text/markdown": [
       "\n",
       "A tibble: 6 × 3\n",
       "\n",
       "| Latitude &lt;dbl&gt; | Longitude &lt;dbl&gt; | Date.Local &lt;chr&gt; |\n",
       "|---|---|---|\n",
       "| 30.49748 | -87.88026 | 2014-03-01 |\n",
       "| 30.49748 | -87.88026 | 2014-03-01 |\n",
       "| 30.49748 | -87.88026 | 2014-03-01 |\n",
       "| 30.49748 | -87.88026 | 2014-03-01 |\n",
       "| 30.49748 | -87.88026 | 2014-03-01 |\n",
       "| 30.49748 | -87.88026 | 2014-03-01 |\n",
       "\n"
      ],
      "text/plain": [
       "  Latitude Longitude Date.Local\n",
       "1 30.49748 -87.88026 2014-03-01\n",
       "2 30.49748 -87.88026 2014-03-01\n",
       "3 30.49748 -87.88026 2014-03-01\n",
       "4 30.49748 -87.88026 2014-03-01\n",
       "5 30.49748 -87.88026 2014-03-01\n",
       "6 30.49748 -87.88026 2014-03-01"
      ]
     },
     "metadata": {},
     "output_type": "display_data"
    },
    {
     "data": {
      "text/html": [
       "<table class=\"dataframe\">\n",
       "<caption>A tibble: 6 × 3</caption>\n",
       "<thead>\n",
       "\t<tr><th scope=col>Latitude</th><th scope=col>Longitude</th><th scope=col>Date.Local</th></tr>\n",
       "\t<tr><th scope=col>&lt;dbl&gt;</th><th scope=col>&lt;dbl&gt;</th><th scope=col>&lt;chr&gt;</th></tr>\n",
       "</thead>\n",
       "<tbody>\n",
       "\t<tr><td>31.7122</td><td>-106.3953</td><td>2014-08-31</td></tr>\n",
       "\t<tr><td>31.7122</td><td>-106.3953</td><td>2014-08-31</td></tr>\n",
       "\t<tr><td>31.7122</td><td>-106.3953</td><td>2014-08-31</td></tr>\n",
       "\t<tr><td>31.7122</td><td>-106.3953</td><td>2014-08-31</td></tr>\n",
       "\t<tr><td>31.7122</td><td>-106.3953</td><td>2014-08-31</td></tr>\n",
       "\t<tr><td>31.7122</td><td>-106.3953</td><td>2014-08-31</td></tr>\n",
       "</tbody>\n",
       "</table>\n"
      ],
      "text/latex": [
       "A tibble: 6 × 3\n",
       "\\begin{tabular}{lll}\n",
       " Latitude & Longitude & Date.Local\\\\\n",
       " <dbl> & <dbl> & <chr>\\\\\n",
       "\\hline\n",
       "\t 31.7122 & -106.3953 & 2014-08-31\\\\\n",
       "\t 31.7122 & -106.3953 & 2014-08-31\\\\\n",
       "\t 31.7122 & -106.3953 & 2014-08-31\\\\\n",
       "\t 31.7122 & -106.3953 & 2014-08-31\\\\\n",
       "\t 31.7122 & -106.3953 & 2014-08-31\\\\\n",
       "\t 31.7122 & -106.3953 & 2014-08-31\\\\\n",
       "\\end{tabular}\n"
      ],
      "text/markdown": [
       "\n",
       "A tibble: 6 × 3\n",
       "\n",
       "| Latitude &lt;dbl&gt; | Longitude &lt;dbl&gt; | Date.Local &lt;chr&gt; |\n",
       "|---|---|---|\n",
       "| 31.7122 | -106.3953 | 2014-08-31 |\n",
       "| 31.7122 | -106.3953 | 2014-08-31 |\n",
       "| 31.7122 | -106.3953 | 2014-08-31 |\n",
       "| 31.7122 | -106.3953 | 2014-08-31 |\n",
       "| 31.7122 | -106.3953 | 2014-08-31 |\n",
       "| 31.7122 | -106.3953 | 2014-08-31 |\n",
       "\n"
      ],
      "text/plain": [
       "  Latitude Longitude Date.Local\n",
       "1 31.7122  -106.3953 2014-08-31\n",
       "2 31.7122  -106.3953 2014-08-31\n",
       "3 31.7122  -106.3953 2014-08-31\n",
       "4 31.7122  -106.3953 2014-08-31\n",
       "5 31.7122  -106.3953 2014-08-31\n",
       "6 31.7122  -106.3953 2014-08-31"
      ]
     },
     "metadata": {},
     "output_type": "display_data"
    }
   ],
   "source": [
    "head(select(ozone, Latitude, Longitude, Date.Local))\n",
    "tail(select(ozone, Latitude, Longitude, Date.Local))"
   ]
  },
  {
   "attachments": {},
   "cell_type": "markdown",
   "metadata": {},
   "source": [
    "# 6. Check your \"n\"s\n",
    "\n",
    "If you have expect counts of things or observations based on what you know about what data SHOULD has been collected, check that."
   ]
  },
  {
   "cell_type": "code",
   "execution_count": 20,
   "metadata": {
    "vscode": {
     "languageId": "r"
    }
   },
   "outputs": [
    {
     "data": {
      "image/png": "[encoded data removed]",
      "text/plain": [
       "plot without title"
      ]
     },
     "metadata": {
      "image/png": {
       "height": 420,
       "width": 420
      }
     },
     "output_type": "display_data"
    }
   ],
   "source": [
    "# Here, we have hourly ozone data that comes from monitors across the country.\n",
    "# The monitors should be monitoring continuously during the day, so all hours should be represented\n",
    "table(ozone$Time.Local) %>%\n",
    "barplot(col = 'wheat')"
   ]
  },
  {
   "cell_type": "code",
   "execution_count": 27,
   "metadata": {
    "vscode": {
     "languageId": "r"
    }
   },
   "outputs": [
    {
     "data": {
      "text/html": [
       "<table class=\"dataframe\">\n",
       "<caption>A tibble: 48 × 3</caption>\n",
       "<thead>\n",
       "\t<tr><th scope=col>Date.Local</th><th scope=col>Time.Local</th><th scope=col>Sample.Measurement</th></tr>\n",
       "\t<tr><th scope=col>&lt;chr&gt;</th><th scope=col>&lt;chr&gt;</th><th scope=col>&lt;dbl&gt;</th></tr>\n",
       "</thead>\n",
       "<tbody>\n",
       "\t<tr><td>2014-09-30</td><td>00:00</td><td>0.011</td></tr>\n",
       "\t<tr><td>2014-09-30</td><td>01:00</td><td>0.012</td></tr>\n",
       "\t<tr><td>2014-09-30</td><td>02:00</td><td>0.012</td></tr>\n",
       "\t<tr><td>2014-09-30</td><td>03:00</td><td>0.011</td></tr>\n",
       "\t<tr><td>2014-09-30</td><td>04:00</td><td>0.011</td></tr>\n",
       "\t<tr><td>2014-09-30</td><td>05:00</td><td>0.011</td></tr>\n",
       "\t<tr><td>2014-09-30</td><td>06:00</td><td>0.010</td></tr>\n",
       "\t<tr><td>2014-09-30</td><td>07:00</td><td>0.010</td></tr>\n",
       "\t<tr><td>2014-09-30</td><td>08:00</td><td>0.010</td></tr>\n",
       "\t<tr><td>2014-09-30</td><td>09:00</td><td>0.010</td></tr>\n",
       "\t<tr><td>2014-09-30</td><td>10:00</td><td>0.010</td></tr>\n",
       "\t<tr><td>2014-09-30</td><td>11:00</td><td>0.012</td></tr>\n",
       "\t<tr><td>2014-09-30</td><td>12:00</td><td>0.011</td></tr>\n",
       "\t<tr><td>2014-09-30</td><td>13:00</td><td>0.013</td></tr>\n",
       "\t<tr><td>2014-09-30</td><td>14:00</td><td>0.016</td></tr>\n",
       "\t<tr><td>2014-09-30</td><td>15:00</td><td>0.017</td></tr>\n",
       "\t<tr><td>2014-09-30</td><td>16:00</td><td>0.017</td></tr>\n",
       "\t<tr><td>2014-09-30</td><td>17:00</td><td>0.015</td></tr>\n",
       "\t<tr><td>2014-09-30</td><td>18:00</td><td>0.017</td></tr>\n",
       "\t<tr><td>2014-09-30</td><td>19:00</td><td>0.014</td></tr>\n",
       "\t<tr><td>2014-09-30</td><td>20:00</td><td>0.014</td></tr>\n",
       "\t<tr><td>2014-09-30</td><td>21:00</td><td>0.011</td></tr>\n",
       "\t<tr><td>2014-09-30</td><td>22:00</td><td>0.010</td></tr>\n",
       "\t<tr><td>2014-09-30</td><td>23:00</td><td>0.010</td></tr>\n",
       "\t<tr><td>2014-09-30</td><td>00:00</td><td>0.010</td></tr>\n",
       "\t<tr><td>2014-09-30</td><td>01:00</td><td>0.011</td></tr>\n",
       "\t<tr><td>2014-09-30</td><td>02:00</td><td>0.011</td></tr>\n",
       "\t<tr><td>2014-09-30</td><td>03:00</td><td>0.010</td></tr>\n",
       "\t<tr><td>2014-09-30</td><td>04:00</td><td>0.010</td></tr>\n",
       "\t<tr><td>2014-09-30</td><td>05:00</td><td>0.010</td></tr>\n",
       "\t<tr><td>2014-09-30</td><td>06:00</td><td>0.009</td></tr>\n",
       "\t<tr><td>2014-09-30</td><td>07:00</td><td>0.008</td></tr>\n",
       "\t<tr><td>2014-09-30</td><td>08:00</td><td>0.009</td></tr>\n",
       "\t<tr><td>2014-09-30</td><td>09:00</td><td>0.009</td></tr>\n",
       "\t<tr><td>2014-09-30</td><td>10:00</td><td>0.009</td></tr>\n",
       "\t<tr><td>2014-09-30</td><td>11:00</td><td>0.011</td></tr>\n",
       "\t<tr><td>2014-09-30</td><td>12:00</td><td>0.010</td></tr>\n",
       "\t<tr><td>2014-09-30</td><td>13:00</td><td>0.012</td></tr>\n",
       "\t<tr><td>2014-09-30</td><td>14:00</td><td>0.015</td></tr>\n",
       "\t<tr><td>2014-09-30</td><td>15:00</td><td>0.016</td></tr>\n",
       "\t<tr><td>2014-09-30</td><td>16:00</td><td>0.016</td></tr>\n",
       "\t<tr><td>2014-09-30</td><td>17:00</td><td>0.014</td></tr>\n",
       "\t<tr><td>2014-09-30</td><td>18:00</td><td>0.016</td></tr>\n",
       "\t<tr><td>2014-09-30</td><td>19:00</td><td>0.013</td></tr>\n",
       "\t<tr><td>2014-09-30</td><td>20:00</td><td>0.013</td></tr>\n",
       "\t<tr><td>2014-09-30</td><td>21:00</td><td>0.010</td></tr>\n",
       "\t<tr><td>2014-09-30</td><td>22:00</td><td>0.009</td></tr>\n",
       "\t<tr><td>2014-09-30</td><td>23:00</td><td>0.009</td></tr>\n",
       "</tbody>\n",
       "</table>\n"
      ],
      "text/latex": [
       "A tibble: 48 × 3\n",
       "\\begin{tabular}{lll}\n",
       " Date.Local & Time.Local & Sample.Measurement\\\\\n",
       " <chr> & <chr> & <dbl>\\\\\n",
       "\\hline\n",
       "\t 2014-09-30 & 00:00 & 0.011\\\\\n",
       "\t 2014-09-30 & 01:00 & 0.012\\\\\n",
       "\t 2014-09-30 & 02:00 & 0.012\\\\\n",
       "\t 2014-09-30 & 03:00 & 0.011\\\\\n",
       "\t 2014-09-30 & 04:00 & 0.011\\\\\n",
       "\t 2014-09-30 & 05:00 & 0.011\\\\\n",
       "\t 2014-09-30 & 06:00 & 0.010\\\\\n",
       "\t 2014-09-30 & 07:00 & 0.010\\\\\n",
       "\t 2014-09-30 & 08:00 & 0.010\\\\\n",
       "\t 2014-09-30 & 09:00 & 0.010\\\\\n",
       "\t 2014-09-30 & 10:00 & 0.010\\\\\n",
       "\t 2014-09-30 & 11:00 & 0.012\\\\\n",
       "\t 2014-09-30 & 12:00 & 0.011\\\\\n",
       "\t 2014-09-30 & 13:00 & 0.013\\\\\n",
       "\t 2014-09-30 & 14:00 & 0.016\\\\\n",
       "\t 2014-09-30 & 15:00 & 0.017\\\\\n",
       "\t 2014-09-30 & 16:00 & 0.017\\\\\n",
       "\t 2014-09-30 & 17:00 & 0.015\\\\\n",
       "\t 2014-09-30 & 18:00 & 0.017\\\\\n",
       "\t 2014-09-30 & 19:00 & 0.014\\\\\n",
       "\t 2014-09-30 & 20:00 & 0.014\\\\\n",
       "\t 2014-09-30 & 21:00 & 0.011\\\\\n",
       "\t 2014-09-30 & 22:00 & 0.010\\\\\n",
       "\t 2014-09-30 & 23:00 & 0.010\\\\\n",
       "\t 2014-09-30 & 00:00 & 0.010\\\\\n",
       "\t 2014-09-30 & 01:00 & 0.011\\\\\n",
       "\t 2014-09-30 & 02:00 & 0.011\\\\\n",
       "\t 2014-09-30 & 03:00 & 0.010\\\\\n",
       "\t 2014-09-30 & 04:00 & 0.010\\\\\n",
       "\t 2014-09-30 & 05:00 & 0.010\\\\\n",
       "\t 2014-09-30 & 06:00 & 0.009\\\\\n",
       "\t 2014-09-30 & 07:00 & 0.008\\\\\n",
       "\t 2014-09-30 & 08:00 & 0.009\\\\\n",
       "\t 2014-09-30 & 09:00 & 0.009\\\\\n",
       "\t 2014-09-30 & 10:00 & 0.009\\\\\n",
       "\t 2014-09-30 & 11:00 & 0.011\\\\\n",
       "\t 2014-09-30 & 12:00 & 0.010\\\\\n",
       "\t 2014-09-30 & 13:00 & 0.012\\\\\n",
       "\t 2014-09-30 & 14:00 & 0.015\\\\\n",
       "\t 2014-09-30 & 15:00 & 0.016\\\\\n",
       "\t 2014-09-30 & 16:00 & 0.016\\\\\n",
       "\t 2014-09-30 & 17:00 & 0.014\\\\\n",
       "\t 2014-09-30 & 18:00 & 0.016\\\\\n",
       "\t 2014-09-30 & 19:00 & 0.013\\\\\n",
       "\t 2014-09-30 & 20:00 & 0.013\\\\\n",
       "\t 2014-09-30 & 21:00 & 0.010\\\\\n",
       "\t 2014-09-30 & 22:00 & 0.009\\\\\n",
       "\t 2014-09-30 & 23:00 & 0.009\\\\\n",
       "\\end{tabular}\n"
      ],
      "text/markdown": [
       "\n",
       "A tibble: 48 × 3\n",
       "\n",
       "| Date.Local &lt;chr&gt; | Time.Local &lt;chr&gt; | Sample.Measurement &lt;dbl&gt; |\n",
       "|---|---|---|\n",
       "| 2014-09-30 | 00:00 | 0.011 |\n",
       "| 2014-09-30 | 01:00 | 0.012 |\n",
       "| 2014-09-30 | 02:00 | 0.012 |\n",
       "| 2014-09-30 | 03:00 | 0.011 |\n",
       "| 2014-09-30 | 04:00 | 0.011 |\n",
       "| 2014-09-30 | 05:00 | 0.011 |\n",
       "| 2014-09-30 | 06:00 | 0.010 |\n",
       "| 2014-09-30 | 07:00 | 0.010 |\n",
       "| 2014-09-30 | 08:00 | 0.010 |\n",
       "| 2014-09-30 | 09:00 | 0.010 |\n",
       "| 2014-09-30 | 10:00 | 0.010 |\n",
       "| 2014-09-30 | 11:00 | 0.012 |\n",
       "| 2014-09-30 | 12:00 | 0.011 |\n",
       "| 2014-09-30 | 13:00 | 0.013 |\n",
       "| 2014-09-30 | 14:00 | 0.016 |\n",
       "| 2014-09-30 | 15:00 | 0.017 |\n",
       "| 2014-09-30 | 16:00 | 0.017 |\n",
       "| 2014-09-30 | 17:00 | 0.015 |\n",
       "| 2014-09-30 | 18:00 | 0.017 |\n",
       "| 2014-09-30 | 19:00 | 0.014 |\n",
       "| 2014-09-30 | 20:00 | 0.014 |\n",
       "| 2014-09-30 | 21:00 | 0.011 |\n",
       "| 2014-09-30 | 22:00 | 0.010 |\n",
       "| 2014-09-30 | 23:00 | 0.010 |\n",
       "| 2014-09-30 | 00:00 | 0.010 |\n",
       "| 2014-09-30 | 01:00 | 0.011 |\n",
       "| 2014-09-30 | 02:00 | 0.011 |\n",
       "| 2014-09-30 | 03:00 | 0.010 |\n",
       "| 2014-09-30 | 04:00 | 0.010 |\n",
       "| 2014-09-30 | 05:00 | 0.010 |\n",
       "| 2014-09-30 | 06:00 | 0.009 |\n",
       "| 2014-09-30 | 07:00 | 0.008 |\n",
       "| 2014-09-30 | 08:00 | 0.009 |\n",
       "| 2014-09-30 | 09:00 | 0.009 |\n",
       "| 2014-09-30 | 10:00 | 0.009 |\n",
       "| 2014-09-30 | 11:00 | 0.011 |\n",
       "| 2014-09-30 | 12:00 | 0.010 |\n",
       "| 2014-09-30 | 13:00 | 0.012 |\n",
       "| 2014-09-30 | 14:00 | 0.015 |\n",
       "| 2014-09-30 | 15:00 | 0.016 |\n",
       "| 2014-09-30 | 16:00 | 0.016 |\n",
       "| 2014-09-30 | 17:00 | 0.014 |\n",
       "| 2014-09-30 | 18:00 | 0.016 |\n",
       "| 2014-09-30 | 19:00 | 0.013 |\n",
       "| 2014-09-30 | 20:00 | 0.013 |\n",
       "| 2014-09-30 | 21:00 | 0.010 |\n",
       "| 2014-09-30 | 22:00 | 0.009 |\n",
       "| 2014-09-30 | 23:00 | 0.009 |\n",
       "\n"
      ],
      "text/plain": [
       "   Date.Local Time.Local Sample.Measurement\n",
       "1  2014-09-30 00:00      0.011             \n",
       "2  2014-09-30 01:00      0.012             \n",
       "3  2014-09-30 02:00      0.012             \n",
       "4  2014-09-30 03:00      0.011             \n",
       "5  2014-09-30 04:00      0.011             \n",
       "6  2014-09-30 05:00      0.011             \n",
       "7  2014-09-30 06:00      0.010             \n",
       "8  2014-09-30 07:00      0.010             \n",
       "9  2014-09-30 08:00      0.010             \n",
       "10 2014-09-30 09:00      0.010             \n",
       "11 2014-09-30 10:00      0.010             \n",
       "12 2014-09-30 11:00      0.012             \n",
       "13 2014-09-30 12:00      0.011             \n",
       "14 2014-09-30 13:00      0.013             \n",
       "15 2014-09-30 14:00      0.016             \n",
       "16 2014-09-30 15:00      0.017             \n",
       "17 2014-09-30 16:00      0.017             \n",
       "18 2014-09-30 17:00      0.015             \n",
       "19 2014-09-30 18:00      0.017             \n",
       "20 2014-09-30 19:00      0.014             \n",
       "21 2014-09-30 20:00      0.014             \n",
       "22 2014-09-30 21:00      0.011             \n",
       "23 2014-09-30 22:00      0.010             \n",
       "24 2014-09-30 23:00      0.010             \n",
       "25 2014-09-30 00:00      0.010             \n",
       "26 2014-09-30 01:00      0.011             \n",
       "27 2014-09-30 02:00      0.011             \n",
       "28 2014-09-30 03:00      0.010             \n",
       "29 2014-09-30 04:00      0.010             \n",
       "30 2014-09-30 05:00      0.010             \n",
       "31 2014-09-30 06:00      0.009             \n",
       "32 2014-09-30 07:00      0.008             \n",
       "33 2014-09-30 08:00      0.009             \n",
       "34 2014-09-30 09:00      0.009             \n",
       "35 2014-09-30 10:00      0.009             \n",
       "36 2014-09-30 11:00      0.011             \n",
       "37 2014-09-30 12:00      0.010             \n",
       "38 2014-09-30 13:00      0.012             \n",
       "39 2014-09-30 14:00      0.015             \n",
       "40 2014-09-30 15:00      0.016             \n",
       "41 2014-09-30 16:00      0.016             \n",
       "42 2014-09-30 17:00      0.014             \n",
       "43 2014-09-30 18:00      0.016             \n",
       "44 2014-09-30 19:00      0.013             \n",
       "45 2014-09-30 20:00      0.013             \n",
       "46 2014-09-30 21:00      0.010             \n",
       "47 2014-09-30 22:00      0.009             \n",
       "48 2014-09-30 23:00      0.009             "
      ]
     },
     "metadata": {},
     "output_type": "display_data"
    }
   ],
   "source": [
    "# check same example where textbook found data issues on the older version of this dataset\n",
    "\n",
    "filter(ozone,\n",
    "       State.Code == '36'\n",
    "       & County.Code == '033'\n",
    "       & Date.Local == '2014-09-30'\n",
    "       ) %>%\n",
    "select(Date.Local, Time.Local, Sample.Measurement)"
   ]
  },
  {
   "cell_type": "code",
   "execution_count": 32,
   "metadata": {
    "vscode": {
     "languageId": "r"
    }
   },
   "outputs": [
    {
     "data": {
      "text/html": [
       "53"
      ],
      "text/latex": [
       "53"
      ],
      "text/markdown": [
       "53"
      ],
      "text/plain": [
       "[1] 53"
      ]
     },
     "metadata": {},
     "output_type": "display_data"
    }
   ],
   "source": [
    "select(ozone, State.Name) %>%\n",
    "unique() %>%\n",
    "nrow()"
   ]
  },
  {
   "cell_type": "code",
   "execution_count": 34,
   "metadata": {
    "vscode": {
     "languageId": "r"
    }
   },
   "outputs": [
    {
     "data": {
      "text/html": [
       "<style>\n",
       ".list-inline {list-style: none; margin:0; padding: 0}\n",
       ".list-inline>li {display: inline-block}\n",
       ".list-inline>li:not(:last-child)::after {content: \"\\00b7\"; padding: 0 .5ex}\n",
       "</style>\n",
       "<ol class=list-inline><li>'Alabama'</li><li>'Alaska'</li><li>'Arizona'</li><li>'Arkansas'</li><li>'California'</li><li>'Colorado'</li><li>'Connecticut'</li><li>'Delaware'</li><li>'District Of Columbia'</li><li>'Florida'</li><li>'Georgia'</li><li>'Hawaii'</li><li>'Idaho'</li><li>'Illinois'</li><li>'Indiana'</li><li>'Iowa'</li><li>'Kansas'</li><li>'Kentucky'</li><li>'Louisiana'</li><li>'Maine'</li><li>'Maryland'</li><li>'Massachusetts'</li><li>'Michigan'</li><li>'Minnesota'</li><li>'Mississippi'</li><li>'Missouri'</li><li>'Montana'</li><li>'Nebraska'</li><li>'Nevada'</li><li>'New Hampshire'</li><li>'New Jersey'</li><li>'New Mexico'</li><li>'New York'</li><li>'North Carolina'</li><li>'North Dakota'</li><li>'Ohio'</li><li>'Oklahoma'</li><li>'Oregon'</li><li>'Pennsylvania'</li><li>'Rhode Island'</li><li>'South Carolina'</li><li>'South Dakota'</li><li>'Tennessee'</li><li>'Texas'</li><li>'Utah'</li><li>'Vermont'</li><li>'Virginia'</li><li>'Washington'</li><li>'West Virginia'</li><li>'Wisconsin'</li><li>'Wyoming'</li><li>'Puerto Rico'</li><li>'Country Of Mexico'</li></ol>\n"
      ],
      "text/latex": [
       "\\begin{enumerate*}\n",
       "\\item 'Alabama'\n",
       "\\item 'Alaska'\n",
       "\\item 'Arizona'\n",
       "\\item 'Arkansas'\n",
       "\\item 'California'\n",
       "\\item 'Colorado'\n",
       "\\item 'Connecticut'\n",
       "\\item 'Delaware'\n",
       "\\item 'District Of Columbia'\n",
       "\\item 'Florida'\n",
       "\\item 'Georgia'\n",
       "\\item 'Hawaii'\n",
       "\\item 'Idaho'\n",
       "\\item 'Illinois'\n",
       "\\item 'Indiana'\n",
       "\\item 'Iowa'\n",
       "\\item 'Kansas'\n",
       "\\item 'Kentucky'\n",
       "\\item 'Louisiana'\n",
       "\\item 'Maine'\n",
       "\\item 'Maryland'\n",
       "\\item 'Massachusetts'\n",
       "\\item 'Michigan'\n",
       "\\item 'Minnesota'\n",
       "\\item 'Mississippi'\n",
       "\\item 'Missouri'\n",
       "\\item 'Montana'\n",
       "\\item 'Nebraska'\n",
       "\\item 'Nevada'\n",
       "\\item 'New Hampshire'\n",
       "\\item 'New Jersey'\n",
       "\\item 'New Mexico'\n",
       "\\item 'New York'\n",
       "\\item 'North Carolina'\n",
       "\\item 'North Dakota'\n",
       "\\item 'Ohio'\n",
       "\\item 'Oklahoma'\n",
       "\\item 'Oregon'\n",
       "\\item 'Pennsylvania'\n",
       "\\item 'Rhode Island'\n",
       "\\item 'South Carolina'\n",
       "\\item 'South Dakota'\n",
       "\\item 'Tennessee'\n",
       "\\item 'Texas'\n",
       "\\item 'Utah'\n",
       "\\item 'Vermont'\n",
       "\\item 'Virginia'\n",
       "\\item 'Washington'\n",
       "\\item 'West Virginia'\n",
       "\\item 'Wisconsin'\n",
       "\\item 'Wyoming'\n",
       "\\item 'Puerto Rico'\n",
       "\\item 'Country Of Mexico'\n",
       "\\end{enumerate*}\n"
      ],
      "text/markdown": [
       "1. 'Alabama'\n",
       "2. 'Alaska'\n",
       "3. 'Arizona'\n",
       "4. 'Arkansas'\n",
       "5. 'California'\n",
       "6. 'Colorado'\n",
       "7. 'Connecticut'\n",
       "8. 'Delaware'\n",
       "9. 'District Of Columbia'\n",
       "10. 'Florida'\n",
       "11. 'Georgia'\n",
       "12. 'Hawaii'\n",
       "13. 'Idaho'\n",
       "14. 'Illinois'\n",
       "15. 'Indiana'\n",
       "16. 'Iowa'\n",
       "17. 'Kansas'\n",
       "18. 'Kentucky'\n",
       "19. 'Louisiana'\n",
       "20. 'Maine'\n",
       "21. 'Maryland'\n",
       "22. 'Massachusetts'\n",
       "23. 'Michigan'\n",
       "24. 'Minnesota'\n",
       "25. 'Mississippi'\n",
       "26. 'Missouri'\n",
       "27. 'Montana'\n",
       "28. 'Nebraska'\n",
       "29. 'Nevada'\n",
       "30. 'New Hampshire'\n",
       "31. 'New Jersey'\n",
       "32. 'New Mexico'\n",
       "33. 'New York'\n",
       "34. 'North Carolina'\n",
       "35. 'North Dakota'\n",
       "36. 'Ohio'\n",
       "37. 'Oklahoma'\n",
       "38. 'Oregon'\n",
       "39. 'Pennsylvania'\n",
       "40. 'Rhode Island'\n",
       "41. 'South Carolina'\n",
       "42. 'South Dakota'\n",
       "43. 'Tennessee'\n",
       "44. 'Texas'\n",
       "45. 'Utah'\n",
       "46. 'Vermont'\n",
       "47. 'Virginia'\n",
       "48. 'Washington'\n",
       "49. 'West Virginia'\n",
       "50. 'Wisconsin'\n",
       "51. 'Wyoming'\n",
       "52. 'Puerto Rico'\n",
       "53. 'Country Of Mexico'\n",
       "\n",
       "\n"
      ],
      "text/plain": [
       " [1] \"Alabama\"              \"Alaska\"               \"Arizona\"             \n",
       " [4] \"Arkansas\"             \"California\"           \"Colorado\"            \n",
       " [7] \"Connecticut\"          \"Delaware\"             \"District Of Columbia\"\n",
       "[10] \"Florida\"              \"Georgia\"              \"Hawaii\"              \n",
       "[13] \"Idaho\"                \"Illinois\"             \"Indiana\"             \n",
       "[16] \"Iowa\"                 \"Kansas\"               \"Kentucky\"            \n",
       "[19] \"Louisiana\"            \"Maine\"                \"Maryland\"            \n",
       "[22] \"Massachusetts\"        \"Michigan\"             \"Minnesota\"           \n",
       "[25] \"Mississippi\"          \"Missouri\"             \"Montana\"             \n",
       "[28] \"Nebraska\"             \"Nevada\"               \"New Hampshire\"       \n",
       "[31] \"New Jersey\"           \"New Mexico\"           \"New York\"            \n",
       "[34] \"North Carolina\"       \"North Dakota\"         \"Ohio\"                \n",
       "[37] \"Oklahoma\"             \"Oregon\"               \"Pennsylvania\"        \n",
       "[40] \"Rhode Island\"         \"South Carolina\"       \"South Dakota\"        \n",
       "[43] \"Tennessee\"            \"Texas\"                \"Utah\"                \n",
       "[46] \"Vermont\"              \"Virginia\"             \"Washington\"          \n",
       "[49] \"West Virginia\"        \"Wisconsin\"            \"Wyoming\"             \n",
       "[52] \"Puerto Rico\"          \"Country Of Mexico\"   "
      ]
     },
     "metadata": {},
     "output_type": "display_data"
    }
   ],
   "source": [
    "unique(ozone$State.Name)"
   ]
  },
  {
   "cell_type": "code",
   "execution_count": null,
   "metadata": {
    "vscode": {
     "languageId": "r"
    }
   },
   "outputs": [],
   "source": []
  }
 ],
 "metadata": {
  "kernelspec": {
   "display_name": "R",
   "language": "R",
   "name": "ir"
  },
  "language_info": {
   "codemirror_mode": "r",
   "file_extension": ".r",
   "mimetype": "text/x-r-source",
   "name": "R",
   "pygments_lexer": "r",
   "version": "4.3.0"
  },
  "orig_nbformat": 4
 },
 "nbformat": 4,
 "nbformat_minor": 2
}
