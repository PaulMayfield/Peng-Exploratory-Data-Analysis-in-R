{
 "cells": [
  {
   "cell_type": "code",
   "execution_count": 2,
   "metadata": {
    "vscode": {
     "languageId": "r"
    }
   },
   "outputs": [
    {
     "name": "stderr",
     "output_type": "stream",
     "text": [
      "\n",
      "Attaching package: 'dplyr'\n",
      "\n",
      "\n",
      "The following objects are masked from 'package:stats':\n",
      "\n",
      "    filter, lag\n",
      "\n",
      "\n",
      "The following objects are masked from 'package:base':\n",
      "\n",
      "    intersect, setdiff, setequal, union\n",
      "\n",
      "\n"
     ]
    }
   ],
   "source": [
    "library(\"dplyr\")\n",
    "chicago <- readRDS(\"chicago.rds\")"
   ]
  },
  {
   "cell_type": "code",
   "execution_count": 3,
   "metadata": {
    "vscode": {
     "languageId": "r"
    }
   },
   "outputs": [
    {
     "data": {
      "text/html": [
       "<style>\n",
       ".list-inline {list-style: none; margin:0; padding: 0}\n",
       ".list-inline>li {display: inline-block}\n",
       ".list-inline>li:not(:last-child)::after {content: \"\\00b7\"; padding: 0 .5ex}\n",
       "</style>\n",
       "<ol class=list-inline><li>6940</li><li>8</li></ol>\n"
      ],
      "text/latex": [
       "\\begin{enumerate*}\n",
       "\\item 6940\n",
       "\\item 8\n",
       "\\end{enumerate*}\n"
      ],
      "text/markdown": [
       "1. 6940\n",
       "2. 8\n",
       "\n",
       "\n"
      ],
      "text/plain": [
       "[1] 6940    8"
      ]
     },
     "metadata": {},
     "output_type": "display_data"
    },
    {
     "name": "stdout",
     "output_type": "stream",
     "text": [
      "'data.frame':\t6940 obs. of  8 variables:\n",
      " $ city      : chr  \"chic\" \"chic\" \"chic\" \"chic\" ...\n",
      " $ tmpd      : num  31.5 33 33 29 32 40 34.5 29 26.5 32.5 ...\n",
      " $ dptp      : num  31.5 29.9 27.4 28.6 28.9 ...\n",
      " $ date      : Date, format: \"1987-01-01\" \"1987-01-02\" ...\n",
      " $ pm25tmean2: num  NA NA NA NA NA NA NA NA NA NA ...\n",
      " $ pm10tmean2: num  34 NA 34.2 47 NA ...\n",
      " $ o3tmean2  : num  4.25 3.3 3.33 4.38 4.75 ...\n",
      " $ no2tmean2 : num  20 23.2 23.8 30.4 30.3 ...\n"
     ]
    }
   ],
   "source": [
    "# basic characteristics\n",
    "dim(chicago)\n",
    "str(chicago)"
   ]
  },
  {
   "cell_type": "code",
   "execution_count": 4,
   "metadata": {
    "vscode": {
     "languageId": "r"
    }
   },
   "outputs": [
    {
     "data": {
      "text/html": [
       "<table class=\"dataframe\">\n",
       "<caption>A data.frame: 6 × 3</caption>\n",
       "<thead>\n",
       "\t<tr><th></th><th scope=col>city</th><th scope=col>tmpd</th><th scope=col>dptp</th></tr>\n",
       "\t<tr><th></th><th scope=col>&lt;chr&gt;</th><th scope=col>&lt;dbl&gt;</th><th scope=col>&lt;dbl&gt;</th></tr>\n",
       "</thead>\n",
       "<tbody>\n",
       "\t<tr><th scope=row>1</th><td>chic</td><td>31.5</td><td>31.500</td></tr>\n",
       "\t<tr><th scope=row>2</th><td>chic</td><td>33.0</td><td>29.875</td></tr>\n",
       "\t<tr><th scope=row>3</th><td>chic</td><td>33.0</td><td>27.375</td></tr>\n",
       "\t<tr><th scope=row>4</th><td>chic</td><td>29.0</td><td>28.625</td></tr>\n",
       "\t<tr><th scope=row>5</th><td>chic</td><td>32.0</td><td>28.875</td></tr>\n",
       "\t<tr><th scope=row>6</th><td>chic</td><td>40.0</td><td>35.125</td></tr>\n",
       "</tbody>\n",
       "</table>\n"
      ],
      "text/latex": [
       "A data.frame: 6 × 3\n",
       "\\begin{tabular}{r|lll}\n",
       "  & city & tmpd & dptp\\\\\n",
       "  & <chr> & <dbl> & <dbl>\\\\\n",
       "\\hline\n",
       "\t1 & chic & 31.5 & 31.500\\\\\n",
       "\t2 & chic & 33.0 & 29.875\\\\\n",
       "\t3 & chic & 33.0 & 27.375\\\\\n",
       "\t4 & chic & 29.0 & 28.625\\\\\n",
       "\t5 & chic & 32.0 & 28.875\\\\\n",
       "\t6 & chic & 40.0 & 35.125\\\\\n",
       "\\end{tabular}\n"
      ],
      "text/markdown": [
       "\n",
       "A data.frame: 6 × 3\n",
       "\n",
       "| <!--/--> | city &lt;chr&gt; | tmpd &lt;dbl&gt; | dptp &lt;dbl&gt; |\n",
       "|---|---|---|---|\n",
       "| 1 | chic | 31.5 | 31.500 |\n",
       "| 2 | chic | 33.0 | 29.875 |\n",
       "| 3 | chic | 33.0 | 27.375 |\n",
       "| 4 | chic | 29.0 | 28.625 |\n",
       "| 5 | chic | 32.0 | 28.875 |\n",
       "| 6 | chic | 40.0 | 35.125 |\n",
       "\n"
      ],
      "text/plain": [
       "  city tmpd dptp  \n",
       "1 chic 31.5 31.500\n",
       "2 chic 33.0 29.875\n",
       "3 chic 33.0 27.375\n",
       "4 chic 29.0 28.625\n",
       "5 chic 32.0 28.875\n",
       "6 chic 40.0 35.125"
      ]
     },
     "metadata": {},
     "output_type": "display_data"
    }
   ],
   "source": [
    "# dplyr select() functionality examples\n",
    "subset <- select(chicago, city:dptp)\n",
    "head(subset)"
   ]
  },
  {
   "cell_type": "code",
   "execution_count": 5,
   "metadata": {
    "vscode": {
     "languageId": "r"
    }
   },
   "outputs": [
    {
     "name": "stdout",
     "output_type": "stream",
     "text": [
      "'data.frame':\t6940 obs. of  4 variables:\n",
      " $ pm25tmean2: num  NA NA NA NA NA NA NA NA NA NA ...\n",
      " $ pm10tmean2: num  34 NA 34.2 47 NA ...\n",
      " $ o3tmean2  : num  4.25 3.3 3.33 4.38 4.75 ...\n",
      " $ no2tmean2 : num  20 23.2 23.8 30.4 30.3 ...\n",
      "'data.frame':\t6940 obs. of  2 variables:\n",
      " $ dptp: num  31.5 29.9 27.4 28.6 28.9 ...\n",
      " $ date: Date, format: \"1987-01-01\" \"1987-01-02\" ...\n"
     ]
    }
   ],
   "source": [
    "subset <- select(chicago, ends_with('2'))\n",
    "str(subset)\n",
    "subset <- select(chicago, starts_with('d'))\n",
    "str(subset)\n"
   ]
  },
  {
   "cell_type": "code",
   "execution_count": 7,
   "metadata": {
    "vscode": {
     "languageId": "r"
    }
   },
   "outputs": [
    {
     "name": "stdout",
     "output_type": "stream",
     "text": [
      "'data.frame':\t194 obs. of  8 variables:\n",
      " $ city      : chr  \"chic\" \"chic\" \"chic\" \"chic\" ...\n",
      " $ tmpd      : num  23 28 55 59 57 57 75 61 73 78 ...\n",
      " $ dptp      : num  21.9 25.8 51.3 53.7 52 56 65.8 59 60.3 67.1 ...\n",
      " $ date      : Date, format: \"1998-01-17\" \"1998-01-23\" ...\n",
      " $ pm25tmean2: num  38.1 34 39.4 35.4 33.3 ...\n",
      " $ pm10tmean2: num  32.5 38.7 34 28.5 35 ...\n",
      " $ o3tmean2  : num  3.18 1.75 10.79 14.3 20.66 ...\n",
      " $ no2tmean2 : num  25.3 29.4 25.3 31.4 26.8 ...\n"
     ]
    }
   ],
   "source": [
    "# dplyr filter() functionality examples\n",
    "chicago.f <- filter(chicago, pm25tmean2 > 30)\n",
    "str(chicago.f)"
   ]
  },
  {
   "cell_type": "code",
   "execution_count": 9,
   "metadata": {
    "vscode": {
     "languageId": "r"
    }
   },
   "outputs": [
    {
     "data": {
      "text/plain": [
       "   Min. 1st Qu.  Median    Mean 3rd Qu.    Max. \n",
       "  30.05   32.12   35.04   36.63   39.53   61.50 "
      ]
     },
     "metadata": {},
     "output_type": "display_data"
    }
   ],
   "source": [
    "# Info on a single column\n",
    "summary(chicago.f$pm25tmean2)"
   ]
  },
  {
   "cell_type": "code",
   "execution_count": 11,
   "metadata": {
    "vscode": {
     "languageId": "r"
    }
   },
   "outputs": [
    {
     "data": {
      "text/html": [
       "<table class=\"dataframe\">\n",
       "<caption>A data.frame: 17 × 3</caption>\n",
       "<thead>\n",
       "\t<tr><th scope=col>date</th><th scope=col>tmpd</th><th scope=col>pm25tmean2</th></tr>\n",
       "\t<tr><th scope=col>&lt;date&gt;</th><th scope=col>&lt;dbl&gt;</th><th scope=col>&lt;dbl&gt;</th></tr>\n",
       "</thead>\n",
       "<tbody>\n",
       "\t<tr><td>1998-08-23</td><td>81</td><td>39.60000</td></tr>\n",
       "\t<tr><td>1998-09-06</td><td>81</td><td>31.50000</td></tr>\n",
       "\t<tr><td>2001-07-20</td><td>82</td><td>32.30000</td></tr>\n",
       "\t<tr><td>2001-08-01</td><td>84</td><td>43.70000</td></tr>\n",
       "\t<tr><td>2001-08-08</td><td>85</td><td>38.83750</td></tr>\n",
       "\t<tr><td>2001-08-09</td><td>84</td><td>38.20000</td></tr>\n",
       "\t<tr><td>2002-06-20</td><td>82</td><td>33.00000</td></tr>\n",
       "\t<tr><td>2002-06-23</td><td>82</td><td>42.50000</td></tr>\n",
       "\t<tr><td>2002-07-08</td><td>81</td><td>33.10000</td></tr>\n",
       "\t<tr><td>2002-07-18</td><td>82</td><td>38.85000</td></tr>\n",
       "\t<tr><td>2003-06-25</td><td>82</td><td>33.90000</td></tr>\n",
       "\t<tr><td>2003-07-04</td><td>84</td><td>32.90000</td></tr>\n",
       "\t<tr><td>2005-06-24</td><td>86</td><td>31.85714</td></tr>\n",
       "\t<tr><td>2005-06-27</td><td>82</td><td>51.53750</td></tr>\n",
       "\t<tr><td>2005-06-28</td><td>85</td><td>31.20000</td></tr>\n",
       "\t<tr><td>2005-07-17</td><td>84</td><td>32.70000</td></tr>\n",
       "\t<tr><td>2005-08-03</td><td>84</td><td>37.90000</td></tr>\n",
       "</tbody>\n",
       "</table>\n"
      ],
      "text/latex": [
       "A data.frame: 17 × 3\n",
       "\\begin{tabular}{lll}\n",
       " date & tmpd & pm25tmean2\\\\\n",
       " <date> & <dbl> & <dbl>\\\\\n",
       "\\hline\n",
       "\t 1998-08-23 & 81 & 39.60000\\\\\n",
       "\t 1998-09-06 & 81 & 31.50000\\\\\n",
       "\t 2001-07-20 & 82 & 32.30000\\\\\n",
       "\t 2001-08-01 & 84 & 43.70000\\\\\n",
       "\t 2001-08-08 & 85 & 38.83750\\\\\n",
       "\t 2001-08-09 & 84 & 38.20000\\\\\n",
       "\t 2002-06-20 & 82 & 33.00000\\\\\n",
       "\t 2002-06-23 & 82 & 42.50000\\\\\n",
       "\t 2002-07-08 & 81 & 33.10000\\\\\n",
       "\t 2002-07-18 & 82 & 38.85000\\\\\n",
       "\t 2003-06-25 & 82 & 33.90000\\\\\n",
       "\t 2003-07-04 & 84 & 32.90000\\\\\n",
       "\t 2005-06-24 & 86 & 31.85714\\\\\n",
       "\t 2005-06-27 & 82 & 51.53750\\\\\n",
       "\t 2005-06-28 & 85 & 31.20000\\\\\n",
       "\t 2005-07-17 & 84 & 32.70000\\\\\n",
       "\t 2005-08-03 & 84 & 37.90000\\\\\n",
       "\\end{tabular}\n"
      ],
      "text/markdown": [
       "\n",
       "A data.frame: 17 × 3\n",
       "\n",
       "| date &lt;date&gt; | tmpd &lt;dbl&gt; | pm25tmean2 &lt;dbl&gt; |\n",
       "|---|---|---|\n",
       "| 1998-08-23 | 81 | 39.60000 |\n",
       "| 1998-09-06 | 81 | 31.50000 |\n",
       "| 2001-07-20 | 82 | 32.30000 |\n",
       "| 2001-08-01 | 84 | 43.70000 |\n",
       "| 2001-08-08 | 85 | 38.83750 |\n",
       "| 2001-08-09 | 84 | 38.20000 |\n",
       "| 2002-06-20 | 82 | 33.00000 |\n",
       "| 2002-06-23 | 82 | 42.50000 |\n",
       "| 2002-07-08 | 81 | 33.10000 |\n",
       "| 2002-07-18 | 82 | 38.85000 |\n",
       "| 2003-06-25 | 82 | 33.90000 |\n",
       "| 2003-07-04 | 84 | 32.90000 |\n",
       "| 2005-06-24 | 86 | 31.85714 |\n",
       "| 2005-06-27 | 82 | 51.53750 |\n",
       "| 2005-06-28 | 85 | 31.20000 |\n",
       "| 2005-07-17 | 84 | 32.70000 |\n",
       "| 2005-08-03 | 84 | 37.90000 |\n",
       "\n"
      ],
      "text/plain": [
       "   date       tmpd pm25tmean2\n",
       "1  1998-08-23 81   39.60000  \n",
       "2  1998-09-06 81   31.50000  \n",
       "3  2001-07-20 82   32.30000  \n",
       "4  2001-08-01 84   43.70000  \n",
       "5  2001-08-08 85   38.83750  \n",
       "6  2001-08-09 84   38.20000  \n",
       "7  2002-06-20 82   33.00000  \n",
       "8  2002-06-23 82   42.50000  \n",
       "9  2002-07-08 81   33.10000  \n",
       "10 2002-07-18 82   38.85000  \n",
       "11 2003-06-25 82   33.90000  \n",
       "12 2003-07-04 84   32.90000  \n",
       "13 2005-06-24 86   31.85714  \n",
       "14 2005-06-27 82   51.53750  \n",
       "15 2005-06-28 85   31.20000  \n",
       "16 2005-07-17 84   32.70000  \n",
       "17 2005-08-03 84   37.90000  "
      ]
     },
     "metadata": {},
     "output_type": "display_data"
    }
   ],
   "source": [
    "# more complex filter()\n",
    "chicago.f <- filter(chicago, pm25tmean2 > 30 & tmpd > 80)\n",
    "\n",
    "# select() can also just list out the columns you want\n",
    "select(chicago.f, date, tmpd, pm25tmean2)"
   ]
  },
  {
   "cell_type": "code",
   "execution_count": 16,
   "metadata": {
    "vscode": {
     "languageId": "r"
    }
   },
   "outputs": [
    {
     "data": {
      "text/html": [
       "<table class=\"dataframe\">\n",
       "<caption>A data.frame: 3 × 8</caption>\n",
       "<thead>\n",
       "\t<tr><th></th><th scope=col>city</th><th scope=col>tmpd</th><th scope=col>dptp</th><th scope=col>date</th><th scope=col>pm25tmean2</th><th scope=col>pm10tmean2</th><th scope=col>o3tmean2</th><th scope=col>no2tmean2</th></tr>\n",
       "\t<tr><th></th><th scope=col>&lt;chr&gt;</th><th scope=col>&lt;dbl&gt;</th><th scope=col>&lt;dbl&gt;</th><th scope=col>&lt;date&gt;</th><th scope=col>&lt;dbl&gt;</th><th scope=col>&lt;dbl&gt;</th><th scope=col>&lt;dbl&gt;</th><th scope=col>&lt;dbl&gt;</th></tr>\n",
       "</thead>\n",
       "<tbody>\n",
       "\t<tr><th scope=row>1</th><td>chic</td><td>31.5</td><td>31.500</td><td>1987-01-01</td><td>NA</td><td>34.00000</td><td>4.250000</td><td>19.98810</td></tr>\n",
       "\t<tr><th scope=row>2</th><td>chic</td><td>33.0</td><td>29.875</td><td>1987-01-02</td><td>NA</td><td>      NA</td><td>3.304348</td><td>23.19099</td></tr>\n",
       "\t<tr><th scope=row>3</th><td>chic</td><td>33.0</td><td>27.375</td><td>1987-01-03</td><td>NA</td><td>34.16667</td><td>3.333333</td><td>23.81548</td></tr>\n",
       "</tbody>\n",
       "</table>\n"
      ],
      "text/latex": [
       "A data.frame: 3 × 8\n",
       "\\begin{tabular}{r|llllllll}\n",
       "  & city & tmpd & dptp & date & pm25tmean2 & pm10tmean2 & o3tmean2 & no2tmean2\\\\\n",
       "  & <chr> & <dbl> & <dbl> & <date> & <dbl> & <dbl> & <dbl> & <dbl>\\\\\n",
       "\\hline\n",
       "\t1 & chic & 31.5 & 31.500 & 1987-01-01 & NA & 34.00000 & 4.250000 & 19.98810\\\\\n",
       "\t2 & chic & 33.0 & 29.875 & 1987-01-02 & NA &       NA & 3.304348 & 23.19099\\\\\n",
       "\t3 & chic & 33.0 & 27.375 & 1987-01-03 & NA & 34.16667 & 3.333333 & 23.81548\\\\\n",
       "\\end{tabular}\n"
      ],
      "text/markdown": [
       "\n",
       "A data.frame: 3 × 8\n",
       "\n",
       "| <!--/--> | city &lt;chr&gt; | tmpd &lt;dbl&gt; | dptp &lt;dbl&gt; | date &lt;date&gt; | pm25tmean2 &lt;dbl&gt; | pm10tmean2 &lt;dbl&gt; | o3tmean2 &lt;dbl&gt; | no2tmean2 &lt;dbl&gt; |\n",
       "|---|---|---|---|---|---|---|---|---|\n",
       "| 1 | chic | 31.5 | 31.500 | 1987-01-01 | NA | 34.00000 | 4.250000 | 19.98810 |\n",
       "| 2 | chic | 33.0 | 29.875 | 1987-01-02 | NA |       NA | 3.304348 | 23.19099 |\n",
       "| 3 | chic | 33.0 | 27.375 | 1987-01-03 | NA | 34.16667 | 3.333333 | 23.81548 |\n",
       "\n"
      ],
      "text/plain": [
       "  city tmpd dptp   date       pm25tmean2 pm10tmean2 o3tmean2 no2tmean2\n",
       "1 chic 31.5 31.500 1987-01-01 NA         34.00000   4.250000 19.98810 \n",
       "2 chic 33.0 29.875 1987-01-02 NA               NA   3.304348 23.19099 \n",
       "3 chic 33.0 27.375 1987-01-03 NA         34.16667   3.333333 23.81548 "
      ]
     },
     "metadata": {},
     "output_type": "display_data"
    },
    {
     "data": {
      "text/html": [
       "<table class=\"dataframe\">\n",
       "<caption>A data.frame: 3 × 8</caption>\n",
       "<thead>\n",
       "\t<tr><th></th><th scope=col>city</th><th scope=col>tmpd</th><th scope=col>dptp</th><th scope=col>date</th><th scope=col>pm25tmean2</th><th scope=col>pm10tmean2</th><th scope=col>o3tmean2</th><th scope=col>no2tmean2</th></tr>\n",
       "\t<tr><th></th><th scope=col>&lt;chr&gt;</th><th scope=col>&lt;dbl&gt;</th><th scope=col>&lt;dbl&gt;</th><th scope=col>&lt;date&gt;</th><th scope=col>&lt;dbl&gt;</th><th scope=col>&lt;dbl&gt;</th><th scope=col>&lt;dbl&gt;</th><th scope=col>&lt;dbl&gt;</th></tr>\n",
       "</thead>\n",
       "<tbody>\n",
       "\t<tr><th scope=row>6938</th><td>chic</td><td>35</td><td>29.4</td><td>2005-12-29</td><td> 7.45000</td><td>23.5</td><td>6.794837</td><td>19.97222</td></tr>\n",
       "\t<tr><th scope=row>6939</th><td>chic</td><td>36</td><td>31.0</td><td>2005-12-30</td><td>15.05714</td><td>19.2</td><td>3.034420</td><td>22.80556</td></tr>\n",
       "\t<tr><th scope=row>6940</th><td>chic</td><td>35</td><td>30.1</td><td>2005-12-31</td><td>15.00000</td><td>23.5</td><td>2.531250</td><td>13.25000</td></tr>\n",
       "</tbody>\n",
       "</table>\n"
      ],
      "text/latex": [
       "A data.frame: 3 × 8\n",
       "\\begin{tabular}{r|llllllll}\n",
       "  & city & tmpd & dptp & date & pm25tmean2 & pm10tmean2 & o3tmean2 & no2tmean2\\\\\n",
       "  & <chr> & <dbl> & <dbl> & <date> & <dbl> & <dbl> & <dbl> & <dbl>\\\\\n",
       "\\hline\n",
       "\t6938 & chic & 35 & 29.4 & 2005-12-29 &  7.45000 & 23.5 & 6.794837 & 19.97222\\\\\n",
       "\t6939 & chic & 36 & 31.0 & 2005-12-30 & 15.05714 & 19.2 & 3.034420 & 22.80556\\\\\n",
       "\t6940 & chic & 35 & 30.1 & 2005-12-31 & 15.00000 & 23.5 & 2.531250 & 13.25000\\\\\n",
       "\\end{tabular}\n"
      ],
      "text/markdown": [
       "\n",
       "A data.frame: 3 × 8\n",
       "\n",
       "| <!--/--> | city &lt;chr&gt; | tmpd &lt;dbl&gt; | dptp &lt;dbl&gt; | date &lt;date&gt; | pm25tmean2 &lt;dbl&gt; | pm10tmean2 &lt;dbl&gt; | o3tmean2 &lt;dbl&gt; | no2tmean2 &lt;dbl&gt; |\n",
       "|---|---|---|---|---|---|---|---|---|\n",
       "| 6938 | chic | 35 | 29.4 | 2005-12-29 |  7.45000 | 23.5 | 6.794837 | 19.97222 |\n",
       "| 6939 | chic | 36 | 31.0 | 2005-12-30 | 15.05714 | 19.2 | 3.034420 | 22.80556 |\n",
       "| 6940 | chic | 35 | 30.1 | 2005-12-31 | 15.00000 | 23.5 | 2.531250 | 13.25000 |\n",
       "\n"
      ],
      "text/plain": [
       "     city tmpd dptp date       pm25tmean2 pm10tmean2 o3tmean2 no2tmean2\n",
       "6938 chic 35   29.4 2005-12-29  7.45000   23.5       6.794837 19.97222 \n",
       "6939 chic 36   31.0 2005-12-30 15.05714   19.2       3.034420 22.80556 \n",
       "6940 chic 35   30.1 2005-12-31 15.00000   23.5       2.531250 13.25000 "
      ]
     },
     "metadata": {},
     "output_type": "display_data"
    }
   ],
   "source": [
    "# dplyr arrange() functionality examples - \"arrange\" is the name of the SORT function\n",
    "chicago <- arrange(chicago,date)\n",
    "head(chicago, 3)\n",
    "tail(chicago, 3)"
   ]
  },
  {
   "cell_type": "code",
   "execution_count": 17,
   "metadata": {
    "vscode": {
     "languageId": "r"
    }
   },
   "outputs": [
    {
     "data": {
      "text/html": [
       "<table class=\"dataframe\">\n",
       "<caption>A data.frame: 3 × 8</caption>\n",
       "<thead>\n",
       "\t<tr><th></th><th scope=col>city</th><th scope=col>tmpd</th><th scope=col>dptp</th><th scope=col>date</th><th scope=col>pm25tmean2</th><th scope=col>pm10tmean2</th><th scope=col>o3tmean2</th><th scope=col>no2tmean2</th></tr>\n",
       "\t<tr><th></th><th scope=col>&lt;chr&gt;</th><th scope=col>&lt;dbl&gt;</th><th scope=col>&lt;dbl&gt;</th><th scope=col>&lt;date&gt;</th><th scope=col>&lt;dbl&gt;</th><th scope=col>&lt;dbl&gt;</th><th scope=col>&lt;dbl&gt;</th><th scope=col>&lt;dbl&gt;</th></tr>\n",
       "</thead>\n",
       "<tbody>\n",
       "\t<tr><th scope=row>1</th><td>chic</td><td>35</td><td>30.1</td><td>2005-12-31</td><td>15.00000</td><td>23.5</td><td>2.531250</td><td>13.25000</td></tr>\n",
       "\t<tr><th scope=row>2</th><td>chic</td><td>36</td><td>31.0</td><td>2005-12-30</td><td>15.05714</td><td>19.2</td><td>3.034420</td><td>22.80556</td></tr>\n",
       "\t<tr><th scope=row>3</th><td>chic</td><td>35</td><td>29.4</td><td>2005-12-29</td><td> 7.45000</td><td>23.5</td><td>6.794837</td><td>19.97222</td></tr>\n",
       "</tbody>\n",
       "</table>\n"
      ],
      "text/latex": [
       "A data.frame: 3 × 8\n",
       "\\begin{tabular}{r|llllllll}\n",
       "  & city & tmpd & dptp & date & pm25tmean2 & pm10tmean2 & o3tmean2 & no2tmean2\\\\\n",
       "  & <chr> & <dbl> & <dbl> & <date> & <dbl> & <dbl> & <dbl> & <dbl>\\\\\n",
       "\\hline\n",
       "\t1 & chic & 35 & 30.1 & 2005-12-31 & 15.00000 & 23.5 & 2.531250 & 13.25000\\\\\n",
       "\t2 & chic & 36 & 31.0 & 2005-12-30 & 15.05714 & 19.2 & 3.034420 & 22.80556\\\\\n",
       "\t3 & chic & 35 & 29.4 & 2005-12-29 &  7.45000 & 23.5 & 6.794837 & 19.97222\\\\\n",
       "\\end{tabular}\n"
      ],
      "text/markdown": [
       "\n",
       "A data.frame: 3 × 8\n",
       "\n",
       "| <!--/--> | city &lt;chr&gt; | tmpd &lt;dbl&gt; | dptp &lt;dbl&gt; | date &lt;date&gt; | pm25tmean2 &lt;dbl&gt; | pm10tmean2 &lt;dbl&gt; | o3tmean2 &lt;dbl&gt; | no2tmean2 &lt;dbl&gt; |\n",
       "|---|---|---|---|---|---|---|---|---|\n",
       "| 1 | chic | 35 | 30.1 | 2005-12-31 | 15.00000 | 23.5 | 2.531250 | 13.25000 |\n",
       "| 2 | chic | 36 | 31.0 | 2005-12-30 | 15.05714 | 19.2 | 3.034420 | 22.80556 |\n",
       "| 3 | chic | 35 | 29.4 | 2005-12-29 |  7.45000 | 23.5 | 6.794837 | 19.97222 |\n",
       "\n"
      ],
      "text/plain": [
       "  city tmpd dptp date       pm25tmean2 pm10tmean2 o3tmean2 no2tmean2\n",
       "1 chic 35   30.1 2005-12-31 15.00000   23.5       2.531250 13.25000 \n",
       "2 chic 36   31.0 2005-12-30 15.05714   19.2       3.034420 22.80556 \n",
       "3 chic 35   29.4 2005-12-29  7.45000   23.5       6.794837 19.97222 "
      ]
     },
     "metadata": {},
     "output_type": "display_data"
    },
    {
     "data": {
      "text/html": [
       "<table class=\"dataframe\">\n",
       "<caption>A data.frame: 3 × 8</caption>\n",
       "<thead>\n",
       "\t<tr><th></th><th scope=col>city</th><th scope=col>tmpd</th><th scope=col>dptp</th><th scope=col>date</th><th scope=col>pm25tmean2</th><th scope=col>pm10tmean2</th><th scope=col>o3tmean2</th><th scope=col>no2tmean2</th></tr>\n",
       "\t<tr><th></th><th scope=col>&lt;chr&gt;</th><th scope=col>&lt;dbl&gt;</th><th scope=col>&lt;dbl&gt;</th><th scope=col>&lt;date&gt;</th><th scope=col>&lt;dbl&gt;</th><th scope=col>&lt;dbl&gt;</th><th scope=col>&lt;dbl&gt;</th><th scope=col>&lt;dbl&gt;</th></tr>\n",
       "</thead>\n",
       "<tbody>\n",
       "\t<tr><th scope=row>6938</th><td>chic</td><td>33.0</td><td>27.375</td><td>1987-01-03</td><td>NA</td><td>34.16667</td><td>3.333333</td><td>23.81548</td></tr>\n",
       "\t<tr><th scope=row>6939</th><td>chic</td><td>33.0</td><td>29.875</td><td>1987-01-02</td><td>NA</td><td>      NA</td><td>3.304348</td><td>23.19099</td></tr>\n",
       "\t<tr><th scope=row>6940</th><td>chic</td><td>31.5</td><td>31.500</td><td>1987-01-01</td><td>NA</td><td>34.00000</td><td>4.250000</td><td>19.98810</td></tr>\n",
       "</tbody>\n",
       "</table>\n"
      ],
      "text/latex": [
       "A data.frame: 3 × 8\n",
       "\\begin{tabular}{r|llllllll}\n",
       "  & city & tmpd & dptp & date & pm25tmean2 & pm10tmean2 & o3tmean2 & no2tmean2\\\\\n",
       "  & <chr> & <dbl> & <dbl> & <date> & <dbl> & <dbl> & <dbl> & <dbl>\\\\\n",
       "\\hline\n",
       "\t6938 & chic & 33.0 & 27.375 & 1987-01-03 & NA & 34.16667 & 3.333333 & 23.81548\\\\\n",
       "\t6939 & chic & 33.0 & 29.875 & 1987-01-02 & NA &       NA & 3.304348 & 23.19099\\\\\n",
       "\t6940 & chic & 31.5 & 31.500 & 1987-01-01 & NA & 34.00000 & 4.250000 & 19.98810\\\\\n",
       "\\end{tabular}\n"
      ],
      "text/markdown": [
       "\n",
       "A data.frame: 3 × 8\n",
       "\n",
       "| <!--/--> | city &lt;chr&gt; | tmpd &lt;dbl&gt; | dptp &lt;dbl&gt; | date &lt;date&gt; | pm25tmean2 &lt;dbl&gt; | pm10tmean2 &lt;dbl&gt; | o3tmean2 &lt;dbl&gt; | no2tmean2 &lt;dbl&gt; |\n",
       "|---|---|---|---|---|---|---|---|---|\n",
       "| 6938 | chic | 33.0 | 27.375 | 1987-01-03 | NA | 34.16667 | 3.333333 | 23.81548 |\n",
       "| 6939 | chic | 33.0 | 29.875 | 1987-01-02 | NA |       NA | 3.304348 | 23.19099 |\n",
       "| 6940 | chic | 31.5 | 31.500 | 1987-01-01 | NA | 34.00000 | 4.250000 | 19.98810 |\n",
       "\n"
      ],
      "text/plain": [
       "     city tmpd dptp   date       pm25tmean2 pm10tmean2 o3tmean2 no2tmean2\n",
       "6938 chic 33.0 27.375 1987-01-03 NA         34.16667   3.333333 23.81548 \n",
       "6939 chic 33.0 29.875 1987-01-02 NA               NA   3.304348 23.19099 \n",
       "6940 chic 31.5 31.500 1987-01-01 NA         34.00000   4.250000 19.98810 "
      ]
     },
     "metadata": {},
     "output_type": "display_data"
    }
   ],
   "source": [
    "# descending\n",
    "chicago <- arrange(chicago, desc(date))\n",
    "head(chicago, 3)\n",
    "tail(chicago, 3)"
   ]
  },
  {
   "cell_type": "code",
   "execution_count": 18,
   "metadata": {
    "vscode": {
     "languageId": "r"
    }
   },
   "outputs": [
    {
     "data": {
      "text/html": [
       "<table class=\"dataframe\">\n",
       "<caption>A data.frame: 6 × 8</caption>\n",
       "<thead>\n",
       "\t<tr><th></th><th scope=col>city</th><th scope=col>tmpd</th><th scope=col>dewpoint</th><th scope=col>date</th><th scope=col>pm25</th><th scope=col>pm10tmean2</th><th scope=col>o3tmean2</th><th scope=col>no2tmean2</th></tr>\n",
       "\t<tr><th></th><th scope=col>&lt;chr&gt;</th><th scope=col>&lt;dbl&gt;</th><th scope=col>&lt;dbl&gt;</th><th scope=col>&lt;date&gt;</th><th scope=col>&lt;dbl&gt;</th><th scope=col>&lt;dbl&gt;</th><th scope=col>&lt;dbl&gt;</th><th scope=col>&lt;dbl&gt;</th></tr>\n",
       "</thead>\n",
       "<tbody>\n",
       "\t<tr><th scope=row>1</th><td>chic</td><td>35</td><td>30.1</td><td>2005-12-31</td><td>15.00000</td><td>23.5</td><td> 2.531250</td><td>13.25000</td></tr>\n",
       "\t<tr><th scope=row>2</th><td>chic</td><td>36</td><td>31.0</td><td>2005-12-30</td><td>15.05714</td><td>19.2</td><td> 3.034420</td><td>22.80556</td></tr>\n",
       "\t<tr><th scope=row>3</th><td>chic</td><td>35</td><td>29.4</td><td>2005-12-29</td><td> 7.45000</td><td>23.5</td><td> 6.794837</td><td>19.97222</td></tr>\n",
       "\t<tr><th scope=row>4</th><td>chic</td><td>37</td><td>34.5</td><td>2005-12-28</td><td>17.75000</td><td>27.5</td><td> 3.260417</td><td>19.28563</td></tr>\n",
       "\t<tr><th scope=row>5</th><td>chic</td><td>40</td><td>33.6</td><td>2005-12-27</td><td>23.56000</td><td>27.0</td><td> 4.468750</td><td>23.50000</td></tr>\n",
       "\t<tr><th scope=row>6</th><td>chic</td><td>35</td><td>29.6</td><td>2005-12-26</td><td> 8.40000</td><td> 8.5</td><td>14.041667</td><td>16.81944</td></tr>\n",
       "</tbody>\n",
       "</table>\n"
      ],
      "text/latex": [
       "A data.frame: 6 × 8\n",
       "\\begin{tabular}{r|llllllll}\n",
       "  & city & tmpd & dewpoint & date & pm25 & pm10tmean2 & o3tmean2 & no2tmean2\\\\\n",
       "  & <chr> & <dbl> & <dbl> & <date> & <dbl> & <dbl> & <dbl> & <dbl>\\\\\n",
       "\\hline\n",
       "\t1 & chic & 35 & 30.1 & 2005-12-31 & 15.00000 & 23.5 &  2.531250 & 13.25000\\\\\n",
       "\t2 & chic & 36 & 31.0 & 2005-12-30 & 15.05714 & 19.2 &  3.034420 & 22.80556\\\\\n",
       "\t3 & chic & 35 & 29.4 & 2005-12-29 &  7.45000 & 23.5 &  6.794837 & 19.97222\\\\\n",
       "\t4 & chic & 37 & 34.5 & 2005-12-28 & 17.75000 & 27.5 &  3.260417 & 19.28563\\\\\n",
       "\t5 & chic & 40 & 33.6 & 2005-12-27 & 23.56000 & 27.0 &  4.468750 & 23.50000\\\\\n",
       "\t6 & chic & 35 & 29.6 & 2005-12-26 &  8.40000 &  8.5 & 14.041667 & 16.81944\\\\\n",
       "\\end{tabular}\n"
      ],
      "text/markdown": [
       "\n",
       "A data.frame: 6 × 8\n",
       "\n",
       "| <!--/--> | city &lt;chr&gt; | tmpd &lt;dbl&gt; | dewpoint &lt;dbl&gt; | date &lt;date&gt; | pm25 &lt;dbl&gt; | pm10tmean2 &lt;dbl&gt; | o3tmean2 &lt;dbl&gt; | no2tmean2 &lt;dbl&gt; |\n",
       "|---|---|---|---|---|---|---|---|---|\n",
       "| 1 | chic | 35 | 30.1 | 2005-12-31 | 15.00000 | 23.5 |  2.531250 | 13.25000 |\n",
       "| 2 | chic | 36 | 31.0 | 2005-12-30 | 15.05714 | 19.2 |  3.034420 | 22.80556 |\n",
       "| 3 | chic | 35 | 29.4 | 2005-12-29 |  7.45000 | 23.5 |  6.794837 | 19.97222 |\n",
       "| 4 | chic | 37 | 34.5 | 2005-12-28 | 17.75000 | 27.5 |  3.260417 | 19.28563 |\n",
       "| 5 | chic | 40 | 33.6 | 2005-12-27 | 23.56000 | 27.0 |  4.468750 | 23.50000 |\n",
       "| 6 | chic | 35 | 29.6 | 2005-12-26 |  8.40000 |  8.5 | 14.041667 | 16.81944 |\n",
       "\n"
      ],
      "text/plain": [
       "  city tmpd dewpoint date       pm25     pm10tmean2 o3tmean2  no2tmean2\n",
       "1 chic 35   30.1     2005-12-31 15.00000 23.5        2.531250 13.25000 \n",
       "2 chic 36   31.0     2005-12-30 15.05714 19.2        3.034420 22.80556 \n",
       "3 chic 35   29.4     2005-12-29  7.45000 23.5        6.794837 19.97222 \n",
       "4 chic 37   34.5     2005-12-28 17.75000 27.5        3.260417 19.28563 \n",
       "5 chic 40   33.6     2005-12-27 23.56000 27.0        4.468750 23.50000 \n",
       "6 chic 35   29.6     2005-12-26  8.40000  8.5       14.041667 16.81944 "
      ]
     },
     "metadata": {},
     "output_type": "display_data"
    }
   ],
   "source": [
    "# dplyr rename() functionality examples\n",
    "chicago <- rename(chicago, dewpoint = dptp, pm25 = pm25tmean2)\n",
    "head(chicago)"
   ]
  },
  {
   "cell_type": "code",
   "execution_count": 19,
   "metadata": {
    "vscode": {
     "languageId": "r"
    }
   },
   "outputs": [
    {
     "data": {
      "text/html": [
       "<table class=\"dataframe\">\n",
       "<caption>A data.frame: 6 × 9</caption>\n",
       "<thead>\n",
       "\t<tr><th></th><th scope=col>city</th><th scope=col>tmpd</th><th scope=col>dewpoint</th><th scope=col>date</th><th scope=col>pm25</th><th scope=col>pm10tmean2</th><th scope=col>o3tmean2</th><th scope=col>no2tmean2</th><th scope=col>pm25detrend</th></tr>\n",
       "\t<tr><th></th><th scope=col>&lt;chr&gt;</th><th scope=col>&lt;dbl&gt;</th><th scope=col>&lt;dbl&gt;</th><th scope=col>&lt;date&gt;</th><th scope=col>&lt;dbl&gt;</th><th scope=col>&lt;dbl&gt;</th><th scope=col>&lt;dbl&gt;</th><th scope=col>&lt;dbl&gt;</th><th scope=col>&lt;dbl&gt;</th></tr>\n",
       "</thead>\n",
       "<tbody>\n",
       "\t<tr><th scope=row>1</th><td>chic</td><td>35</td><td>30.1</td><td>2005-12-31</td><td>15.00000</td><td>23.5</td><td> 2.531250</td><td>13.25000</td><td>-1.230958</td></tr>\n",
       "\t<tr><th scope=row>2</th><td>chic</td><td>36</td><td>31.0</td><td>2005-12-30</td><td>15.05714</td><td>19.2</td><td> 3.034420</td><td>22.80556</td><td>-1.173815</td></tr>\n",
       "\t<tr><th scope=row>3</th><td>chic</td><td>35</td><td>29.4</td><td>2005-12-29</td><td> 7.45000</td><td>23.5</td><td> 6.794837</td><td>19.97222</td><td>-8.780958</td></tr>\n",
       "\t<tr><th scope=row>4</th><td>chic</td><td>37</td><td>34.5</td><td>2005-12-28</td><td>17.75000</td><td>27.5</td><td> 3.260417</td><td>19.28563</td><td> 1.519042</td></tr>\n",
       "\t<tr><th scope=row>5</th><td>chic</td><td>40</td><td>33.6</td><td>2005-12-27</td><td>23.56000</td><td>27.0</td><td> 4.468750</td><td>23.50000</td><td> 7.329042</td></tr>\n",
       "\t<tr><th scope=row>6</th><td>chic</td><td>35</td><td>29.6</td><td>2005-12-26</td><td> 8.40000</td><td> 8.5</td><td>14.041667</td><td>16.81944</td><td>-7.830958</td></tr>\n",
       "</tbody>\n",
       "</table>\n"
      ],
      "text/latex": [
       "A data.frame: 6 × 9\n",
       "\\begin{tabular}{r|lllllllll}\n",
       "  & city & tmpd & dewpoint & date & pm25 & pm10tmean2 & o3tmean2 & no2tmean2 & pm25detrend\\\\\n",
       "  & <chr> & <dbl> & <dbl> & <date> & <dbl> & <dbl> & <dbl> & <dbl> & <dbl>\\\\\n",
       "\\hline\n",
       "\t1 & chic & 35 & 30.1 & 2005-12-31 & 15.00000 & 23.5 &  2.531250 & 13.25000 & -1.230958\\\\\n",
       "\t2 & chic & 36 & 31.0 & 2005-12-30 & 15.05714 & 19.2 &  3.034420 & 22.80556 & -1.173815\\\\\n",
       "\t3 & chic & 35 & 29.4 & 2005-12-29 &  7.45000 & 23.5 &  6.794837 & 19.97222 & -8.780958\\\\\n",
       "\t4 & chic & 37 & 34.5 & 2005-12-28 & 17.75000 & 27.5 &  3.260417 & 19.28563 &  1.519042\\\\\n",
       "\t5 & chic & 40 & 33.6 & 2005-12-27 & 23.56000 & 27.0 &  4.468750 & 23.50000 &  7.329042\\\\\n",
       "\t6 & chic & 35 & 29.6 & 2005-12-26 &  8.40000 &  8.5 & 14.041667 & 16.81944 & -7.830958\\\\\n",
       "\\end{tabular}\n"
      ],
      "text/markdown": [
       "\n",
       "A data.frame: 6 × 9\n",
       "\n",
       "| <!--/--> | city &lt;chr&gt; | tmpd &lt;dbl&gt; | dewpoint &lt;dbl&gt; | date &lt;date&gt; | pm25 &lt;dbl&gt; | pm10tmean2 &lt;dbl&gt; | o3tmean2 &lt;dbl&gt; | no2tmean2 &lt;dbl&gt; | pm25detrend &lt;dbl&gt; |\n",
       "|---|---|---|---|---|---|---|---|---|---|\n",
       "| 1 | chic | 35 | 30.1 | 2005-12-31 | 15.00000 | 23.5 |  2.531250 | 13.25000 | -1.230958 |\n",
       "| 2 | chic | 36 | 31.0 | 2005-12-30 | 15.05714 | 19.2 |  3.034420 | 22.80556 | -1.173815 |\n",
       "| 3 | chic | 35 | 29.4 | 2005-12-29 |  7.45000 | 23.5 |  6.794837 | 19.97222 | -8.780958 |\n",
       "| 4 | chic | 37 | 34.5 | 2005-12-28 | 17.75000 | 27.5 |  3.260417 | 19.28563 |  1.519042 |\n",
       "| 5 | chic | 40 | 33.6 | 2005-12-27 | 23.56000 | 27.0 |  4.468750 | 23.50000 |  7.329042 |\n",
       "| 6 | chic | 35 | 29.6 | 2005-12-26 |  8.40000 |  8.5 | 14.041667 | 16.81944 | -7.830958 |\n",
       "\n"
      ],
      "text/plain": [
       "  city tmpd dewpoint date       pm25     pm10tmean2 o3tmean2  no2tmean2\n",
       "1 chic 35   30.1     2005-12-31 15.00000 23.5        2.531250 13.25000 \n",
       "2 chic 36   31.0     2005-12-30 15.05714 19.2        3.034420 22.80556 \n",
       "3 chic 35   29.4     2005-12-29  7.45000 23.5        6.794837 19.97222 \n",
       "4 chic 37   34.5     2005-12-28 17.75000 27.5        3.260417 19.28563 \n",
       "5 chic 40   33.6     2005-12-27 23.56000 27.0        4.468750 23.50000 \n",
       "6 chic 35   29.6     2005-12-26  8.40000  8.5       14.041667 16.81944 \n",
       "  pm25detrend\n",
       "1 -1.230958  \n",
       "2 -1.173815  \n",
       "3 -8.780958  \n",
       "4  1.519042  \n",
       "5  7.329042  \n",
       "6 -7.830958  "
      ]
     },
     "metadata": {},
     "output_type": "display_data"
    }
   ],
   "source": [
    "# dplyr mutate() functionality examples\n",
    "# for ADDING new columns, usually based on a transformation of the existing into\n",
    "\n",
    "chicago <- mutate(chicago, pm25detrend = pm25 - mean(pm25, na.rm = TRUE))\n",
    "head(chicago)"
   ]
  },
  {
   "cell_type": "code",
   "execution_count": 29,
   "metadata": {
    "vscode": {
     "languageId": "r"
    }
   },
   "outputs": [
    {
     "data": {
      "text/html": [
       "<table class=\"dataframe\">\n",
       "<caption>A data.frame: 6 × 2</caption>\n",
       "<thead>\n",
       "\t<tr><th></th><th scope=col>pm10detrend</th><th scope=col>o3detrend</th></tr>\n",
       "\t<tr><th></th><th scope=col>&lt;dbl&gt;</th><th scope=col>&lt;dbl&gt;</th></tr>\n",
       "</thead>\n",
       "<tbody>\n",
       "\t<tr><th scope=row>1</th><td>-10.395206</td><td>-16.904263</td></tr>\n",
       "\t<tr><th scope=row>2</th><td>-14.695206</td><td>-16.401093</td></tr>\n",
       "\t<tr><th scope=row>3</th><td>-10.395206</td><td>-12.640676</td></tr>\n",
       "\t<tr><th scope=row>4</th><td> -6.395206</td><td>-16.175096</td></tr>\n",
       "\t<tr><th scope=row>5</th><td> -6.895206</td><td>-14.966763</td></tr>\n",
       "\t<tr><th scope=row>6</th><td>-25.395206</td><td> -5.393846</td></tr>\n",
       "</tbody>\n",
       "</table>\n"
      ],
      "text/latex": [
       "A data.frame: 6 × 2\n",
       "\\begin{tabular}{r|ll}\n",
       "  & pm10detrend & o3detrend\\\\\n",
       "  & <dbl> & <dbl>\\\\\n",
       "\\hline\n",
       "\t1 & -10.395206 & -16.904263\\\\\n",
       "\t2 & -14.695206 & -16.401093\\\\\n",
       "\t3 & -10.395206 & -12.640676\\\\\n",
       "\t4 &  -6.395206 & -16.175096\\\\\n",
       "\t5 &  -6.895206 & -14.966763\\\\\n",
       "\t6 & -25.395206 &  -5.393846\\\\\n",
       "\\end{tabular}\n"
      ],
      "text/markdown": [
       "\n",
       "A data.frame: 6 × 2\n",
       "\n",
       "| <!--/--> | pm10detrend &lt;dbl&gt; | o3detrend &lt;dbl&gt; |\n",
       "|---|---|---|\n",
       "| 1 | -10.395206 | -16.904263 |\n",
       "| 2 | -14.695206 | -16.401093 |\n",
       "| 3 | -10.395206 | -12.640676 |\n",
       "| 4 |  -6.395206 | -16.175096 |\n",
       "| 5 |  -6.895206 | -14.966763 |\n",
       "| 6 | -25.395206 |  -5.393846 |\n",
       "\n"
      ],
      "text/plain": [
       "  pm10detrend o3detrend \n",
       "1 -10.395206  -16.904263\n",
       "2 -14.695206  -16.401093\n",
       "3 -10.395206  -12.640676\n",
       "4  -6.395206  -16.175096\n",
       "5  -6.895206  -14.966763\n",
       "6 -25.395206   -5.393846"
      ]
     },
     "metadata": {},
     "output_type": "display_data"
    }
   ],
   "source": [
    "# transmute() or mutate(..., .keep = 'none') creates the new columns a separate table with only the new columns\n",
    "head(mutate(chicago, \n",
    "            pm10detrend = pm10tmean2 - mean(pm10tmean2, na.rm = TRUE),\n",
    "            o3detrend = o3tmean2 - mean(o3tmean2, na.rm = TRUE),\n",
    "            .keep = 'none'\n",
    "            ))"
   ]
  },
  {
   "cell_type": "code",
   "execution_count": 34,
   "metadata": {
    "vscode": {
     "languageId": "r"
    }
   },
   "outputs": [
    {
     "data": {
      "text/html": [
       "<table class=\"dataframe\">\n",
       "<caption>A tibble: 19 × 4</caption>\n",
       "<thead>\n",
       "\t<tr><th scope=col>year</th><th scope=col>pm25</th><th scope=col>o3</th><th scope=col>no2</th></tr>\n",
       "\t<tr><th scope=col>&lt;chr&gt;</th><th scope=col>&lt;dbl&gt;</th><th scope=col>&lt;dbl&gt;</th><th scope=col>&lt;dbl&gt;</th></tr>\n",
       "</thead>\n",
       "<tbody>\n",
       "\t<tr><td>1987</td><td>     NaN</td><td>20.49656</td><td>25.29139</td></tr>\n",
       "\t<tr><td>1988</td><td>     NaN</td><td>22.24508</td><td>25.34194</td></tr>\n",
       "\t<tr><td>1989</td><td>     NaN</td><td>20.81377</td><td>27.36487</td></tr>\n",
       "\t<tr><td>1990</td><td>     NaN</td><td>19.72982</td><td>23.05653</td></tr>\n",
       "\t<tr><td>1991</td><td>     NaN</td><td>20.00840</td><td>21.91641</td></tr>\n",
       "\t<tr><td>1992</td><td>     NaN</td><td>16.05586</td><td>25.85826</td></tr>\n",
       "\t<tr><td>1993</td><td>     NaN</td><td>15.80195</td><td>26.13133</td></tr>\n",
       "\t<tr><td>1994</td><td>     NaN</td><td>17.32355</td><td>29.10232</td></tr>\n",
       "\t<tr><td>1995</td><td>     NaN</td><td>18.13865</td><td>27.94671</td></tr>\n",
       "\t<tr><td>1996</td><td>     NaN</td><td>16.74696</td><td>26.98163</td></tr>\n",
       "\t<tr><td>1997</td><td>     NaN</td><td>18.60359</td><td>25.75996</td></tr>\n",
       "\t<tr><td>1998</td><td>18.26467</td><td>19.27065</td><td>24.73751</td></tr>\n",
       "\t<tr><td>1999</td><td>18.49646</td><td>20.46593</td><td>24.93339</td></tr>\n",
       "\t<tr><td>2000</td><td>16.93806</td><td>18.53101</td><td>24.07310</td></tr>\n",
       "\t<tr><td>2001</td><td>16.92632</td><td>19.35421</td><td>25.38962</td></tr>\n",
       "\t<tr><td>2002</td><td>15.27335</td><td>20.98978</td><td>23.66768</td></tr>\n",
       "\t<tr><td>2003</td><td>15.23183</td><td>20.97764</td><td>25.24405</td></tr>\n",
       "\t<tr><td>2004</td><td>14.62864</td><td>20.53633</td><td>23.44489</td></tr>\n",
       "\t<tr><td>2005</td><td>16.18556</td><td>23.19340</td><td>23.16542</td></tr>\n",
       "</tbody>\n",
       "</table>\n"
      ],
      "text/latex": [
       "A tibble: 19 × 4\n",
       "\\begin{tabular}{llll}\n",
       " year & pm25 & o3 & no2\\\\\n",
       " <chr> & <dbl> & <dbl> & <dbl>\\\\\n",
       "\\hline\n",
       "\t 1987 &      NaN & 20.49656 & 25.29139\\\\\n",
       "\t 1988 &      NaN & 22.24508 & 25.34194\\\\\n",
       "\t 1989 &      NaN & 20.81377 & 27.36487\\\\\n",
       "\t 1990 &      NaN & 19.72982 & 23.05653\\\\\n",
       "\t 1991 &      NaN & 20.00840 & 21.91641\\\\\n",
       "\t 1992 &      NaN & 16.05586 & 25.85826\\\\\n",
       "\t 1993 &      NaN & 15.80195 & 26.13133\\\\\n",
       "\t 1994 &      NaN & 17.32355 & 29.10232\\\\\n",
       "\t 1995 &      NaN & 18.13865 & 27.94671\\\\\n",
       "\t 1996 &      NaN & 16.74696 & 26.98163\\\\\n",
       "\t 1997 &      NaN & 18.60359 & 25.75996\\\\\n",
       "\t 1998 & 18.26467 & 19.27065 & 24.73751\\\\\n",
       "\t 1999 & 18.49646 & 20.46593 & 24.93339\\\\\n",
       "\t 2000 & 16.93806 & 18.53101 & 24.07310\\\\\n",
       "\t 2001 & 16.92632 & 19.35421 & 25.38962\\\\\n",
       "\t 2002 & 15.27335 & 20.98978 & 23.66768\\\\\n",
       "\t 2003 & 15.23183 & 20.97764 & 25.24405\\\\\n",
       "\t 2004 & 14.62864 & 20.53633 & 23.44489\\\\\n",
       "\t 2005 & 16.18556 & 23.19340 & 23.16542\\\\\n",
       "\\end{tabular}\n"
      ],
      "text/markdown": [
       "\n",
       "A tibble: 19 × 4\n",
       "\n",
       "| year &lt;chr&gt; | pm25 &lt;dbl&gt; | o3 &lt;dbl&gt; | no2 &lt;dbl&gt; |\n",
       "|---|---|---|---|\n",
       "| 1987 |      NaN | 20.49656 | 25.29139 |\n",
       "| 1988 |      NaN | 22.24508 | 25.34194 |\n",
       "| 1989 |      NaN | 20.81377 | 27.36487 |\n",
       "| 1990 |      NaN | 19.72982 | 23.05653 |\n",
       "| 1991 |      NaN | 20.00840 | 21.91641 |\n",
       "| 1992 |      NaN | 16.05586 | 25.85826 |\n",
       "| 1993 |      NaN | 15.80195 | 26.13133 |\n",
       "| 1994 |      NaN | 17.32355 | 29.10232 |\n",
       "| 1995 |      NaN | 18.13865 | 27.94671 |\n",
       "| 1996 |      NaN | 16.74696 | 26.98163 |\n",
       "| 1997 |      NaN | 18.60359 | 25.75996 |\n",
       "| 1998 | 18.26467 | 19.27065 | 24.73751 |\n",
       "| 1999 | 18.49646 | 20.46593 | 24.93339 |\n",
       "| 2000 | 16.93806 | 18.53101 | 24.07310 |\n",
       "| 2001 | 16.92632 | 19.35421 | 25.38962 |\n",
       "| 2002 | 15.27335 | 20.98978 | 23.66768 |\n",
       "| 2003 | 15.23183 | 20.97764 | 25.24405 |\n",
       "| 2004 | 14.62864 | 20.53633 | 23.44489 |\n",
       "| 2005 | 16.18556 | 23.19340 | 23.16542 |\n",
       "\n"
      ],
      "text/plain": [
       "   year pm25     o3       no2     \n",
       "1  1987      NaN 20.49656 25.29139\n",
       "2  1988      NaN 22.24508 25.34194\n",
       "3  1989      NaN 20.81377 27.36487\n",
       "4  1990      NaN 19.72982 23.05653\n",
       "5  1991      NaN 20.00840 21.91641\n",
       "6  1992      NaN 16.05586 25.85826\n",
       "7  1993      NaN 15.80195 26.13133\n",
       "8  1994      NaN 17.32355 29.10232\n",
       "9  1995      NaN 18.13865 27.94671\n",
       "10 1996      NaN 16.74696 26.98163\n",
       "11 1997      NaN 18.60359 25.75996\n",
       "12 1998 18.26467 19.27065 24.73751\n",
       "13 1999 18.49646 20.46593 24.93339\n",
       "14 2000 16.93806 18.53101 24.07310\n",
       "15 2001 16.92632 19.35421 25.38962\n",
       "16 2002 15.27335 20.98978 23.66768\n",
       "17 2003 15.23183 20.97764 25.24405\n",
       "18 2004 14.62864 20.53633 23.44489\n",
       "19 2005 16.18556 23.19340 23.16542"
      ]
     },
     "metadata": {},
     "output_type": "display_data"
    }
   ],
   "source": [
    "# dplyr group_by() functionality examples\n",
    "\n",
    "# add a year column\n",
    "# get a list of the years\n",
    "# summarize() at that level, providing the summary statistics we want\n",
    "\n",
    "\n",
    "# add a year column\n",
    "#chicago <- mutate(chicago, year = as.POSIXlt(date)$year + 1900) # book version\n",
    "chicago <- mutate(chicago, year = format(date, \"%Y\")) # this seems less weird\n",
    "# get a list of the years\n",
    "years <- group_by(chicago, year)\n",
    "# summarize() at that level, providing the summary statistics we want\n",
    "summarize(years,\n",
    "          pm25 = mean(pm25, na.rm = TRUE),\n",
    "          o3 = mean(o3tmean2, na.rm = TRUE),\n",
    "          no2 = mean(no2tmean2, na.rm = TRUE)\n",
    "          )\n"
   ]
  },
  {
   "cell_type": "code",
   "execution_count": 41,
   "metadata": {
    "vscode": {
     "languageId": "r"
    }
   },
   "outputs": [
    {
     "data": {
      "text/html": [
       "<table class=\"dataframe\">\n",
       "<caption>A tibble: 5 × 3</caption>\n",
       "<thead>\n",
       "\t<tr><th scope=col>pm25.quart</th><th scope=col>o3</th><th scope=col>no2</th></tr>\n",
       "\t<tr><th scope=col>&lt;fct&gt;</th><th scope=col>&lt;dbl&gt;</th><th scope=col>&lt;dbl&gt;</th></tr>\n",
       "</thead>\n",
       "<tbody>\n",
       "\t<tr><td>(1.7,9.7]  </td><td>21.39645</td><td>18.64829</td></tr>\n",
       "\t<tr><td>(9.7,14.7] </td><td>20.66640</td><td>22.86201</td></tr>\n",
       "\t<tr><td>(14.7,20.6]</td><td>19.93772</td><td>26.34119</td></tr>\n",
       "\t<tr><td>(20.6,61.5]</td><td>20.34719</td><td>29.20830</td></tr>\n",
       "\t<tr><td>NA         </td><td>18.79044</td><td>25.77585</td></tr>\n",
       "</tbody>\n",
       "</table>\n"
      ],
      "text/latex": [
       "A tibble: 5 × 3\n",
       "\\begin{tabular}{lll}\n",
       " pm25.quart & o3 & no2\\\\\n",
       " <fct> & <dbl> & <dbl>\\\\\n",
       "\\hline\n",
       "\t (1.7,9.7{]}   & 21.39645 & 18.64829\\\\\n",
       "\t (9.7,14.7{]}  & 20.66640 & 22.86201\\\\\n",
       "\t (14.7,20.6{]} & 19.93772 & 26.34119\\\\\n",
       "\t (20.6,61.5{]} & 20.34719 & 29.20830\\\\\n",
       "\t NA          & 18.79044 & 25.77585\\\\\n",
       "\\end{tabular}\n"
      ],
      "text/markdown": [
       "\n",
       "A tibble: 5 × 3\n",
       "\n",
       "| pm25.quart &lt;fct&gt; | o3 &lt;dbl&gt; | no2 &lt;dbl&gt; |\n",
       "|---|---|---|\n",
       "| (1.7,9.7]   | 21.39645 | 18.64829 |\n",
       "| (9.7,14.7]  | 20.66640 | 22.86201 |\n",
       "| (14.7,20.6] | 19.93772 | 26.34119 |\n",
       "| (20.6,61.5] | 20.34719 | 29.20830 |\n",
       "| NA          | 18.79044 | 25.77585 |\n",
       "\n"
      ],
      "text/plain": [
       "  pm25.quart  o3       no2     \n",
       "1 (1.7,9.7]   21.39645 18.64829\n",
       "2 (9.7,14.7]  20.66640 22.86201\n",
       "3 (14.7,20.6] 19.93772 26.34119\n",
       "4 (20.6,61.5] 20.34719 29.20830\n",
       "5 NA          18.79044 25.77585"
      ]
     },
     "metadata": {},
     "output_type": "display_data"
    }
   ],
   "source": [
    "# complex example\n",
    "\n",
    "# break variable up into quartiles\n",
    "## make a list of the breakpoints =-> qq \n",
    "qq <- quantile(chicago$pm25, seq(0,1,0.25), na.rm = TRUE)\n",
    "\n",
    "##add a column that labels which \"cut\" each row's value is (between the breakpoints)\n",
    "chicago <- mutate(chicago, pm25.quart = cut(pm25, qq))\n",
    "\n",
    "# convert to a \"grouped table\" that marks what columns grouped calcs should occur\n",
    "quart <- group_by(chicago, pm25.quart)\n",
    "\n",
    "# summarize() the grouped table, providing the summary statistics we want\n",
    "summarize(quart,\n",
    "          o3 = mean(o3tmean2, na.rm = TRUE),\n",
    "          no2 = mean(no2tmean2, na.rm = TRUE)\n",
    "          )"
   ]
  },
  {
   "cell_type": "code",
   "execution_count": 42,
   "metadata": {
    "vscode": {
     "languageId": "r"
    }
   },
   "outputs": [
    {
     "data": {
      "text/html": [
       "<table class=\"dataframe\">\n",
       "<caption>A tibble: 5 × 3</caption>\n",
       "<thead>\n",
       "\t<tr><th scope=col>pm25.quart</th><th scope=col>o3</th><th scope=col>no2</th></tr>\n",
       "\t<tr><th scope=col>&lt;fct&gt;</th><th scope=col>&lt;dbl&gt;</th><th scope=col>&lt;dbl&gt;</th></tr>\n",
       "</thead>\n",
       "<tbody>\n",
       "\t<tr><td>(1.7,9.7]  </td><td>21.39645</td><td>18.64829</td></tr>\n",
       "\t<tr><td>(9.7,14.7] </td><td>20.66640</td><td>22.86201</td></tr>\n",
       "\t<tr><td>(14.7,20.6]</td><td>19.93772</td><td>26.34119</td></tr>\n",
       "\t<tr><td>(20.6,61.5]</td><td>20.34719</td><td>29.20830</td></tr>\n",
       "\t<tr><td>NA         </td><td>18.79044</td><td>25.77585</td></tr>\n",
       "</tbody>\n",
       "</table>\n"
      ],
      "text/latex": [
       "A tibble: 5 × 3\n",
       "\\begin{tabular}{lll}\n",
       " pm25.quart & o3 & no2\\\\\n",
       " <fct> & <dbl> & <dbl>\\\\\n",
       "\\hline\n",
       "\t (1.7,9.7{]}   & 21.39645 & 18.64829\\\\\n",
       "\t (9.7,14.7{]}  & 20.66640 & 22.86201\\\\\n",
       "\t (14.7,20.6{]} & 19.93772 & 26.34119\\\\\n",
       "\t (20.6,61.5{]} & 20.34719 & 29.20830\\\\\n",
       "\t NA          & 18.79044 & 25.77585\\\\\n",
       "\\end{tabular}\n"
      ],
      "text/markdown": [
       "\n",
       "A tibble: 5 × 3\n",
       "\n",
       "| pm25.quart &lt;fct&gt; | o3 &lt;dbl&gt; | no2 &lt;dbl&gt; |\n",
       "|---|---|---|\n",
       "| (1.7,9.7]   | 21.39645 | 18.64829 |\n",
       "| (9.7,14.7]  | 20.66640 | 22.86201 |\n",
       "| (14.7,20.6] | 19.93772 | 26.34119 |\n",
       "| (20.6,61.5] | 20.34719 | 29.20830 |\n",
       "| NA          | 18.79044 | 25.77585 |\n",
       "\n"
      ],
      "text/plain": [
       "  pm25.quart  o3       no2     \n",
       "1 (1.7,9.7]   21.39645 18.64829\n",
       "2 (9.7,14.7]  20.66640 22.86201\n",
       "3 (14.7,20.6] 19.93772 26.34119\n",
       "4 (20.6,61.5] 20.34719 29.20830\n",
       "5 NA          18.79044 25.77585"
      ]
     },
     "metadata": {},
     "output_type": "display_data"
    }
   ],
   "source": [
    "# pipline operator %>%, redoing the example above\n",
    "\n",
    "qq <- quantile(chicago$pm25, seq(0,1,0.25), na.rm = TRUE)\n",
    "\n",
    "# the rest we can string together when the result in the first arguement in the following function\n",
    "## mutate it, group it, summarize it\n",
    "mutate(chicago, pm25.quart = cut(pm25, qq)) %>%\n",
    "    group_by(pm25.quart) %>%\n",
    "    summarize(\n",
    "          o3 = mean(o3tmean2, na.rm = TRUE),\n",
    "          no2 = mean(no2tmean2, na.rm = TRUE)\n",
    "          )"
   ]
  },
  {
   "cell_type": "code",
   "execution_count": 46,
   "metadata": {
    "vscode": {
     "languageId": "r"
    }
   },
   "outputs": [
    {
     "data": {
      "text/html": [
       "<table class=\"dataframe\">\n",
       "<caption>A tibble: 12 × 4</caption>\n",
       "<thead>\n",
       "\t<tr><th scope=col>month</th><th scope=col>pm25</th><th scope=col>o3</th><th scope=col>no2</th></tr>\n",
       "\t<tr><th scope=col>&lt;chr&gt;</th><th scope=col>&lt;dbl&gt;</th><th scope=col>&lt;dbl&gt;</th><th scope=col>&lt;dbl&gt;</th></tr>\n",
       "</thead>\n",
       "<tbody>\n",
       "\t<tr><td>12</td><td>17.52221</td><td> 7.438628</td><td>24.76195</td></tr>\n",
       "\t<tr><td>11</td><td>15.15794</td><td> 8.909611</td><td>23.63795</td></tr>\n",
       "\t<tr><td>10</td><td>14.23557</td><td>13.590830</td><td>25.07560</td></tr>\n",
       "\t<tr><td>09</td><td>15.91279</td><td>20.955306</td><td>25.57582</td></tr>\n",
       "\t<tr><td>08</td><td>16.93380</td><td>26.397724</td><td>23.75248</td></tr>\n",
       "\t<tr><td>07</td><td>16.57087</td><td>30.753617</td><td>23.00013</td></tr>\n",
       "\t<tr><td>06</td><td>15.86461</td><td>31.390144</td><td>25.89179</td></tr>\n",
       "\t<tr><td>05</td><td>14.07420</td><td>27.182479</td><td>25.06845</td></tr>\n",
       "\t<tr><td>04</td><td>13.85879</td><td>24.223189</td><td>25.68531</td></tr>\n",
       "\t<tr><td>03</td><td>17.40818</td><td>19.616832</td><td>26.97478</td></tr>\n",
       "\t<tr><td>02</td><td>20.37513</td><td>13.396221</td><td>27.41093</td></tr>\n",
       "\t<tr><td>01</td><td>17.76996</td><td> 9.087950</td><td>26.13537</td></tr>\n",
       "</tbody>\n",
       "</table>\n"
      ],
      "text/latex": [
       "A tibble: 12 × 4\n",
       "\\begin{tabular}{llll}\n",
       " month & pm25 & o3 & no2\\\\\n",
       " <chr> & <dbl> & <dbl> & <dbl>\\\\\n",
       "\\hline\n",
       "\t 12 & 17.52221 &  7.438628 & 24.76195\\\\\n",
       "\t 11 & 15.15794 &  8.909611 & 23.63795\\\\\n",
       "\t 10 & 14.23557 & 13.590830 & 25.07560\\\\\n",
       "\t 09 & 15.91279 & 20.955306 & 25.57582\\\\\n",
       "\t 08 & 16.93380 & 26.397724 & 23.75248\\\\\n",
       "\t 07 & 16.57087 & 30.753617 & 23.00013\\\\\n",
       "\t 06 & 15.86461 & 31.390144 & 25.89179\\\\\n",
       "\t 05 & 14.07420 & 27.182479 & 25.06845\\\\\n",
       "\t 04 & 13.85879 & 24.223189 & 25.68531\\\\\n",
       "\t 03 & 17.40818 & 19.616832 & 26.97478\\\\\n",
       "\t 02 & 20.37513 & 13.396221 & 27.41093\\\\\n",
       "\t 01 & 17.76996 &  9.087950 & 26.13537\\\\\n",
       "\\end{tabular}\n"
      ],
      "text/markdown": [
       "\n",
       "A tibble: 12 × 4\n",
       "\n",
       "| month &lt;chr&gt; | pm25 &lt;dbl&gt; | o3 &lt;dbl&gt; | no2 &lt;dbl&gt; |\n",
       "|---|---|---|---|\n",
       "| 12 | 17.52221 |  7.438628 | 24.76195 |\n",
       "| 11 | 15.15794 |  8.909611 | 23.63795 |\n",
       "| 10 | 14.23557 | 13.590830 | 25.07560 |\n",
       "| 09 | 15.91279 | 20.955306 | 25.57582 |\n",
       "| 08 | 16.93380 | 26.397724 | 23.75248 |\n",
       "| 07 | 16.57087 | 30.753617 | 23.00013 |\n",
       "| 06 | 15.86461 | 31.390144 | 25.89179 |\n",
       "| 05 | 14.07420 | 27.182479 | 25.06845 |\n",
       "| 04 | 13.85879 | 24.223189 | 25.68531 |\n",
       "| 03 | 17.40818 | 19.616832 | 26.97478 |\n",
       "| 02 | 20.37513 | 13.396221 | 27.41093 |\n",
       "| 01 | 17.76996 |  9.087950 | 26.13537 |\n",
       "\n"
      ],
      "text/plain": [
       "   month pm25     o3        no2     \n",
       "1  12    17.52221  7.438628 24.76195\n",
       "2  11    15.15794  8.909611 23.63795\n",
       "3  10    14.23557 13.590830 25.07560\n",
       "4  09    15.91279 20.955306 25.57582\n",
       "5  08    16.93380 26.397724 23.75248\n",
       "6  07    16.57087 30.753617 23.00013\n",
       "7  06    15.86461 31.390144 25.89179\n",
       "8  05    14.07420 27.182479 25.06845\n",
       "9  04    13.85879 24.223189 25.68531\n",
       "10 03    17.40818 19.616832 26.97478\n",
       "11 02    20.37513 13.396221 27.41093\n",
       "12 01    17.76996  9.087950 26.13537"
      ]
     },
     "metadata": {},
     "output_type": "display_data"
    }
   ],
   "source": [
    "# another example\n",
    "mutate(chicago, month = format(date, \"%m\")) %>%\n",
    "    group_by(month) %>%\n",
    "    summarize(\n",
    "          pm25 = mean(pm25, na.rm = TRUE),\n",
    "          o3 = mean(o3tmean2, na.rm = TRUE),\n",
    "          no2 = mean(no2tmean2, na.rm = TRUE)\n",
    "          ) %>%\n",
    "    arrange(desc(month))"
   ]
  }
 ],
 "metadata": {
  "kernelspec": {
   "display_name": "R",
   "language": "R",
   "name": "ir"
  },
  "language_info": {
   "codemirror_mode": "r",
   "file_extension": ".r",
   "mimetype": "text/x-r-source",
   "name": "R",
   "pygments_lexer": "r",
   "version": "4.3.0"
  },
  "orig_nbformat": 4
 },
 "nbformat": 4,
 "nbformat_minor": 2
}
