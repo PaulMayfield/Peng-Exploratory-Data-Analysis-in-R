{
 "cells": [
  {
   "attachments": {},
   "cell_type": "markdown",
   "metadata": {},
   "source": [
    "# Hierarchial Clustering"
   ]
  },
  {
   "cell_type": "code",
   "execution_count": 7,
   "metadata": {
    "vscode": {
     "languageId": "r"
    }
   },
   "outputs": [
    {
     "data": {
      "text/html": [
       "<style>\n",
       ".list-inline {list-style: none; margin:0; padding: 0}\n",
       ".list-inline>li {display: inline-block}\n",
       ".list-inline>li:not(:last-child)::after {content: \"\\00b7\"; padding: 0 .5ex}\n",
       "</style>\n",
       "<ol class=list-inline><li>1</li><li>1</li><li>1</li><li>1</li><li>2</li><li>2</li><li>2</li><li>2</li><li>3</li><li>3</li><li>3</li><li>3</li></ol>\n"
      ],
      "text/latex": [
       "\\begin{enumerate*}\n",
       "\\item 1\n",
       "\\item 1\n",
       "\\item 1\n",
       "\\item 1\n",
       "\\item 2\n",
       "\\item 2\n",
       "\\item 2\n",
       "\\item 2\n",
       "\\item 3\n",
       "\\item 3\n",
       "\\item 3\n",
       "\\item 3\n",
       "\\end{enumerate*}\n"
      ],
      "text/markdown": [
       "1. 1\n",
       "2. 1\n",
       "3. 1\n",
       "4. 1\n",
       "5. 2\n",
       "6. 2\n",
       "7. 2\n",
       "8. 2\n",
       "9. 3\n",
       "10. 3\n",
       "11. 3\n",
       "12. 3\n",
       "\n",
       "\n"
      ],
      "text/plain": [
       " [1] 1 1 1 1 2 2 2 2 3 3 3 3"
      ]
     },
     "metadata": {},
     "output_type": "display_data"
    },
    {
     "data": {
      "text/html": [
       "<style>\n",
       ".list-inline {list-style: none; margin:0; padding: 0}\n",
       ".list-inline>li {display: inline-block}\n",
       ".list-inline>li:not(:last-child)::after {content: \"\\00b7\"; padding: 0 .5ex}\n",
       "</style>\n",
       "<ol class=list-inline><li>1</li><li>1</li><li>1</li><li>1</li><li>2</li><li>2</li><li>2</li><li>2</li><li>1</li><li>1</li><li>1</li><li>1</li></ol>\n"
      ],
      "text/latex": [
       "\\begin{enumerate*}\n",
       "\\item 1\n",
       "\\item 1\n",
       "\\item 1\n",
       "\\item 1\n",
       "\\item 2\n",
       "\\item 2\n",
       "\\item 2\n",
       "\\item 2\n",
       "\\item 1\n",
       "\\item 1\n",
       "\\item 1\n",
       "\\item 1\n",
       "\\end{enumerate*}\n"
      ],
      "text/markdown": [
       "1. 1\n",
       "2. 1\n",
       "3. 1\n",
       "4. 1\n",
       "5. 2\n",
       "6. 2\n",
       "7. 2\n",
       "8. 2\n",
       "9. 1\n",
       "10. 1\n",
       "11. 1\n",
       "12. 1\n",
       "\n",
       "\n"
      ],
      "text/plain": [
       " [1] 1 1 1 1 2 2 2 2 1 1 1 1"
      ]
     },
     "metadata": {},
     "output_type": "display_data"
    },
    {
     "data": {
      "image/png": "[encoded data removed]",
      "text/plain": [
       "plot without title"
      ]
     },
     "metadata": {
      "image/png": {
       "height": 420,
       "width": 420
      }
     },
     "output_type": "display_data"
    }
   ],
   "source": [
    "# We are going to cluster \"close\" points together out of 12 points\n",
    "\n",
    "set.seed(1234)\n",
    "x <- rnorm(12, rep(1:3, each = 4), 0.2)\n",
    "rep(1:3, each = 4) # x means\n",
    "y <- rnorm(12, rep(c(1, 2, 1), each = 4), 0.2)\n",
    "rep(c(1, 2, 1), each = 4) # y means\n",
    "plot(x,y)\n",
    "text(x + 0.05, y + 0.05, labels = as.character(1:12))"
   ]
  },
  {
   "cell_type": "code",
   "execution_count": 12,
   "metadata": {
    "vscode": {
     "languageId": "r"
    }
   },
   "outputs": [
    {
     "data": {
      "text/html": [
       "<table class=\"dataframe\">\n",
       "<caption>A data.frame: 12 × 2</caption>\n",
       "<thead>\n",
       "\t<tr><th scope=col>x</th><th scope=col>y</th></tr>\n",
       "\t<tr><th scope=col>&lt;dbl&gt;</th><th scope=col>&lt;dbl&gt;</th></tr>\n",
       "</thead>\n",
       "<tbody>\n",
       "\t<tr><td>0.7585869</td><td>0.8447492</td></tr>\n",
       "\t<tr><td>1.0554858</td><td>1.0128918</td></tr>\n",
       "\t<tr><td>1.2168882</td><td>1.1918988</td></tr>\n",
       "\t<tr><td>0.5308605</td><td>0.9779429</td></tr>\n",
       "\t<tr><td>2.0858249</td><td>1.8977981</td></tr>\n",
       "\t<tr><td>2.1012112</td><td>1.8177609</td></tr>\n",
       "\t<tr><td>1.8850520</td><td>1.8325657</td></tr>\n",
       "\t<tr><td>1.8906736</td><td>2.4831670</td></tr>\n",
       "\t<tr><td>2.8871096</td><td>1.0268176</td></tr>\n",
       "\t<tr><td>2.8219924</td><td>0.9018628</td></tr>\n",
       "\t<tr><td>2.9045615</td><td>0.9118904</td></tr>\n",
       "\t<tr><td>2.8003227</td><td>1.0919179</td></tr>\n",
       "</tbody>\n",
       "</table>\n"
      ],
      "text/latex": [
       "A data.frame: 12 × 2\n",
       "\\begin{tabular}{ll}\n",
       " x & y\\\\\n",
       " <dbl> & <dbl>\\\\\n",
       "\\hline\n",
       "\t 0.7585869 & 0.8447492\\\\\n",
       "\t 1.0554858 & 1.0128918\\\\\n",
       "\t 1.2168882 & 1.1918988\\\\\n",
       "\t 0.5308605 & 0.9779429\\\\\n",
       "\t 2.0858249 & 1.8977981\\\\\n",
       "\t 2.1012112 & 1.8177609\\\\\n",
       "\t 1.8850520 & 1.8325657\\\\\n",
       "\t 1.8906736 & 2.4831670\\\\\n",
       "\t 2.8871096 & 1.0268176\\\\\n",
       "\t 2.8219924 & 0.9018628\\\\\n",
       "\t 2.9045615 & 0.9118904\\\\\n",
       "\t 2.8003227 & 1.0919179\\\\\n",
       "\\end{tabular}\n"
      ],
      "text/markdown": [
       "\n",
       "A data.frame: 12 × 2\n",
       "\n",
       "| x &lt;dbl&gt; | y &lt;dbl&gt; |\n",
       "|---|---|\n",
       "| 0.7585869 | 0.8447492 |\n",
       "| 1.0554858 | 1.0128918 |\n",
       "| 1.2168882 | 1.1918988 |\n",
       "| 0.5308605 | 0.9779429 |\n",
       "| 2.0858249 | 1.8977981 |\n",
       "| 2.1012112 | 1.8177609 |\n",
       "| 1.8850520 | 1.8325657 |\n",
       "| 1.8906736 | 2.4831670 |\n",
       "| 2.8871096 | 1.0268176 |\n",
       "| 2.8219924 | 0.9018628 |\n",
       "| 2.9045615 | 0.9118904 |\n",
       "| 2.8003227 | 1.0919179 |\n",
       "\n"
      ],
      "text/plain": [
       "   x         y        \n",
       "1  0.7585869 0.8447492\n",
       "2  1.0554858 1.0128918\n",
       "3  1.2168882 1.1918988\n",
       "4  0.5308605 0.9779429\n",
       "5  2.0858249 1.8977981\n",
       "6  2.1012112 1.8177609\n",
       "7  1.8850520 1.8325657\n",
       "8  1.8906736 2.4831670\n",
       "9  2.8871096 1.0268176\n",
       "10 2.8219924 0.9018628\n",
       "11 2.9045615 0.9118904\n",
       "12 2.8003227 1.0919179"
      ]
     },
     "metadata": {},
     "output_type": "display_data"
    },
    {
     "data": {
      "text/plain": [
       "            1          2          3          4          5          6          7\n",
       "2  0.34120511                                                                  \n",
       "3  0.57493739 0.24102750                                                       \n",
       "4  0.26381786 0.52578819 0.71861759                                            \n",
       "5  1.69424700 1.35818182 1.11952883 1.80666768                                 \n",
       "6  1.65812902 1.31960442 1.08338841 1.78081321 0.08150268                      \n",
       "7  1.49823399 1.16620981 0.92568723 1.60131659 0.21110433 0.21666557           \n",
       "8  1.99149025 1.69093111 1.45648906 2.02849490 0.61704200 0.69791931 0.65062566\n",
       "9  2.13629539 1.83167669 1.67835968 2.35675598 1.18349654 1.11500116 1.28582631\n",
       "10 2.06419586 1.76999236 1.63109790 2.29239480 1.23847877 1.16550201 1.32063059\n",
       "11 2.14702468 1.85183204 1.71074417 2.37461984 1.28153948 1.21077373 1.37369662\n",
       "12 2.05664233 1.74662555 1.58658782 2.27232243 1.07700974 1.00777231 1.17740375\n",
       "            8          9         10         11\n",
       "2                                             \n",
       "3                                             \n",
       "4                                             \n",
       "5                                             \n",
       "6                                             \n",
       "7                                             \n",
       "8                                             \n",
       "9  1.76460709                                 \n",
       "10 1.83517785 0.14090406                      \n",
       "11 1.86999431 0.11624471 0.08317570           \n",
       "12 1.66223814 0.10848966 0.19128645 0.20802789"
      ]
     },
     "metadata": {},
     "output_type": "display_data"
    },
    {
     "data": {
      "text/html": [
       "<table class=\"dataframe\">\n",
       "<caption>A matrix: 12 × 12 of type dbl</caption>\n",
       "<thead>\n",
       "\t<tr><th></th><th scope=col>1</th><th scope=col>2</th><th scope=col>3</th><th scope=col>4</th><th scope=col>5</th><th scope=col>6</th><th scope=col>7</th><th scope=col>8</th><th scope=col>9</th><th scope=col>10</th><th scope=col>11</th><th scope=col>12</th></tr>\n",
       "</thead>\n",
       "<tbody>\n",
       "\t<tr><th scope=row>1</th><td>0.0000000</td><td>0.3412051</td><td>0.5749374</td><td>0.2638179</td><td>1.69424700</td><td>1.65812902</td><td>1.4982340</td><td>1.9914902</td><td>2.1362954</td><td>2.0641959</td><td>2.1470247</td><td>2.0566423</td></tr>\n",
       "\t<tr><th scope=row>2</th><td>0.3412051</td><td>0.0000000</td><td>0.2410275</td><td>0.5257882</td><td>1.35818182</td><td>1.31960442</td><td>1.1662098</td><td>1.6909311</td><td>1.8316767</td><td>1.7699924</td><td>1.8518320</td><td>1.7466255</td></tr>\n",
       "\t<tr><th scope=row>3</th><td>0.5749374</td><td>0.2410275</td><td>0.0000000</td><td>0.7186176</td><td>1.11952883</td><td>1.08338841</td><td>0.9256872</td><td>1.4564891</td><td>1.6783597</td><td>1.6310979</td><td>1.7107442</td><td>1.5865878</td></tr>\n",
       "\t<tr><th scope=row>4</th><td>0.2638179</td><td>0.5257882</td><td>0.7186176</td><td>0.0000000</td><td>1.80666768</td><td>1.78081321</td><td>1.6013166</td><td>2.0284949</td><td>2.3567560</td><td>2.2923948</td><td>2.3746198</td><td>2.2723224</td></tr>\n",
       "\t<tr><th scope=row>5</th><td>1.6942470</td><td>1.3581818</td><td>1.1195288</td><td>1.8066677</td><td>0.00000000</td><td>0.08150268</td><td>0.2111043</td><td>0.6170420</td><td>1.1834965</td><td>1.2384788</td><td>1.2815395</td><td>1.0770097</td></tr>\n",
       "\t<tr><th scope=row>6</th><td>1.6581290</td><td>1.3196044</td><td>1.0833884</td><td>1.7808132</td><td>0.08150268</td><td>0.00000000</td><td>0.2166656</td><td>0.6979193</td><td>1.1150012</td><td>1.1655020</td><td>1.2107737</td><td>1.0077723</td></tr>\n",
       "\t<tr><th scope=row>7</th><td>1.4982340</td><td>1.1662098</td><td>0.9256872</td><td>1.6013166</td><td>0.21110433</td><td>0.21666557</td><td>0.0000000</td><td>0.6506257</td><td>1.2858263</td><td>1.3206306</td><td>1.3736966</td><td>1.1774037</td></tr>\n",
       "\t<tr><th scope=row>8</th><td>1.9914902</td><td>1.6909311</td><td>1.4564891</td><td>2.0284949</td><td>0.61704200</td><td>0.69791931</td><td>0.6506257</td><td>0.0000000</td><td>1.7646071</td><td>1.8351778</td><td>1.8699943</td><td>1.6622381</td></tr>\n",
       "\t<tr><th scope=row>9</th><td>2.1362954</td><td>1.8316767</td><td>1.6783597</td><td>2.3567560</td><td>1.18349654</td><td>1.11500116</td><td>1.2858263</td><td>1.7646071</td><td>0.0000000</td><td>0.1409041</td><td>0.1162447</td><td>0.1084897</td></tr>\n",
       "\t<tr><th scope=row>10</th><td>2.0641959</td><td>1.7699924</td><td>1.6310979</td><td>2.2923948</td><td>1.23847877</td><td>1.16550201</td><td>1.3206306</td><td>1.8351778</td><td>0.1409041</td><td>0.0000000</td><td>0.0831757</td><td>0.1912864</td></tr>\n",
       "\t<tr><th scope=row>11</th><td>2.1470247</td><td>1.8518320</td><td>1.7107442</td><td>2.3746198</td><td>1.28153948</td><td>1.21077373</td><td>1.3736966</td><td>1.8699943</td><td>0.1162447</td><td>0.0831757</td><td>0.0000000</td><td>0.2080279</td></tr>\n",
       "\t<tr><th scope=row>12</th><td>2.0566423</td><td>1.7466255</td><td>1.5865878</td><td>2.2723224</td><td>1.07700974</td><td>1.00777231</td><td>1.1774037</td><td>1.6622381</td><td>0.1084897</td><td>0.1912864</td><td>0.2080279</td><td>0.0000000</td></tr>\n",
       "</tbody>\n",
       "</table>\n"
      ],
      "text/latex": [
       "A matrix: 12 × 12 of type dbl\n",
       "\\begin{tabular}{r|llllllllllll}\n",
       "  & 1 & 2 & 3 & 4 & 5 & 6 & 7 & 8 & 9 & 10 & 11 & 12\\\\\n",
       "\\hline\n",
       "\t1 & 0.0000000 & 0.3412051 & 0.5749374 & 0.2638179 & 1.69424700 & 1.65812902 & 1.4982340 & 1.9914902 & 2.1362954 & 2.0641959 & 2.1470247 & 2.0566423\\\\\n",
       "\t2 & 0.3412051 & 0.0000000 & 0.2410275 & 0.5257882 & 1.35818182 & 1.31960442 & 1.1662098 & 1.6909311 & 1.8316767 & 1.7699924 & 1.8518320 & 1.7466255\\\\\n",
       "\t3 & 0.5749374 & 0.2410275 & 0.0000000 & 0.7186176 & 1.11952883 & 1.08338841 & 0.9256872 & 1.4564891 & 1.6783597 & 1.6310979 & 1.7107442 & 1.5865878\\\\\n",
       "\t4 & 0.2638179 & 0.5257882 & 0.7186176 & 0.0000000 & 1.80666768 & 1.78081321 & 1.6013166 & 2.0284949 & 2.3567560 & 2.2923948 & 2.3746198 & 2.2723224\\\\\n",
       "\t5 & 1.6942470 & 1.3581818 & 1.1195288 & 1.8066677 & 0.00000000 & 0.08150268 & 0.2111043 & 0.6170420 & 1.1834965 & 1.2384788 & 1.2815395 & 1.0770097\\\\\n",
       "\t6 & 1.6581290 & 1.3196044 & 1.0833884 & 1.7808132 & 0.08150268 & 0.00000000 & 0.2166656 & 0.6979193 & 1.1150012 & 1.1655020 & 1.2107737 & 1.0077723\\\\\n",
       "\t7 & 1.4982340 & 1.1662098 & 0.9256872 & 1.6013166 & 0.21110433 & 0.21666557 & 0.0000000 & 0.6506257 & 1.2858263 & 1.3206306 & 1.3736966 & 1.1774037\\\\\n",
       "\t8 & 1.9914902 & 1.6909311 & 1.4564891 & 2.0284949 & 0.61704200 & 0.69791931 & 0.6506257 & 0.0000000 & 1.7646071 & 1.8351778 & 1.8699943 & 1.6622381\\\\\n",
       "\t9 & 2.1362954 & 1.8316767 & 1.6783597 & 2.3567560 & 1.18349654 & 1.11500116 & 1.2858263 & 1.7646071 & 0.0000000 & 0.1409041 & 0.1162447 & 0.1084897\\\\\n",
       "\t10 & 2.0641959 & 1.7699924 & 1.6310979 & 2.2923948 & 1.23847877 & 1.16550201 & 1.3206306 & 1.8351778 & 0.1409041 & 0.0000000 & 0.0831757 & 0.1912864\\\\\n",
       "\t11 & 2.1470247 & 1.8518320 & 1.7107442 & 2.3746198 & 1.28153948 & 1.21077373 & 1.3736966 & 1.8699943 & 0.1162447 & 0.0831757 & 0.0000000 & 0.2080279\\\\\n",
       "\t12 & 2.0566423 & 1.7466255 & 1.5865878 & 2.2723224 & 1.07700974 & 1.00777231 & 1.1774037 & 1.6622381 & 0.1084897 & 0.1912864 & 0.2080279 & 0.0000000\\\\\n",
       "\\end{tabular}\n"
      ],
      "text/markdown": [
       "\n",
       "A matrix: 12 × 12 of type dbl\n",
       "\n",
       "| <!--/--> | 1 | 2 | 3 | 4 | 5 | 6 | 7 | 8 | 9 | 10 | 11 | 12 |\n",
       "|---|---|---|---|---|---|---|---|---|---|---|---|---|\n",
       "| 1 | 0.0000000 | 0.3412051 | 0.5749374 | 0.2638179 | 1.69424700 | 1.65812902 | 1.4982340 | 1.9914902 | 2.1362954 | 2.0641959 | 2.1470247 | 2.0566423 |\n",
       "| 2 | 0.3412051 | 0.0000000 | 0.2410275 | 0.5257882 | 1.35818182 | 1.31960442 | 1.1662098 | 1.6909311 | 1.8316767 | 1.7699924 | 1.8518320 | 1.7466255 |\n",
       "| 3 | 0.5749374 | 0.2410275 | 0.0000000 | 0.7186176 | 1.11952883 | 1.08338841 | 0.9256872 | 1.4564891 | 1.6783597 | 1.6310979 | 1.7107442 | 1.5865878 |\n",
       "| 4 | 0.2638179 | 0.5257882 | 0.7186176 | 0.0000000 | 1.80666768 | 1.78081321 | 1.6013166 | 2.0284949 | 2.3567560 | 2.2923948 | 2.3746198 | 2.2723224 |\n",
       "| 5 | 1.6942470 | 1.3581818 | 1.1195288 | 1.8066677 | 0.00000000 | 0.08150268 | 0.2111043 | 0.6170420 | 1.1834965 | 1.2384788 | 1.2815395 | 1.0770097 |\n",
       "| 6 | 1.6581290 | 1.3196044 | 1.0833884 | 1.7808132 | 0.08150268 | 0.00000000 | 0.2166656 | 0.6979193 | 1.1150012 | 1.1655020 | 1.2107737 | 1.0077723 |\n",
       "| 7 | 1.4982340 | 1.1662098 | 0.9256872 | 1.6013166 | 0.21110433 | 0.21666557 | 0.0000000 | 0.6506257 | 1.2858263 | 1.3206306 | 1.3736966 | 1.1774037 |\n",
       "| 8 | 1.9914902 | 1.6909311 | 1.4564891 | 2.0284949 | 0.61704200 | 0.69791931 | 0.6506257 | 0.0000000 | 1.7646071 | 1.8351778 | 1.8699943 | 1.6622381 |\n",
       "| 9 | 2.1362954 | 1.8316767 | 1.6783597 | 2.3567560 | 1.18349654 | 1.11500116 | 1.2858263 | 1.7646071 | 0.0000000 | 0.1409041 | 0.1162447 | 0.1084897 |\n",
       "| 10 | 2.0641959 | 1.7699924 | 1.6310979 | 2.2923948 | 1.23847877 | 1.16550201 | 1.3206306 | 1.8351778 | 0.1409041 | 0.0000000 | 0.0831757 | 0.1912864 |\n",
       "| 11 | 2.1470247 | 1.8518320 | 1.7107442 | 2.3746198 | 1.28153948 | 1.21077373 | 1.3736966 | 1.8699943 | 0.1162447 | 0.0831757 | 0.0000000 | 0.2080279 |\n",
       "| 12 | 2.0566423 | 1.7466255 | 1.5865878 | 2.2723224 | 1.07700974 | 1.00777231 | 1.1774037 | 1.6622381 | 0.1084897 | 0.1912864 | 0.2080279 | 0.0000000 |\n",
       "\n"
      ],
      "text/plain": [
       "   1         2         3         4         5          6          7        \n",
       "1  0.0000000 0.3412051 0.5749374 0.2638179 1.69424700 1.65812902 1.4982340\n",
       "2  0.3412051 0.0000000 0.2410275 0.5257882 1.35818182 1.31960442 1.1662098\n",
       "3  0.5749374 0.2410275 0.0000000 0.7186176 1.11952883 1.08338841 0.9256872\n",
       "4  0.2638179 0.5257882 0.7186176 0.0000000 1.80666768 1.78081321 1.6013166\n",
       "5  1.6942470 1.3581818 1.1195288 1.8066677 0.00000000 0.08150268 0.2111043\n",
       "6  1.6581290 1.3196044 1.0833884 1.7808132 0.08150268 0.00000000 0.2166656\n",
       "7  1.4982340 1.1662098 0.9256872 1.6013166 0.21110433 0.21666557 0.0000000\n",
       "8  1.9914902 1.6909311 1.4564891 2.0284949 0.61704200 0.69791931 0.6506257\n",
       "9  2.1362954 1.8316767 1.6783597 2.3567560 1.18349654 1.11500116 1.2858263\n",
       "10 2.0641959 1.7699924 1.6310979 2.2923948 1.23847877 1.16550201 1.3206306\n",
       "11 2.1470247 1.8518320 1.7107442 2.3746198 1.28153948 1.21077373 1.3736966\n",
       "12 2.0566423 1.7466255 1.5865878 2.2723224 1.07700974 1.00777231 1.1774037\n",
       "   8         9         10        11        12       \n",
       "1  1.9914902 2.1362954 2.0641959 2.1470247 2.0566423\n",
       "2  1.6909311 1.8316767 1.7699924 1.8518320 1.7466255\n",
       "3  1.4564891 1.6783597 1.6310979 1.7107442 1.5865878\n",
       "4  2.0284949 2.3567560 2.2923948 2.3746198 2.2723224\n",
       "5  0.6170420 1.1834965 1.2384788 1.2815395 1.0770097\n",
       "6  0.6979193 1.1150012 1.1655020 1.2107737 1.0077723\n",
       "7  0.6506257 1.2858263 1.3206306 1.3736966 1.1774037\n",
       "8  0.0000000 1.7646071 1.8351778 1.8699943 1.6622381\n",
       "9  1.7646071 0.0000000 0.1409041 0.1162447 0.1084897\n",
       "10 1.8351778 0.1409041 0.0000000 0.0831757 0.1912864\n",
       "11 1.8699943 0.1162447 0.0831757 0.0000000 0.2080279\n",
       "12 1.6622381 0.1084897 0.1912864 0.2080279 0.0000000"
      ]
     },
     "metadata": {},
     "output_type": "display_data"
    }
   ],
   "source": [
    "# see the distance between each pair of points\n",
    "\n",
    "df <- data.frame(x, y)\n",
    "df\n",
    "dist(df)\n",
    "as.matrix(dist(df))"
   ]
  },
  {
   "cell_type": "code",
   "execution_count": 15,
   "metadata": {
    "vscode": {
     "languageId": "r"
    }
   },
   "outputs": [
    {
     "data": {
      "text/html": [
       "<table class=\"dataframe\">\n",
       "<caption>A matrix: 2 × 2 of type int</caption>\n",
       "<thead>\n",
       "\t<tr><th></th><th scope=col>row</th><th scope=col>col</th></tr>\n",
       "</thead>\n",
       "<tbody>\n",
       "\t<tr><th scope=row>6</th><td>6</td><td>5</td></tr>\n",
       "\t<tr><th scope=row>5</th><td>5</td><td>6</td></tr>\n",
       "</tbody>\n",
       "</table>\n"
      ],
      "text/latex": [
       "A matrix: 2 × 2 of type int\n",
       "\\begin{tabular}{r|ll}\n",
       "  & row & col\\\\\n",
       "\\hline\n",
       "\t6 & 6 & 5\\\\\n",
       "\t5 & 5 & 6\\\\\n",
       "\\end{tabular}\n"
      ],
      "text/markdown": [
       "\n",
       "A matrix: 2 × 2 of type int\n",
       "\n",
       "| <!--/--> | row | col |\n",
       "|---|---|---|\n",
       "| 6 | 6 | 5 |\n",
       "| 5 | 5 | 6 |\n",
       "\n"
      ],
      "text/plain": [
       "  row col\n",
       "6 6   5  \n",
       "5 5   6  "
      ]
     },
     "metadata": {},
     "output_type": "display_data"
    }
   ],
   "source": [
    "# convert to a matrix but make the diagonal values big to remove the zeros\n",
    "rdistmatrix <- as.matrix(dist(df))\n",
    "diag(rdistmatrix) <- diag(rdistmatrix)+1000 # make it somethign big instead of zero\n",
    "\n",
    "# find index of the points with the minimul distance\n",
    "ind <- which(rdistmatrix == min(rdistmatrix), arr.ind = TRUE)\n",
    "ind\n",
    "\n",
    "# plot again, color these two points\n",
    "plot(x)"
   ]
  },
  {
   "cell_type": "code",
   "execution_count": 19,
   "metadata": {
    "vscode": {
     "languageId": "r"
    }
   },
   "outputs": [
    {
     "data": {
      "image/png": "[encoded data removed]",
      "text/plain": [
       "plot without title"
      ]
     },
     "metadata": {
      "image/png": {
       "height": 420,
       "width": 420
      }
     },
     "output_type": "display_data"
    }
   ],
   "source": [
    "plot(x,y)\n",
    "text(x + 0.05, y + 0.05, labels = as.character(1:12))\n",
    "points(x[ind[1, ]], y[ind[1, ]], pch=19, col = 'red')"
   ]
  },
  {
   "cell_type": "code",
   "execution_count": 25,
   "metadata": {
    "vscode": {
     "languageId": "r"
    }
   },
   "outputs": [
    {
     "data": {
      "text/plain": [
       "$merge\n",
       "      [,1] [,2]\n",
       " [1,]   -5   -6\n",
       " [2,]  -10  -11\n",
       " [3,]   -9  -12\n",
       " [4,]    2    3\n",
       " [5,]   -7    1\n",
       " [6,]   -2   -3\n",
       " [7,]   -1   -4\n",
       " [8,]   -8    5\n",
       " [9,]    6    7\n",
       "[10,]    4    8\n",
       "[11,]    9   10\n",
       "\n",
       "$height\n",
       " [1] 0.08150268 0.08317570 0.10848966 0.20802789 0.21666557 0.24102750\n",
       " [7] 0.26381786 0.69791931 0.71861759 1.86999431 2.37461984\n",
       "\n",
       "$order\n",
       " [1]  2  3  1  4 10 11  9 12  8  7  5  6\n",
       "\n",
       "$labels\n",
       "NULL\n",
       "\n",
       "$method\n",
       "[1] \"complete\"\n",
       "\n",
       "$call\n",
       "hclust(d = dist(df))\n"
      ]
     },
     "metadata": {},
     "output_type": "display_data"
    },
    {
     "data": {
      "image/png": "[encoded data removed]",
      "text/plain": [
       "Plot with title \"Cluster Dendrogram\""
      ]
     },
     "metadata": {
      "image/png": {
       "height": 420,
       "width": 420
      }
     },
     "output_type": "display_data"
    }
   ],
   "source": [
    "# dendogram\n",
    "hClustering <- hclust(dist(df))\n",
    "plot(hClustering)"
   ]
  },
  {
   "cell_type": "code",
   "execution_count": 28,
   "metadata": {
    "vscode": {
     "languageId": "r"
    }
   },
   "outputs": [
    {
     "data": {
      "image/png": "[encoded data removed]",
      "text/plain": [
       "plot without title"
      ]
     },
     "metadata": {
      "image/png": {
       "height": 420,
       "width": 420
      }
     },
     "output_type": "display_data"
    }
   ],
   "source": [
    "dmatrix <- data.matrix(df)\n",
    "heatmap(dmatrix)"
   ]
  }
 ],
 "metadata": {
  "kernelspec": {
   "display_name": "R",
   "language": "R",
   "name": "ir"
  },
  "language_info": {
   "codemirror_mode": "r",
   "file_extension": ".r",
   "mimetype": "text/x-r-source",
   "name": "R",
   "pygments_lexer": "r",
   "version": "4.3.0"
  },
  "orig_nbformat": 4
 },
 "nbformat": 4,
 "nbformat_minor": 2
}
