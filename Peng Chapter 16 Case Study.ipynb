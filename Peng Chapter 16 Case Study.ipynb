{
 "cells": [
  {
   "attachments": {},
   "cell_type": "markdown",
   "metadata": {},
   "source": [
    "# Case Study: Changes in Fine Particle Air Pollution in the U.S."
   ]
  },
  {
   "cell_type": "code",
   "execution_count": 1,
   "metadata": {
    "vscode": {
     "languageId": "r"
    }
   },
   "outputs": [
    {
     "name": "stderr",
     "output_type": "stream",
     "text": [
      "\u001b[1mRows: \u001b[22m\u001b[34m117421\u001b[39m \u001b[1mColumns: \u001b[22m\u001b[34m28\u001b[39m\n",
      "\u001b[36m──\u001b[39m \u001b[1mColumn specification\u001b[22m \u001b[36m────────────────────────────────────────────────────────\u001b[39m\n",
      "\u001b[1mDelimiter:\u001b[22m \"|\"\n",
      "\u001b[31mchr\u001b[39m   (7): X1, X2, X3, X4, X5, X14, X17\n",
      "\u001b[32mdbl\u001b[39m   (8): X6, X7, X8, X9, X10, X11, X13, X15\n",
      "\u001b[33mlgl\u001b[39m  (12): X16, X18, X19, X20, X21, X22, X23, X24, X25, X26, X27, X28\n",
      "\u001b[34mtime\u001b[39m  (1): X12\n",
      "\n",
      "\u001b[36mℹ\u001b[39m Use `spec()` to retrieve the full column specification for this data.\n",
      "\u001b[36mℹ\u001b[39m Specify the column types or set `show_col_types = FALSE` to quiet this message.\n"
     ]
    }
   ],
   "source": [
    "# data obtained from\n",
    "# https://www3.epa.gov/ttnairs1/airsaqsORIG/detaildata/downloadaqsdata.htm\n",
    "\n",
    "library(readr)\n",
    "pm0 <- read_delim(\"RD_501_88101_1999-0.txt\",\n",
    "    delim = \"|\", comment = \"#\", col_names = FALSE, na = \"\")\n",
    "\n",
    "cnames <- readLines(\"RD_501_88101_1999-0.txt\", 1)\n",
    "cnames <-strsplit(cnames, \"|\", fixed = TRUE)\n",
    "names(pm0) <-make.names(cnames[[1]])"
   ]
  },
  {
   "cell_type": "code",
   "execution_count": 2,
   "metadata": {
    "vscode": {
     "languageId": "r"
    }
   },
   "outputs": [
    {
     "data": {
      "text/html": [
       "<style>\n",
       ".list-inline {list-style: none; margin:0; padding: 0}\n",
       ".list-inline>li {display: inline-block}\n",
       ".list-inline>li:not(:last-child)::after {content: \"\\00b7\"; padding: 0 .5ex}\n",
       "</style>\n",
       "<ol class=list-inline><li>117421</li><li>28</li></ol>\n"
      ],
      "text/latex": [
       "\\begin{enumerate*}\n",
       "\\item 117421\n",
       "\\item 28\n",
       "\\end{enumerate*}\n"
      ],
      "text/markdown": [
       "1. 117421\n",
       "2. 28\n",
       "\n",
       "\n"
      ],
      "text/plain": [
       "[1] 117421     28"
      ]
     },
     "metadata": {},
     "output_type": "display_data"
    },
    {
     "data": {
      "text/html": [
       "<table class=\"dataframe\">\n",
       "<caption>A tibble: 6 × 13</caption>\n",
       "<thead>\n",
       "\t<tr><th scope=col>X..RD</th><th scope=col>Action.Code</th><th scope=col>State.Code</th><th scope=col>County.Code</th><th scope=col>Site.ID</th><th scope=col>Parameter</th><th scope=col>POC</th><th scope=col>Sample.Duration</th><th scope=col>Unit</th><th scope=col>Method</th><th scope=col>Date</th><th scope=col>Start.Time</th><th scope=col>Sample.Value</th></tr>\n",
       "\t<tr><th scope=col>&lt;chr&gt;</th><th scope=col>&lt;chr&gt;</th><th scope=col>&lt;chr&gt;</th><th scope=col>&lt;chr&gt;</th><th scope=col>&lt;chr&gt;</th><th scope=col>&lt;dbl&gt;</th><th scope=col>&lt;dbl&gt;</th><th scope=col>&lt;dbl&gt;</th><th scope=col>&lt;dbl&gt;</th><th scope=col>&lt;dbl&gt;</th><th scope=col>&lt;dbl&gt;</th><th scope=col>&lt;time&gt;</th><th scope=col>&lt;dbl&gt;</th></tr>\n",
       "</thead>\n",
       "<tbody>\n",
       "\t<tr><td>RD</td><td>I</td><td>01</td><td>027</td><td>0001</td><td>88101</td><td>1</td><td>7</td><td>105</td><td>120</td><td>19990103</td><td>00:00:00</td><td>    NA</td></tr>\n",
       "\t<tr><td>RD</td><td>I</td><td>01</td><td>027</td><td>0001</td><td>88101</td><td>1</td><td>7</td><td>105</td><td>120</td><td>19990106</td><td>00:00:00</td><td>    NA</td></tr>\n",
       "\t<tr><td>RD</td><td>I</td><td>01</td><td>027</td><td>0001</td><td>88101</td><td>1</td><td>7</td><td>105</td><td>120</td><td>19990109</td><td>00:00:00</td><td>    NA</td></tr>\n",
       "\t<tr><td>RD</td><td>I</td><td>01</td><td>027</td><td>0001</td><td>88101</td><td>1</td><td>7</td><td>105</td><td>120</td><td>19990112</td><td>00:00:00</td><td> 8.841</td></tr>\n",
       "\t<tr><td>RD</td><td>I</td><td>01</td><td>027</td><td>0001</td><td>88101</td><td>1</td><td>7</td><td>105</td><td>120</td><td>19990115</td><td>00:00:00</td><td>14.920</td></tr>\n",
       "\t<tr><td>RD</td><td>I</td><td>01</td><td>027</td><td>0001</td><td>88101</td><td>1</td><td>7</td><td>105</td><td>120</td><td>19990118</td><td>00:00:00</td><td> 3.878</td></tr>\n",
       "</tbody>\n",
       "</table>\n"
      ],
      "text/latex": [
       "A tibble: 6 × 13\n",
       "\\begin{tabular}{lllllllllllll}\n",
       " X..RD & Action.Code & State.Code & County.Code & Site.ID & Parameter & POC & Sample.Duration & Unit & Method & Date & Start.Time & Sample.Value\\\\\n",
       " <chr> & <chr> & <chr> & <chr> & <chr> & <dbl> & <dbl> & <dbl> & <dbl> & <dbl> & <dbl> & <time> & <dbl>\\\\\n",
       "\\hline\n",
       "\t RD & I & 01 & 027 & 0001 & 88101 & 1 & 7 & 105 & 120 & 19990103 & 00:00:00 &     NA\\\\\n",
       "\t RD & I & 01 & 027 & 0001 & 88101 & 1 & 7 & 105 & 120 & 19990106 & 00:00:00 &     NA\\\\\n",
       "\t RD & I & 01 & 027 & 0001 & 88101 & 1 & 7 & 105 & 120 & 19990109 & 00:00:00 &     NA\\\\\n",
       "\t RD & I & 01 & 027 & 0001 & 88101 & 1 & 7 & 105 & 120 & 19990112 & 00:00:00 &  8.841\\\\\n",
       "\t RD & I & 01 & 027 & 0001 & 88101 & 1 & 7 & 105 & 120 & 19990115 & 00:00:00 & 14.920\\\\\n",
       "\t RD & I & 01 & 027 & 0001 & 88101 & 1 & 7 & 105 & 120 & 19990118 & 00:00:00 &  3.878\\\\\n",
       "\\end{tabular}\n"
      ],
      "text/markdown": [
       "\n",
       "A tibble: 6 × 13\n",
       "\n",
       "| X..RD &lt;chr&gt; | Action.Code &lt;chr&gt; | State.Code &lt;chr&gt; | County.Code &lt;chr&gt; | Site.ID &lt;chr&gt; | Parameter &lt;dbl&gt; | POC &lt;dbl&gt; | Sample.Duration &lt;dbl&gt; | Unit &lt;dbl&gt; | Method &lt;dbl&gt; | Date &lt;dbl&gt; | Start.Time &lt;time&gt; | Sample.Value &lt;dbl&gt; |\n",
       "|---|---|---|---|---|---|---|---|---|---|---|---|---|\n",
       "| RD | I | 01 | 027 | 0001 | 88101 | 1 | 7 | 105 | 120 | 19990103 | 00:00:00 |     NA |\n",
       "| RD | I | 01 | 027 | 0001 | 88101 | 1 | 7 | 105 | 120 | 19990106 | 00:00:00 |     NA |\n",
       "| RD | I | 01 | 027 | 0001 | 88101 | 1 | 7 | 105 | 120 | 19990109 | 00:00:00 |     NA |\n",
       "| RD | I | 01 | 027 | 0001 | 88101 | 1 | 7 | 105 | 120 | 19990112 | 00:00:00 |  8.841 |\n",
       "| RD | I | 01 | 027 | 0001 | 88101 | 1 | 7 | 105 | 120 | 19990115 | 00:00:00 | 14.920 |\n",
       "| RD | I | 01 | 027 | 0001 | 88101 | 1 | 7 | 105 | 120 | 19990118 | 00:00:00 |  3.878 |\n",
       "\n"
      ],
      "text/plain": [
       "  X..RD Action.Code State.Code County.Code Site.ID Parameter POC\n",
       "1 RD    I           01         027         0001    88101     1  \n",
       "2 RD    I           01         027         0001    88101     1  \n",
       "3 RD    I           01         027         0001    88101     1  \n",
       "4 RD    I           01         027         0001    88101     1  \n",
       "5 RD    I           01         027         0001    88101     1  \n",
       "6 RD    I           01         027         0001    88101     1  \n",
       "  Sample.Duration Unit Method Date     Start.Time Sample.Value\n",
       "1 7               105  120    19990103 00:00:00       NA      \n",
       "2 7               105  120    19990106 00:00:00       NA      \n",
       "3 7               105  120    19990109 00:00:00       NA      \n",
       "4 7               105  120    19990112 00:00:00    8.841      \n",
       "5 7               105  120    19990115 00:00:00   14.920      \n",
       "6 7               105  120    19990118 00:00:00    3.878      "
      ]
     },
     "metadata": {},
     "output_type": "display_data"
    },
    {
     "data": {
      "text/plain": [
       "\n",
       "    RD \n",
       "117421 "
      ]
     },
     "metadata": {},
     "output_type": "display_data"
    }
   ],
   "source": [
    "dim(pm0)\n",
    "head(pm0[,1:13])\n",
    "\n",
    "# make sure we don't need to notice that the file was overloaded\n",
    "# with \"RC\" records that had different fields\n",
    "table(pm0$X..RD)"
   ]
  },
  {
   "cell_type": "code",
   "execution_count": 3,
   "metadata": {
    "vscode": {
     "languageId": "r"
    }
   },
   "outputs": [
    {
     "data": {
      "text/plain": [
       "   Min. 1st Qu.  Median    Mean 3rd Qu.    Max.    NA's \n",
       "   0.00    7.20   11.50   13.74   17.90  157.10   13217 "
      ]
     },
     "metadata": {},
     "output_type": "display_data"
    },
    {
     "data": {
      "text/html": [
       "0.112560785549433"
      ],
      "text/latex": [
       "0.112560785549433"
      ],
      "text/markdown": [
       "0.112560785549433"
      ],
      "text/plain": [
       "[1] 0.1125608"
      ]
     },
     "metadata": {},
     "output_type": "display_data"
    }
   ],
   "source": [
    "# check target variable\n",
    "\n",
    "x0 <- pm0$Sample.Value\n",
    "summary(x0)\n",
    "\n",
    "# 11% of values are missing\n",
    "sum(is.na(x0)) / nrow(pm0)\n"
   ]
  },
  {
   "cell_type": "code",
   "execution_count": 4,
   "metadata": {
    "vscode": {
     "languageId": "r"
    }
   },
   "outputs": [
    {
     "name": "stderr",
     "output_type": "stream",
     "text": [
      "Warning message:\n",
      "\"\u001b[1m\u001b[22mOne or more parsing issues, call `problems()` on your data frame for details,\n",
      "e.g.:\n",
      "  dat <- vroom(...)\n",
      "  problems(dat)\"\n",
      "\u001b[1mRows: \u001b[22m\u001b[34m1304287\u001b[39m \u001b[1mColumns: \u001b[22m\u001b[34m28\u001b[39m\n",
      "\u001b[36m──\u001b[39m \u001b[1mColumn specification\u001b[22m \u001b[36m────────────────────────────────────────────────────────\u001b[39m\n",
      "\u001b[1mDelimiter:\u001b[22m \"|\"\n",
      "\u001b[31mchr\u001b[39m   (8): X1, X2, X3, X4, X5, X14, X17, X18\n",
      "\u001b[32mdbl\u001b[39m   (9): X6, X7, X8, X9, X10, X11, X13, X15, X27\n",
      "\u001b[33mlgl\u001b[39m  (10): X16, X19, X20, X21, X22, X23, X24, X25, X26, X28\n",
      "\u001b[34mtime\u001b[39m  (1): X12\n",
      "\n",
      "\u001b[36mℹ\u001b[39m Use `spec()` to retrieve the full column specification for this data.\n",
      "\u001b[36mℹ\u001b[39m Specify the column types or set `show_col_types = FALSE` to quiet this message.\n"
     ]
    }
   ],
   "source": [
    "# 2012 data set we will compare\n",
    "\n",
    "pm1 <- read_delim(\"RD_501_88101_2012-0.txt\",\n",
    "    delim = \"|\", comment = \"#\", col_names = FALSE, na = \"\")\n",
    "\n",
    "cnames <- readLines(\"RD_501_88101_2012-0.txt\", 1)\n",
    "cnames <-strsplit(cnames, \"|\", fixed = TRUE)\n",
    "names(pm1) <-make.names(cnames[[1]])"
   ]
  },
  {
   "cell_type": "code",
   "execution_count": 5,
   "metadata": {
    "vscode": {
     "languageId": "r"
    }
   },
   "outputs": [
    {
     "data": {
      "text/html": [
       "<style>\n",
       ".list-inline {list-style: none; margin:0; padding: 0}\n",
       ".list-inline>li {display: inline-block}\n",
       ".list-inline>li:not(:last-child)::after {content: \"\\00b7\"; padding: 0 .5ex}\n",
       "</style>\n",
       "<ol class=list-inline><li>1304287</li><li>28</li></ol>\n"
      ],
      "text/latex": [
       "\\begin{enumerate*}\n",
       "\\item 1304287\n",
       "\\item 28\n",
       "\\end{enumerate*}\n"
      ],
      "text/markdown": [
       "1. 1304287\n",
       "2. 28\n",
       "\n",
       "\n"
      ],
      "text/plain": [
       "[1] 1304287      28"
      ]
     },
     "metadata": {},
     "output_type": "display_data"
    },
    {
     "data": {
      "text/html": [
       "<table class=\"dataframe\">\n",
       "<caption>A tibble: 6 × 13</caption>\n",
       "<thead>\n",
       "\t<tr><th scope=col>X..RD</th><th scope=col>Action.Code</th><th scope=col>State.Code</th><th scope=col>County.Code</th><th scope=col>Site.ID</th><th scope=col>Parameter</th><th scope=col>POC</th><th scope=col>Sample.Duration</th><th scope=col>Unit</th><th scope=col>Method</th><th scope=col>Date</th><th scope=col>Start.Time</th><th scope=col>Sample.Value</th></tr>\n",
       "\t<tr><th scope=col>&lt;chr&gt;</th><th scope=col>&lt;chr&gt;</th><th scope=col>&lt;chr&gt;</th><th scope=col>&lt;chr&gt;</th><th scope=col>&lt;chr&gt;</th><th scope=col>&lt;dbl&gt;</th><th scope=col>&lt;dbl&gt;</th><th scope=col>&lt;dbl&gt;</th><th scope=col>&lt;dbl&gt;</th><th scope=col>&lt;dbl&gt;</th><th scope=col>&lt;dbl&gt;</th><th scope=col>&lt;time&gt;</th><th scope=col>&lt;dbl&gt;</th></tr>\n",
       "</thead>\n",
       "<tbody>\n",
       "\t<tr><td>RD</td><td>I</td><td>01</td><td>003</td><td>0010</td><td>88101</td><td>1</td><td>7</td><td>105</td><td>118</td><td>20120101</td><td>00:00:00</td><td>6.7</td></tr>\n",
       "\t<tr><td>RD</td><td>I</td><td>01</td><td>003</td><td>0010</td><td>88101</td><td>1</td><td>7</td><td>105</td><td>118</td><td>20120104</td><td>00:00:00</td><td>9.0</td></tr>\n",
       "\t<tr><td>RD</td><td>I</td><td>01</td><td>003</td><td>0010</td><td>88101</td><td>1</td><td>7</td><td>105</td><td>118</td><td>20120107</td><td>00:00:00</td><td>6.5</td></tr>\n",
       "\t<tr><td>RD</td><td>I</td><td>01</td><td>003</td><td>0010</td><td>88101</td><td>1</td><td>7</td><td>105</td><td>118</td><td>20120110</td><td>00:00:00</td><td>7.0</td></tr>\n",
       "\t<tr><td>RD</td><td>I</td><td>01</td><td>003</td><td>0010</td><td>88101</td><td>1</td><td>7</td><td>105</td><td>118</td><td>20120113</td><td>00:00:00</td><td>5.8</td></tr>\n",
       "\t<tr><td>RD</td><td>I</td><td>01</td><td>003</td><td>0010</td><td>88101</td><td>1</td><td>7</td><td>105</td><td>118</td><td>20120116</td><td>00:00:00</td><td>8.0</td></tr>\n",
       "</tbody>\n",
       "</table>\n"
      ],
      "text/latex": [
       "A tibble: 6 × 13\n",
       "\\begin{tabular}{lllllllllllll}\n",
       " X..RD & Action.Code & State.Code & County.Code & Site.ID & Parameter & POC & Sample.Duration & Unit & Method & Date & Start.Time & Sample.Value\\\\\n",
       " <chr> & <chr> & <chr> & <chr> & <chr> & <dbl> & <dbl> & <dbl> & <dbl> & <dbl> & <dbl> & <time> & <dbl>\\\\\n",
       "\\hline\n",
       "\t RD & I & 01 & 003 & 0010 & 88101 & 1 & 7 & 105 & 118 & 20120101 & 00:00:00 & 6.7\\\\\n",
       "\t RD & I & 01 & 003 & 0010 & 88101 & 1 & 7 & 105 & 118 & 20120104 & 00:00:00 & 9.0\\\\\n",
       "\t RD & I & 01 & 003 & 0010 & 88101 & 1 & 7 & 105 & 118 & 20120107 & 00:00:00 & 6.5\\\\\n",
       "\t RD & I & 01 & 003 & 0010 & 88101 & 1 & 7 & 105 & 118 & 20120110 & 00:00:00 & 7.0\\\\\n",
       "\t RD & I & 01 & 003 & 0010 & 88101 & 1 & 7 & 105 & 118 & 20120113 & 00:00:00 & 5.8\\\\\n",
       "\t RD & I & 01 & 003 & 0010 & 88101 & 1 & 7 & 105 & 118 & 20120116 & 00:00:00 & 8.0\\\\\n",
       "\\end{tabular}\n"
      ],
      "text/markdown": [
       "\n",
       "A tibble: 6 × 13\n",
       "\n",
       "| X..RD &lt;chr&gt; | Action.Code &lt;chr&gt; | State.Code &lt;chr&gt; | County.Code &lt;chr&gt; | Site.ID &lt;chr&gt; | Parameter &lt;dbl&gt; | POC &lt;dbl&gt; | Sample.Duration &lt;dbl&gt; | Unit &lt;dbl&gt; | Method &lt;dbl&gt; | Date &lt;dbl&gt; | Start.Time &lt;time&gt; | Sample.Value &lt;dbl&gt; |\n",
       "|---|---|---|---|---|---|---|---|---|---|---|---|---|\n",
       "| RD | I | 01 | 003 | 0010 | 88101 | 1 | 7 | 105 | 118 | 20120101 | 00:00:00 | 6.7 |\n",
       "| RD | I | 01 | 003 | 0010 | 88101 | 1 | 7 | 105 | 118 | 20120104 | 00:00:00 | 9.0 |\n",
       "| RD | I | 01 | 003 | 0010 | 88101 | 1 | 7 | 105 | 118 | 20120107 | 00:00:00 | 6.5 |\n",
       "| RD | I | 01 | 003 | 0010 | 88101 | 1 | 7 | 105 | 118 | 20120110 | 00:00:00 | 7.0 |\n",
       "| RD | I | 01 | 003 | 0010 | 88101 | 1 | 7 | 105 | 118 | 20120113 | 00:00:00 | 5.8 |\n",
       "| RD | I | 01 | 003 | 0010 | 88101 | 1 | 7 | 105 | 118 | 20120116 | 00:00:00 | 8.0 |\n",
       "\n"
      ],
      "text/plain": [
       "  X..RD Action.Code State.Code County.Code Site.ID Parameter POC\n",
       "1 RD    I           01         003         0010    88101     1  \n",
       "2 RD    I           01         003         0010    88101     1  \n",
       "3 RD    I           01         003         0010    88101     1  \n",
       "4 RD    I           01         003         0010    88101     1  \n",
       "5 RD    I           01         003         0010    88101     1  \n",
       "6 RD    I           01         003         0010    88101     1  \n",
       "  Sample.Duration Unit Method Date     Start.Time Sample.Value\n",
       "1 7               105  118    20120101 00:00:00   6.7         \n",
       "2 7               105  118    20120104 00:00:00   9.0         \n",
       "3 7               105  118    20120107 00:00:00   6.5         \n",
       "4 7               105  118    20120110 00:00:00   7.0         \n",
       "5 7               105  118    20120113 00:00:00   5.8         \n",
       "6 7               105  118    20120116 00:00:00   8.0         "
      ]
     },
     "metadata": {},
     "output_type": "display_data"
    },
    {
     "data": {
      "text/plain": [
       "\n",
       "     RD \n",
       "1304287 "
      ]
     },
     "metadata": {},
     "output_type": "display_data"
    }
   ],
   "source": [
    "# similar checks\n",
    "\n",
    "dim(pm1)\n",
    "head(pm1[,1:13])\n",
    "\n",
    "# make sure we don't need to notice that the file was overloaded\n",
    "# with \"RC\" records that had different fields\n",
    "table(pm1$X..RD)"
   ]
  },
  {
   "cell_type": "code",
   "execution_count": 6,
   "metadata": {
    "vscode": {
     "languageId": "r"
    }
   },
   "outputs": [
    {
     "data": {
      "text/plain": [
       "   Min. 1st Qu.  Median    Mean 3rd Qu.    Max.    NA's \n",
       " -10.00    4.00    7.63    9.14   12.00  908.97   73133 "
      ]
     },
     "metadata": {},
     "output_type": "display_data"
    },
    {
     "data": {
      "text/html": [
       "0.0560712481225374"
      ],
      "text/latex": [
       "0.0560712481225374"
      ],
      "text/markdown": [
       "0.0560712481225374"
      ],
      "text/plain": [
       "[1] 0.05607125"
      ]
     },
     "metadata": {},
     "output_type": "display_data"
    }
   ],
   "source": [
    "# check target variable\n",
    "\n",
    "x1 <- pm1$Sample.Value\n",
    "summary(x1)\n",
    "\n",
    "# 11% of values are missing\n",
    "sum(is.na(x1)) / nrow(pm1)"
   ]
  },
  {
   "cell_type": "code",
   "execution_count": 7,
   "metadata": {
    "vscode": {
     "languageId": "r"
    }
   },
   "outputs": [
    {
     "name": "stderr",
     "output_type": "stream",
     "text": [
      "\n",
      "Attaching package: 'dplyr'\n",
      "\n",
      "\n",
      "The following objects are masked from 'package:stats':\n",
      "\n",
      "    filter, lag\n",
      "\n",
      "\n",
      "The following objects are masked from 'package:base':\n",
      "\n",
      "    intersect, setdiff, setequal, union\n",
      "\n",
      "\n"
     ]
    }
   ],
   "source": [
    "library(dplyr)"
   ]
  },
  {
   "cell_type": "code",
   "execution_count": 8,
   "metadata": {
    "vscode": {
     "languageId": "r"
    }
   },
   "outputs": [],
   "source": [
    "pm <- rbind(pm0, pm1)\n",
    "pm <- mutate(pm, year = factor(substr(format(pm$Date),1,4))) %>%\n",
    "      mutate(month = factor(substr(format(pm$Date),5,6))) %>%\n",
    "      mutate(yearmonth = factor(substr(format(pm$Date),1,6))) %>%\n",
    "      rename(PM = Sample.Value)"
   ]
  },
  {
   "cell_type": "code",
   "execution_count": 9,
   "metadata": {
    "vscode": {
     "languageId": "r"
    }
   },
   "outputs": [
    {
     "data": {
      "text/html": [
       "<table class=\"dataframe\">\n",
       "<caption>A tibble: 3 × 7</caption>\n",
       "<thead>\n",
       "\t<tr><th scope=col>X..RD</th><th scope=col>Date</th><th scope=col>Start.Time</th><th scope=col>PM</th><th scope=col>year</th><th scope=col>month</th><th scope=col>yearmonth</th></tr>\n",
       "\t<tr><th scope=col>&lt;chr&gt;</th><th scope=col>&lt;dbl&gt;</th><th scope=col>&lt;time&gt;</th><th scope=col>&lt;dbl&gt;</th><th scope=col>&lt;fct&gt;</th><th scope=col>&lt;fct&gt;</th><th scope=col>&lt;fct&gt;</th></tr>\n",
       "</thead>\n",
       "<tbody>\n",
       "\t<tr><td>RD</td><td>19990103</td><td>00:00:00</td><td>NA</td><td>1999</td><td>01</td><td>199901</td></tr>\n",
       "\t<tr><td>RD</td><td>19990106</td><td>00:00:00</td><td>NA</td><td>1999</td><td>01</td><td>199901</td></tr>\n",
       "\t<tr><td>RD</td><td>19990109</td><td>00:00:00</td><td>NA</td><td>1999</td><td>01</td><td>199901</td></tr>\n",
       "</tbody>\n",
       "</table>\n"
      ],
      "text/latex": [
       "A tibble: 3 × 7\n",
       "\\begin{tabular}{lllllll}\n",
       " X..RD & Date & Start.Time & PM & year & month & yearmonth\\\\\n",
       " <chr> & <dbl> & <time> & <dbl> & <fct> & <fct> & <fct>\\\\\n",
       "\\hline\n",
       "\t RD & 19990103 & 00:00:00 & NA & 1999 & 01 & 199901\\\\\n",
       "\t RD & 19990106 & 00:00:00 & NA & 1999 & 01 & 199901\\\\\n",
       "\t RD & 19990109 & 00:00:00 & NA & 1999 & 01 & 199901\\\\\n",
       "\\end{tabular}\n"
      ],
      "text/markdown": [
       "\n",
       "A tibble: 3 × 7\n",
       "\n",
       "| X..RD &lt;chr&gt; | Date &lt;dbl&gt; | Start.Time &lt;time&gt; | PM &lt;dbl&gt; | year &lt;fct&gt; | month &lt;fct&gt; | yearmonth &lt;fct&gt; |\n",
       "|---|---|---|---|---|---|---|\n",
       "| RD | 19990103 | 00:00:00 | NA | 1999 | 01 | 199901 |\n",
       "| RD | 19990106 | 00:00:00 | NA | 1999 | 01 | 199901 |\n",
       "| RD | 19990109 | 00:00:00 | NA | 1999 | 01 | 199901 |\n",
       "\n"
      ],
      "text/plain": [
       "  X..RD Date     Start.Time PM year month yearmonth\n",
       "1 RD    19990103 00:00:00   NA 1999 01    199901   \n",
       "2 RD    19990106 00:00:00   NA 1999 01    199901   \n",
       "3 RD    19990109 00:00:00   NA 1999 01    199901   "
      ]
     },
     "metadata": {},
     "output_type": "display_data"
    },
    {
     "data": {
      "text/html": [
       "<table class=\"dataframe\">\n",
       "<caption>A tibble: 3 × 7</caption>\n",
       "<thead>\n",
       "\t<tr><th scope=col>X..RD</th><th scope=col>Date</th><th scope=col>Start.Time</th><th scope=col>PM</th><th scope=col>year</th><th scope=col>month</th><th scope=col>yearmonth</th></tr>\n",
       "\t<tr><th scope=col>&lt;chr&gt;</th><th scope=col>&lt;dbl&gt;</th><th scope=col>&lt;time&gt;</th><th scope=col>&lt;dbl&gt;</th><th scope=col>&lt;fct&gt;</th><th scope=col>&lt;fct&gt;</th><th scope=col>&lt;fct&gt;</th></tr>\n",
       "</thead>\n",
       "<tbody>\n",
       "\t<tr><td>RD</td><td>20120623</td><td>00:00:00</td><td>9.0</td><td>2012</td><td>06</td><td>201206</td></tr>\n",
       "\t<tr><td>RD</td><td>20120626</td><td>00:00:00</td><td>7.9</td><td>2012</td><td>06</td><td>201206</td></tr>\n",
       "\t<tr><td>RD</td><td>20120629</td><td>00:00:00</td><td>7.4</td><td>2012</td><td>06</td><td>201206</td></tr>\n",
       "</tbody>\n",
       "</table>\n"
      ],
      "text/latex": [
       "A tibble: 3 × 7\n",
       "\\begin{tabular}{lllllll}\n",
       " X..RD & Date & Start.Time & PM & year & month & yearmonth\\\\\n",
       " <chr> & <dbl> & <time> & <dbl> & <fct> & <fct> & <fct>\\\\\n",
       "\\hline\n",
       "\t RD & 20120623 & 00:00:00 & 9.0 & 2012 & 06 & 201206\\\\\n",
       "\t RD & 20120626 & 00:00:00 & 7.9 & 2012 & 06 & 201206\\\\\n",
       "\t RD & 20120629 & 00:00:00 & 7.4 & 2012 & 06 & 201206\\\\\n",
       "\\end{tabular}\n"
      ],
      "text/markdown": [
       "\n",
       "A tibble: 3 × 7\n",
       "\n",
       "| X..RD &lt;chr&gt; | Date &lt;dbl&gt; | Start.Time &lt;time&gt; | PM &lt;dbl&gt; | year &lt;fct&gt; | month &lt;fct&gt; | yearmonth &lt;fct&gt; |\n",
       "|---|---|---|---|---|---|---|\n",
       "| RD | 20120623 | 00:00:00 | 9.0 | 2012 | 06 | 201206 |\n",
       "| RD | 20120626 | 00:00:00 | 7.9 | 2012 | 06 | 201206 |\n",
       "| RD | 20120629 | 00:00:00 | 7.4 | 2012 | 06 | 201206 |\n",
       "\n"
      ],
      "text/plain": [
       "  X..RD Date     Start.Time PM  year month yearmonth\n",
       "1 RD    20120623 00:00:00   9.0 2012 06    201206   \n",
       "2 RD    20120626 00:00:00   7.9 2012 06    201206   \n",
       "3 RD    20120629 00:00:00   7.4 2012 06    201206   "
      ]
     },
     "metadata": {},
     "output_type": "display_data"
    }
   ],
   "source": [
    "head(pm[,c(1, 11:13,29:31)],3)\n",
    "tail(pm[,c(1, 11:13,29:31)],3)"
   ]
  },
  {
   "cell_type": "markdown",
   "metadata": {
    "vscode": {
     "languageId": "r"
    }
   },
   "source": [
    "# Entire U.S. Analysis"
   ]
  },
  {
   "cell_type": "code",
   "execution_count": 10,
   "metadata": {
    "vscode": {
     "languageId": "r"
    }
   },
   "outputs": [
    {
     "name": "stderr",
     "output_type": "stream",
     "text": [
      "Warning message in FUN(X[[i]], ...):\n",
      "\"NaNs produced\"\n",
      "Warning message in FUN(X[[i]], ...):\n",
      "\"NaNs produced\"\n",
      "Warning message:\n",
      "\"\u001b[1m\u001b[22mRemoved 143164 rows containing non-finite values (`stat_boxplot()`).\"\n"
     ]
    },
    {
     "data": {
      "image/png": "[encoded data removed]",
      "text/plain": [
       "plot without title"
      ]
     },
     "metadata": {
      "image/png": {
       "height": 420,
       "width": 840
      }
     },
     "output_type": "display_data"
    }
   ],
   "source": [
    "library(ggplot2)\n",
    "\n",
    "# just look at a random subset becuase it is faster\n",
    "set.seed(2015)\n",
    "idx <- sample(nrow(pm), 1000)\n",
    "\n",
    "options(repr.plot.width=14)\n",
    "ggplot() + geom_boxplot(data = pm, aes(yearmonth, log2(PM), color = year))"
   ]
  }
 ],
 "metadata": {
  "kernelspec": {
   "display_name": "R",
   "language": "R",
   "name": "ir"
  },
  "language_info": {
   "codemirror_mode": "r",
   "file_extension": ".r",
   "mimetype": "text/x-r-source",
   "name": "R",
   "pygments_lexer": "r",
   "version": "4.3.0"
  },
  "orig_nbformat": 4
 },
 "nbformat": 4,
 "nbformat_minor": 2
}
